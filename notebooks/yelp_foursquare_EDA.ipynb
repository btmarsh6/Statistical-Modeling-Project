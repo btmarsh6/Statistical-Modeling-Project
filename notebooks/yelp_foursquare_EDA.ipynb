{
 "cells": [
  {
   "cell_type": "code",
   "execution_count": 1,
   "metadata": {},
   "outputs": [],
   "source": [
    "# imports\n",
    "import requests\n",
    "import json\n",
    "import pandas as pd\n",
    "import numpy as np\n",
    "import matplotlib.pyplot as plt\n",
    "import seaborn as sns\n",
    "import os"
   ]
  },
  {
   "cell_type": "markdown",
   "metadata": {},
   "source": [
    "# Foursquare"
   ]
  },
  {
   "cell_type": "markdown",
   "metadata": {},
   "source": [
    "Send a request to Foursquare with a small radius (1000m) for all the bike stations in your city of choice. "
   ]
  },
  {
   "attachments": {},
   "cell_type": "markdown",
   "metadata": {},
   "source": [
    "10000 - arts and entertainment\n",
    "\n",
    "12009 - education\n",
    "12004 - community center\n",
    "12080 - library\n",
    "19046 - metro station\n",
    "15014 - hospital\n",
    "\n",
    "\n",
    "13032 - cafes, coffee, tea houses\n",
    "13029 - brewery\n",
    "13003 - bar\n",
    "13065 - restaurant\n",
    "\n",
    "16000 - landmarks and outdoors\n",
    "18000 - sports and rec\n",
    "\n",
    "17000 - retail"
   ]
  },
  {
   "cell_type": "code",
   "execution_count": 12,
   "metadata": {},
   "outputs": [
    {
     "name": "stdout",
     "output_type": "stream",
     "text": [
      "400\n"
     ]
    }
   ],
   "source": [
    "fs_api_key = os.environ['FOURSQUARE_KEY_2']\n",
    "\n",
    "location = '49.262487%2C-123.114397'\n",
    "url = \"https://api.foursquare.com/v3/places/search?radius=400&categories=10000%2C12009%2C12004%2C12080%2C13032%2C13029%2C13003%2C13065%2C16000%2C17000%2C18000%2C19046%2C15014&limit=50&ll=\" + location\n",
    "\n",
    "headers = {\"accept\": \"application/json\",\n",
    "           'Authorization': fs_api_key}\n",
    "\n",
    "response = requests.get(url, headers=headers)\n",
    "\n",
    "print(response.status_code)"
   ]
  },
  {
   "cell_type": "code",
   "execution_count": 7,
   "metadata": {},
   "outputs": [
    {
     "data": {
      "text/plain": [
       "{'fsq_id': '4aa73d25f964a520704c20e3',\n",
       " 'categories': [{'id': 17069,\n",
       "   'name': 'Grocery Store / Supermarket',\n",
       "   'icon': {'prefix': 'https://ss3.4sqi.net/img/categories_v2/shops/food_grocery_',\n",
       "    'suffix': '.png'}},\n",
       "  {'id': 17071,\n",
       "   'name': 'Health Food Store',\n",
       "   'icon': {'prefix': 'https://ss3.4sqi.net/img/categories_v2/shops/food_grocery_',\n",
       "    'suffix': '.png'}},\n",
       "  {'id': 17077,\n",
       "   'name': 'Meat and Seafood Store',\n",
       "   'icon': {'prefix': 'https://ss3.4sqi.net/img/categories_v2/shops/foodanddrink_',\n",
       "    'suffix': '.png'}}],\n",
       " 'chains': [],\n",
       " 'distance': 182,\n",
       " 'geocodes': {'main': {'latitude': 49.263957, 'longitude': -123.115209},\n",
       "  'roof': {'latitude': 49.263957, 'longitude': -123.115209}},\n",
       " 'link': '/v3/places/4aa73d25f964a520704c20e3',\n",
       " 'location': {'address': '510 8th Ave W',\n",
       "  'country': 'CA',\n",
       "  'cross_street': 'at Cambie St',\n",
       "  'formatted_address': '510 8th Ave W (at Cambie St), Vancouver BC V5Z 1C5',\n",
       "  'locality': 'Vancouver',\n",
       "  'postcode': 'V5Z 1C5',\n",
       "  'region': 'BC'},\n",
       " 'name': 'Whole Foods',\n",
       " 'related_places': {'children': [{'fsq_id': '61a828687b754c29454aea58',\n",
       "    'name': 'Liberty Wine Merchants'}]},\n",
       " 'timezone': 'America/Vancouver'}"
      ]
     },
     "execution_count": 7,
     "metadata": {},
     "output_type": "execute_result"
    }
   ],
   "source": [
    "response.json()['results'][0]"
   ]
  },
  {
   "cell_type": "code",
   "execution_count": 10,
   "metadata": {},
   "outputs": [
    {
     "data": {
      "text/plain": [
       "50"
      ]
     },
     "execution_count": 10,
     "metadata": {},
     "output_type": "execute_result"
    }
   ],
   "source": [
    "len(response.json()['results'])"
   ]
  },
  {
   "cell_type": "markdown",
   "metadata": {},
   "source": [
    "Parse through the response to get the POI (such as restaurants, bars, etc) details you want (ratings, name, location, etc)"
   ]
  },
  {
   "cell_type": "code",
   "execution_count": null,
   "metadata": {},
   "outputs": [],
   "source": []
  },
  {
   "cell_type": "markdown",
   "metadata": {},
   "source": [
    "Put your parsed results into a DataFrame"
   ]
  },
  {
   "cell_type": "code",
   "execution_count": null,
   "metadata": {},
   "outputs": [],
   "source": []
  },
  {
   "cell_type": "markdown",
   "metadata": {},
   "source": [
    "# Yelp"
   ]
  },
  {
   "cell_type": "markdown",
   "metadata": {},
   "source": [
    "Send a request to Yelp with a small radius (1000m) for all the bike stations in your city of choice. "
   ]
  },
  {
   "attachments": {},
   "cell_type": "markdown",
   "metadata": {},
   "source": [
    "active\n",
    "arts\n",
    "education\n",
    "breweries\n",
    "hospitals\n",
    "medcenters\n",
    "metrostations\n",
    "bars\n",
    "communitycenters\n",
    "landmarks\n",
    "libraries\n",
    "religiousorgs\n",
    "restaurants\n",
    "shopping"
   ]
  },
  {
   "cell_type": "code",
   "execution_count": null,
   "metadata": {},
   "outputs": [],
   "source": []
  },
  {
   "cell_type": "markdown",
   "metadata": {},
   "source": [
    "Parse through the response to get the POI (such as restaurants, bars, etc) details you want (ratings, name, location, etc)"
   ]
  },
  {
   "cell_type": "code",
   "execution_count": null,
   "metadata": {},
   "outputs": [],
   "source": []
  },
  {
   "cell_type": "markdown",
   "metadata": {},
   "source": [
    "Put your parsed results into a DataFrame"
   ]
  },
  {
   "cell_type": "markdown",
   "metadata": {},
   "source": []
  },
  {
   "cell_type": "markdown",
   "metadata": {},
   "source": [
    "# Comparing Results"
   ]
  },
  {
   "cell_type": "markdown",
   "metadata": {},
   "source": [
    "Which API provided you with more complete data? Provide an explanation. "
   ]
  },
  {
   "cell_type": "markdown",
   "metadata": {},
   "source": []
  },
  {
   "cell_type": "markdown",
   "metadata": {},
   "source": [
    "Get the top 10 restaurants according to their rating"
   ]
  },
  {
   "cell_type": "code",
   "execution_count": null,
   "metadata": {},
   "outputs": [],
   "source": []
  }
 ],
 "metadata": {
  "kernelspec": {
   "display_name": "Python 3",
   "language": "python",
   "name": "python3"
  },
  "language_info": {
   "codemirror_mode": {
    "name": "ipython",
    "version": 3
   },
   "file_extension": ".py",
   "mimetype": "text/x-python",
   "name": "python",
   "nbconvert_exporter": "python",
   "pygments_lexer": "ipython3",
   "version": "3.8.16"
  }
 },
 "nbformat": 4,
 "nbformat_minor": 4
}
