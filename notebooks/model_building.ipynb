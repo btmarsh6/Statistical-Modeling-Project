{
 "cells": [
  {
   "cell_type": "markdown",
   "metadata": {},
   "source": [
    "Build a regression model."
   ]
  },
  {
   "cell_type": "code",
   "execution_count": 3,
   "metadata": {},
   "outputs": [
    {
     "data": {
      "text/html": [
       "<div>\n",
       "<style scoped>\n",
       "    .dataframe tbody tr th:only-of-type {\n",
       "        vertical-align: middle;\n",
       "    }\n",
       "\n",
       "    .dataframe tbody tr th {\n",
       "        vertical-align: top;\n",
       "    }\n",
       "\n",
       "    .dataframe thead th {\n",
       "        text-align: right;\n",
       "    }\n",
       "</style>\n",
       "<table border=\"1\" class=\"dataframe\">\n",
       "  <thead>\n",
       "    <tr style=\"text-align: right;\">\n",
       "      <th></th>\n",
       "      <th>Station_name</th>\n",
       "      <th>Bikes</th>\n",
       "      <th>Arts &amp; Entertainment</th>\n",
       "      <th>Bars, Restaurants &amp; Cafes</th>\n",
       "      <th>Landmarks, Parks &amp; Sports</th>\n",
       "      <th>Municipal</th>\n",
       "      <th>Retail</th>\n",
       "      <th>Schools</th>\n",
       "      <th>Total POIs</th>\n",
       "    </tr>\n",
       "  </thead>\n",
       "  <tbody>\n",
       "    <tr>\n",
       "      <th>0</th>\n",
       "      <td>10th &amp; Cambie</td>\n",
       "      <td>35</td>\n",
       "      <td>26.0</td>\n",
       "      <td>93.0</td>\n",
       "      <td>76.0</td>\n",
       "      <td>4.0</td>\n",
       "      <td>99.0</td>\n",
       "      <td>4.0</td>\n",
       "      <td>302.0</td>\n",
       "    </tr>\n",
       "    <tr>\n",
       "      <th>1</th>\n",
       "      <td>10th &amp; Columbia</td>\n",
       "      <td>14</td>\n",
       "      <td>7.0</td>\n",
       "      <td>24.0</td>\n",
       "      <td>14.0</td>\n",
       "      <td>0.0</td>\n",
       "      <td>19.0</td>\n",
       "      <td>0.0</td>\n",
       "      <td>64.0</td>\n",
       "    </tr>\n",
       "    <tr>\n",
       "      <th>2</th>\n",
       "      <td>10th &amp; Commercial</td>\n",
       "      <td>26</td>\n",
       "      <td>8.0</td>\n",
       "      <td>41.0</td>\n",
       "      <td>8.0</td>\n",
       "      <td>2.0</td>\n",
       "      <td>27.0</td>\n",
       "      <td>1.0</td>\n",
       "      <td>87.0</td>\n",
       "    </tr>\n",
       "    <tr>\n",
       "      <th>3</th>\n",
       "      <td>10th &amp; Fraser</td>\n",
       "      <td>14</td>\n",
       "      <td>4.0</td>\n",
       "      <td>19.0</td>\n",
       "      <td>3.0</td>\n",
       "      <td>0.0</td>\n",
       "      <td>9.0</td>\n",
       "      <td>0.0</td>\n",
       "      <td>35.0</td>\n",
       "    </tr>\n",
       "    <tr>\n",
       "      <th>4</th>\n",
       "      <td>10th &amp; Granville</td>\n",
       "      <td>14</td>\n",
       "      <td>20.0</td>\n",
       "      <td>62.0</td>\n",
       "      <td>26.0</td>\n",
       "      <td>2.0</td>\n",
       "      <td>77.0</td>\n",
       "      <td>1.0</td>\n",
       "      <td>188.0</td>\n",
       "    </tr>\n",
       "  </tbody>\n",
       "</table>\n",
       "</div>"
      ],
      "text/plain": [
       "        Station_name  Bikes  Arts & Entertainment  Bars, Restaurants & Cafes  \\\n",
       "0      10th & Cambie     35                  26.0                       93.0   \n",
       "1    10th & Columbia     14                   7.0                       24.0   \n",
       "2  10th & Commercial     26                   8.0                       41.0   \n",
       "3      10th & Fraser     14                   4.0                       19.0   \n",
       "4   10th & Granville     14                  20.0                       62.0   \n",
       "\n",
       "   Landmarks, Parks & Sports  Municipal  Retail  Schools  Total POIs  \n",
       "0                       76.0        4.0    99.0      4.0       302.0  \n",
       "1                       14.0        0.0    19.0      0.0        64.0  \n",
       "2                        8.0        2.0    27.0      1.0        87.0  \n",
       "3                        3.0        0.0     9.0      0.0        35.0  \n",
       "4                       26.0        2.0    77.0      1.0       188.0  "
      ]
     },
     "execution_count": 3,
     "metadata": {},
     "output_type": "execute_result"
    }
   ],
   "source": [
    "import pandas as pd\n",
    "import numpy as np\n",
    "import matplotlib.pyplot as plt\n",
    "import seaborn as sns\n",
    "import plotly.express as px\n",
    "import statsmodels.api as sm\n",
    "\n",
    "sum_df = pd.read_csv('../data/sum_df.csv')\n",
    "sum_df.head()"
   ]
  },
  {
   "cell_type": "code",
   "execution_count": 10,
   "metadata": {},
   "outputs": [
    {
     "name": "stdout",
     "output_type": "stream",
     "text": [
      "                            OLS Regression Results                            \n",
      "==============================================================================\n",
      "Dep. Variable:                  Bikes   R-squared:                       0.029\n",
      "Model:                            OLS   Adj. R-squared:                  0.025\n",
      "Method:                 Least Squares   F-statistic:                     7.029\n",
      "Date:                Sun, 23 Apr 2023   Prob (F-statistic):            0.00856\n",
      "Time:                        21:47:44   Log-Likelihood:                -744.14\n",
      "No. Observations:                 241   AIC:                             1492.\n",
      "Df Residuals:                     239   BIC:                             1499.\n",
      "Df Model:                           1                                         \n",
      "Covariance Type:            nonrobust                                         \n",
      "=============================================================================================\n",
      "                                coef    std err          t      P>|t|      [0.025      0.975]\n",
      "---------------------------------------------------------------------------------------------\n",
      "const                        17.9758      0.486     36.988      0.000      17.018      18.933\n",
      "Landmarks, Parks & Sports     0.0465      0.018      2.651      0.009       0.012       0.081\n",
      "==============================================================================\n",
      "Omnibus:                       76.756   Durbin-Watson:                   1.793\n",
      "Prob(Omnibus):                  0.000   Jarque-Bera (JB):              175.276\n",
      "Skew:                           1.515   Prob(JB):                     8.69e-39\n",
      "Kurtosis:                       5.877   Cond. No.                         39.3\n",
      "==============================================================================\n",
      "\n",
      "Notes:\n",
      "[1] Standard Errors assume that the covariance matrix of the errors is correctly specified.\n"
     ]
    }
   ],
   "source": [
    "y = sum_df['Bikes']\n",
    "X = sum_df.drop(['Station_name', 'Bikes', 'Bars, Restaurants & Cafes', 'Retail', 'Schools', 'Total POIs', 'Arts & Entertainment', 'Municipal'], axis=1)\n",
    "X= sm.add_constant(X)\n",
    "\n",
    "model = sm.OLS(y,X)\n",
    "results = model.fit()\n",
    "print(results.summary())"
   ]
  },
  {
   "cell_type": "markdown",
   "metadata": {},
   "source": [
    "Provide model output and an interpretation of the results. "
   ]
  },
  {
   "cell_type": "code",
   "execution_count": null,
   "metadata": {},
   "outputs": [],
   "source": []
  },
  {
   "cell_type": "markdown",
   "metadata": {},
   "source": [
    "# Stretch"
   ]
  },
  {
   "cell_type": "markdown",
   "metadata": {},
   "source": [
    "How can you turn the regression model into a classification model?"
   ]
  },
  {
   "cell_type": "code",
   "execution_count": null,
   "metadata": {},
   "outputs": [],
   "source": []
  }
 ],
 "metadata": {
  "kernelspec": {
   "display_name": "Python 3",
   "language": "python",
   "name": "python3"
  },
  "language_info": {
   "codemirror_mode": {
    "name": "ipython",
    "version": 3
   },
   "file_extension": ".py",
   "mimetype": "text/x-python",
   "name": "python",
   "nbconvert_exporter": "python",
   "pygments_lexer": "ipython3",
   "version": "3.8.16"
  }
 },
 "nbformat": 4,
 "nbformat_minor": 4
}
