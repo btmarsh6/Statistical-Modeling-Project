{
 "cells": [
  {
   "cell_type": "code",
   "execution_count": 2,
   "metadata": {},
   "outputs": [],
   "source": [
    "import pandas as pd\n",
    "import numpy as np\n",
    "import sqlite3\n",
    "from sqlite3 import Error"
   ]
  },
  {
   "cell_type": "markdown",
   "metadata": {},
   "source": [
    "Join the data from Part 1 with the data from Part 2 to create a new dataframe."
   ]
  },
  {
   "cell_type": "code",
   "execution_count": 3,
   "metadata": {},
   "outputs": [],
   "source": [
    "bike_df = pd.read_csv('../data/bike_df')\n",
    "foursq_df = pd.read_csv('../data/foursquare_df_clean')\n",
    "yelp_df = pd.read_csv('../data/yelp_df_clean')"
   ]
  },
  {
   "cell_type": "code",
   "execution_count": 4,
   "metadata": {},
   "outputs": [
    {
     "name": "stdout",
     "output_type": "stream",
     "text": [
      "Foursquare shape: (18481, 6)/n Yelp shape: (18833, 8)\n"
     ]
    }
   ],
   "source": [
    "print(f'Foursquare shape: {foursq_df.shape}/n Yelp shape: {yelp_df.shape}')"
   ]
  },
  {
   "cell_type": "code",
   "execution_count": 5,
   "metadata": {},
   "outputs": [
    {
     "data": {
      "text/html": [
       "<div>\n",
       "<style scoped>\n",
       "    .dataframe tbody tr th:only-of-type {\n",
       "        vertical-align: middle;\n",
       "    }\n",
       "\n",
       "    .dataframe tbody tr th {\n",
       "        vertical-align: top;\n",
       "    }\n",
       "\n",
       "    .dataframe thead th {\n",
       "        text-align: right;\n",
       "    }\n",
       "</style>\n",
       "<table border=\"1\" class=\"dataframe\">\n",
       "  <thead>\n",
       "    <tr style=\"text-align: right;\">\n",
       "      <th></th>\n",
       "      <th>Category</th>\n",
       "      <th>Name</th>\n",
       "      <th>Rating</th>\n",
       "      <th>Reviews</th>\n",
       "      <th>Latitude</th>\n",
       "      <th>Longitude</th>\n",
       "      <th>Assc Bike Lat</th>\n",
       "      <th>Assc Bike Long</th>\n",
       "    </tr>\n",
       "  </thead>\n",
       "  <tbody>\n",
       "    <tr>\n",
       "      <th>0</th>\n",
       "      <td>Arts &amp; Entertainment</td>\n",
       "      <td>Aperture Coffee Bar</td>\n",
       "      <td>4.0</td>\n",
       "      <td>122</td>\n",
       "      <td>49.263204</td>\n",
       "      <td>-123.110470</td>\n",
       "      <td>49.262487</td>\n",
       "      <td>-123.114397</td>\n",
       "    </tr>\n",
       "    <tr>\n",
       "      <th>1</th>\n",
       "      <td>Arts &amp; Entertainment</td>\n",
       "      <td>Evolve Virtual Reality</td>\n",
       "      <td>4.0</td>\n",
       "      <td>13</td>\n",
       "      <td>49.263326</td>\n",
       "      <td>-123.113399</td>\n",
       "      <td>49.262487</td>\n",
       "      <td>-123.114397</td>\n",
       "    </tr>\n",
       "    <tr>\n",
       "      <th>2</th>\n",
       "      <td>Arts &amp; Entertainment</td>\n",
       "      <td>Under the Piano - Sound Spa for Body, Mind &amp; Soul</td>\n",
       "      <td>5.0</td>\n",
       "      <td>9</td>\n",
       "      <td>49.282239</td>\n",
       "      <td>-123.138425</td>\n",
       "      <td>49.262487</td>\n",
       "      <td>-123.114397</td>\n",
       "    </tr>\n",
       "    <tr>\n",
       "      <th>3</th>\n",
       "      <td>Arts &amp; Entertainment</td>\n",
       "      <td>V &amp; G Entertainment</td>\n",
       "      <td>5.0</td>\n",
       "      <td>10</td>\n",
       "      <td>49.260769</td>\n",
       "      <td>-123.092392</td>\n",
       "      <td>49.262487</td>\n",
       "      <td>-123.114397</td>\n",
       "    </tr>\n",
       "    <tr>\n",
       "      <th>4</th>\n",
       "      <td>Arts &amp; Entertainment</td>\n",
       "      <td>Hidden Wonders</td>\n",
       "      <td>5.0</td>\n",
       "      <td>12</td>\n",
       "      <td>49.202762</td>\n",
       "      <td>-122.909860</td>\n",
       "      <td>49.262487</td>\n",
       "      <td>-123.114397</td>\n",
       "    </tr>\n",
       "  </tbody>\n",
       "</table>\n",
       "</div>"
      ],
      "text/plain": [
       "               Category                                               Name  \\\n",
       "0  Arts & Entertainment                                Aperture Coffee Bar   \n",
       "1  Arts & Entertainment                             Evolve Virtual Reality   \n",
       "2  Arts & Entertainment  Under the Piano - Sound Spa for Body, Mind & Soul   \n",
       "3  Arts & Entertainment                                V & G Entertainment   \n",
       "4  Arts & Entertainment                                     Hidden Wonders   \n",
       "\n",
       "   Rating  Reviews   Latitude   Longitude  Assc Bike Lat  Assc Bike Long  \n",
       "0     4.0      122  49.263204 -123.110470      49.262487     -123.114397  \n",
       "1     4.0       13  49.263326 -123.113399      49.262487     -123.114397  \n",
       "2     5.0        9  49.282239 -123.138425      49.262487     -123.114397  \n",
       "3     5.0       10  49.260769 -123.092392      49.262487     -123.114397  \n",
       "4     5.0       12  49.202762 -122.909860      49.262487     -123.114397  "
      ]
     },
     "execution_count": 5,
     "metadata": {},
     "output_type": "execute_result"
    }
   ],
   "source": [
    "yelp_df.head()"
   ]
  },
  {
   "cell_type": "code",
   "execution_count": 6,
   "metadata": {},
   "outputs": [
    {
     "data": {
      "text/plain": [
       "Category           object\n",
       "Name               object\n",
       "Rating            float64\n",
       "Reviews             int64\n",
       "Latitude          float64\n",
       "Longitude         float64\n",
       "Assc Bike Lat     float64\n",
       "Assc Bike Long    float64\n",
       "dtype: object"
      ]
     },
     "execution_count": 6,
     "metadata": {},
     "output_type": "execute_result"
    }
   ],
   "source": [
    "yelp_df.dtypes"
   ]
  },
  {
   "cell_type": "code",
   "execution_count": 7,
   "metadata": {},
   "outputs": [
    {
     "data": {
      "text/plain": [
       "Category           object\n",
       "Name               object\n",
       "Latitude          float64\n",
       "Longitude         float64\n",
       "Assc Bike Lat     float64\n",
       "Assc Bike Long    float64\n",
       "dtype: object"
      ]
     },
     "execution_count": 7,
     "metadata": {},
     "output_type": "execute_result"
    }
   ],
   "source": [
    "foursq_df.dtypes"
   ]
  },
  {
   "cell_type": "code",
   "execution_count": 8,
   "metadata": {},
   "outputs": [
    {
     "data": {
      "text/html": [
       "<div>\n",
       "<style scoped>\n",
       "    .dataframe tbody tr th:only-of-type {\n",
       "        vertical-align: middle;\n",
       "    }\n",
       "\n",
       "    .dataframe tbody tr th {\n",
       "        vertical-align: top;\n",
       "    }\n",
       "\n",
       "    .dataframe thead th {\n",
       "        text-align: right;\n",
       "    }\n",
       "</style>\n",
       "<table border=\"1\" class=\"dataframe\">\n",
       "  <thead>\n",
       "    <tr style=\"text-align: right;\">\n",
       "      <th></th>\n",
       "      <th>Category</th>\n",
       "      <th>Name</th>\n",
       "      <th>Latitude</th>\n",
       "      <th>Longitude</th>\n",
       "      <th>Assc Bike Lat</th>\n",
       "      <th>Assc Bike Long</th>\n",
       "    </tr>\n",
       "  </thead>\n",
       "  <tbody>\n",
       "    <tr>\n",
       "      <th>0</th>\n",
       "      <td>Arts &amp; Entertainment</td>\n",
       "      <td>Yuk Yuk's Comedy Club</td>\n",
       "      <td>49.259982</td>\n",
       "      <td>-123.115276</td>\n",
       "      <td>49.262487</td>\n",
       "      <td>-123.114397</td>\n",
       "    </tr>\n",
       "    <tr>\n",
       "      <th>1</th>\n",
       "      <td>Arts &amp; Entertainment</td>\n",
       "      <td>Evolve Virtual Reality</td>\n",
       "      <td>49.263318</td>\n",
       "      <td>-123.113533</td>\n",
       "      <td>49.262487</td>\n",
       "      <td>-123.114397</td>\n",
       "    </tr>\n",
       "    <tr>\n",
       "      <th>2</th>\n",
       "      <td>Arts &amp; Entertainment</td>\n",
       "      <td>E-Exit Canada</td>\n",
       "      <td>49.262489</td>\n",
       "      <td>-123.111759</td>\n",
       "      <td>49.262487</td>\n",
       "      <td>-123.114397</td>\n",
       "    </tr>\n",
       "    <tr>\n",
       "      <th>3</th>\n",
       "      <td>Arts &amp; Entertainment</td>\n",
       "      <td>Bard on the Beach Shakespeare Festival Adminis...</td>\n",
       "      <td>49.263045</td>\n",
       "      <td>-123.113996</td>\n",
       "      <td>49.262487</td>\n",
       "      <td>-123.114397</td>\n",
       "    </tr>\n",
       "    <tr>\n",
       "      <th>4</th>\n",
       "      <td>Arts &amp; Entertainment</td>\n",
       "      <td>EXIT West Broadway</td>\n",
       "      <td>49.263328</td>\n",
       "      <td>-123.111344</td>\n",
       "      <td>49.262487</td>\n",
       "      <td>-123.114397</td>\n",
       "    </tr>\n",
       "  </tbody>\n",
       "</table>\n",
       "</div>"
      ],
      "text/plain": [
       "               Category                                               Name  \\\n",
       "0  Arts & Entertainment                              Yuk Yuk's Comedy Club   \n",
       "1  Arts & Entertainment                             Evolve Virtual Reality   \n",
       "2  Arts & Entertainment                                      E-Exit Canada   \n",
       "3  Arts & Entertainment  Bard on the Beach Shakespeare Festival Adminis...   \n",
       "4  Arts & Entertainment                                 EXIT West Broadway   \n",
       "\n",
       "    Latitude   Longitude  Assc Bike Lat  Assc Bike Long  \n",
       "0  49.259982 -123.115276      49.262487     -123.114397  \n",
       "1  49.263318 -123.113533      49.262487     -123.114397  \n",
       "2  49.262489 -123.111759      49.262487     -123.114397  \n",
       "3  49.263045 -123.113996      49.262487     -123.114397  \n",
       "4  49.263328 -123.111344      49.262487     -123.114397  "
      ]
     },
     "execution_count": 8,
     "metadata": {},
     "output_type": "execute_result"
    }
   ],
   "source": [
    "foursq_df.head()"
   ]
  },
  {
   "cell_type": "code",
   "execution_count": 9,
   "metadata": {},
   "outputs": [],
   "source": [
    "foursq_df['Longitude']= foursq_df['Longitude'].round(3)\n",
    "foursq_df['Latitude'] = foursq_df['Latitude'].round(3)\n",
    "yelp_df['Longitude']= yelp_df['Longitude'].round(3)\n",
    "yelp_df['Latitude'] = yelp_df['Latitude'].round(3)"
   ]
  },
  {
   "cell_type": "code",
   "execution_count": 10,
   "metadata": {},
   "outputs": [],
   "source": [
    "POI_df = pd.merge(foursq_df, yelp_df, how='outer', on=['Category', 'Name', 'Latitude', 'Longitude', 'Assc Bike Lat', 'Assc Bike Long'], indicator=True)"
   ]
  },
  {
   "cell_type": "code",
   "execution_count": 11,
   "metadata": {},
   "outputs": [
    {
     "data": {
      "text/plain": [
       "(35623, 9)"
      ]
     },
     "execution_count": 11,
     "metadata": {},
     "output_type": "execute_result"
    }
   ],
   "source": [
    "POI_df.shape"
   ]
  },
  {
   "cell_type": "code",
   "execution_count": 12,
   "metadata": {},
   "outputs": [
    {
     "data": {
      "text/html": [
       "<div>\n",
       "<style scoped>\n",
       "    .dataframe tbody tr th:only-of-type {\n",
       "        vertical-align: middle;\n",
       "    }\n",
       "\n",
       "    .dataframe tbody tr th {\n",
       "        vertical-align: top;\n",
       "    }\n",
       "\n",
       "    .dataframe thead th {\n",
       "        text-align: right;\n",
       "    }\n",
       "</style>\n",
       "<table border=\"1\" class=\"dataframe\">\n",
       "  <thead>\n",
       "    <tr style=\"text-align: right;\">\n",
       "      <th></th>\n",
       "      <th>Category</th>\n",
       "      <th>Name</th>\n",
       "      <th>Latitude</th>\n",
       "      <th>Longitude</th>\n",
       "      <th>Assc Bike Lat</th>\n",
       "      <th>Assc Bike Long</th>\n",
       "      <th>Rating</th>\n",
       "      <th>Reviews</th>\n",
       "      <th>_merge</th>\n",
       "    </tr>\n",
       "  </thead>\n",
       "  <tbody>\n",
       "    <tr>\n",
       "      <th>25002</th>\n",
       "      <td>Landmarks, Parks &amp; Sports</td>\n",
       "      <td>Nine O'Clock Gun</td>\n",
       "      <td>49.299</td>\n",
       "      <td>-123.117</td>\n",
       "      <td>49.298657</td>\n",
       "      <td>-123.121176</td>\n",
       "      <td>4.5</td>\n",
       "      <td>8.0</td>\n",
       "      <td>right_only</td>\n",
       "    </tr>\n",
       "    <tr>\n",
       "      <th>25008</th>\n",
       "      <td>Landmarks, Parks &amp; Sports</td>\n",
       "      <td>Port of Vancouver Monument</td>\n",
       "      <td>49.301</td>\n",
       "      <td>-123.117</td>\n",
       "      <td>49.298657</td>\n",
       "      <td>-123.121176</td>\n",
       "      <td>4.0</td>\n",
       "      <td>1.0</td>\n",
       "      <td>right_only</td>\n",
       "    </tr>\n",
       "    <tr>\n",
       "      <th>25001</th>\n",
       "      <td>Landmarks, Parks &amp; Sports</td>\n",
       "      <td>Shore to Shore</td>\n",
       "      <td>49.299</td>\n",
       "      <td>-123.121</td>\n",
       "      <td>49.298657</td>\n",
       "      <td>-123.121176</td>\n",
       "      <td>5.0</td>\n",
       "      <td>1.0</td>\n",
       "      <td>right_only</td>\n",
       "    </tr>\n",
       "    <tr>\n",
       "      <th>25009</th>\n",
       "      <td>Retail</td>\n",
       "      <td>At the Totem Poles</td>\n",
       "      <td>49.299</td>\n",
       "      <td>-123.121</td>\n",
       "      <td>49.298657</td>\n",
       "      <td>-123.121176</td>\n",
       "      <td>5.0</td>\n",
       "      <td>1.0</td>\n",
       "      <td>right_only</td>\n",
       "    </tr>\n",
       "    <tr>\n",
       "      <th>7163</th>\n",
       "      <td>Arts &amp; Entertainment</td>\n",
       "      <td>4-D Experience</td>\n",
       "      <td>49.301</td>\n",
       "      <td>-123.131</td>\n",
       "      <td>49.299292</td>\n",
       "      <td>-123.130281</td>\n",
       "      <td>NaN</td>\n",
       "      <td>NaN</td>\n",
       "      <td>left_only</td>\n",
       "    </tr>\n",
       "    <tr>\n",
       "      <th>7162</th>\n",
       "      <td>Arts &amp; Entertainment</td>\n",
       "      <td>Malkin Bowl</td>\n",
       "      <td>49.299</td>\n",
       "      <td>-123.133</td>\n",
       "      <td>49.299292</td>\n",
       "      <td>-123.130281</td>\n",
       "      <td>NaN</td>\n",
       "      <td>NaN</td>\n",
       "      <td>left_only</td>\n",
       "    </tr>\n",
       "    <tr>\n",
       "      <th>7164</th>\n",
       "      <td>Arts &amp; Entertainment</td>\n",
       "      <td>Penguin Point</td>\n",
       "      <td>49.301</td>\n",
       "      <td>-123.132</td>\n",
       "      <td>49.299292</td>\n",
       "      <td>-123.130281</td>\n",
       "      <td>NaN</td>\n",
       "      <td>NaN</td>\n",
       "      <td>left_only</td>\n",
       "    </tr>\n",
       "    <tr>\n",
       "      <th>24981</th>\n",
       "      <td>Arts &amp; Entertainment</td>\n",
       "      <td>Rose Garden</td>\n",
       "      <td>49.300</td>\n",
       "      <td>-123.134</td>\n",
       "      <td>49.299292</td>\n",
       "      <td>-123.130281</td>\n",
       "      <td>3.5</td>\n",
       "      <td>5.0</td>\n",
       "      <td>right_only</td>\n",
       "    </tr>\n",
       "    <tr>\n",
       "      <th>7165</th>\n",
       "      <td>Arts &amp; Entertainment</td>\n",
       "      <td>Stanley Park Painters Circle</td>\n",
       "      <td>49.298</td>\n",
       "      <td>-123.132</td>\n",
       "      <td>49.299292</td>\n",
       "      <td>-123.130281</td>\n",
       "      <td>NaN</td>\n",
       "      <td>NaN</td>\n",
       "      <td>left_only</td>\n",
       "    </tr>\n",
       "    <tr>\n",
       "      <th>7166</th>\n",
       "      <td>Arts &amp; Entertainment</td>\n",
       "      <td>Theatre Under the Stars</td>\n",
       "      <td>49.300</td>\n",
       "      <td>-123.134</td>\n",
       "      <td>49.299292</td>\n",
       "      <td>-123.130281</td>\n",
       "      <td>NaN</td>\n",
       "      <td>NaN</td>\n",
       "      <td>left_only</td>\n",
       "    </tr>\n",
       "    <tr>\n",
       "      <th>24980</th>\n",
       "      <td>Arts &amp; Entertainment</td>\n",
       "      <td>Theatre Under the Stars</td>\n",
       "      <td>49.298</td>\n",
       "      <td>-123.133</td>\n",
       "      <td>49.299292</td>\n",
       "      <td>-123.130281</td>\n",
       "      <td>4.5</td>\n",
       "      <td>15.0</td>\n",
       "      <td>right_only</td>\n",
       "    </tr>\n",
       "    <tr>\n",
       "      <th>7160</th>\n",
       "      <td>Arts &amp; Entertainment</td>\n",
       "      <td>Vancouver Aquarium</td>\n",
       "      <td>49.300</td>\n",
       "      <td>-123.131</td>\n",
       "      <td>49.299292</td>\n",
       "      <td>-123.130281</td>\n",
       "      <td>NaN</td>\n",
       "      <td>NaN</td>\n",
       "      <td>left_only</td>\n",
       "    </tr>\n",
       "    <tr>\n",
       "      <th>7161</th>\n",
       "      <td>Arts &amp; Entertainment</td>\n",
       "      <td>Vancouver Aquarium</td>\n",
       "      <td>49.300</td>\n",
       "      <td>-123.131</td>\n",
       "      <td>49.299292</td>\n",
       "      <td>-123.130281</td>\n",
       "      <td>NaN</td>\n",
       "      <td>NaN</td>\n",
       "      <td>left_only</td>\n",
       "    </tr>\n",
       "    <tr>\n",
       "      <th>24983</th>\n",
       "      <td>Bars, Restaurants &amp; Cafes</td>\n",
       "      <td>Aquarium Cafe</td>\n",
       "      <td>49.301</td>\n",
       "      <td>-123.129</td>\n",
       "      <td>49.299292</td>\n",
       "      <td>-123.130281</td>\n",
       "      <td>4.5</td>\n",
       "      <td>3.0</td>\n",
       "      <td>right_only</td>\n",
       "    </tr>\n",
       "    <tr>\n",
       "      <th>7168</th>\n",
       "      <td>Bars, Restaurants &amp; Cafes</td>\n",
       "      <td>Bicycle Bistro</td>\n",
       "      <td>49.300</td>\n",
       "      <td>-123.131</td>\n",
       "      <td>49.299292</td>\n",
       "      <td>-123.130281</td>\n",
       "      <td>NaN</td>\n",
       "      <td>NaN</td>\n",
       "      <td>left_only</td>\n",
       "    </tr>\n",
       "    <tr>\n",
       "      <th>24984</th>\n",
       "      <td>Bars, Restaurants &amp; Cafes</td>\n",
       "      <td>Stanley's Bar &amp; Grill</td>\n",
       "      <td>49.300</td>\n",
       "      <td>-123.134</td>\n",
       "      <td>49.299292</td>\n",
       "      <td>-123.130281</td>\n",
       "      <td>3.0</td>\n",
       "      <td>103.0</td>\n",
       "      <td>right_only</td>\n",
       "    </tr>\n",
       "    <tr>\n",
       "      <th>7167</th>\n",
       "      <td>Bars, Restaurants &amp; Cafes</td>\n",
       "      <td>Vancouver Aquarium Cafe</td>\n",
       "      <td>49.300</td>\n",
       "      <td>-123.131</td>\n",
       "      <td>49.299292</td>\n",
       "      <td>-123.130281</td>\n",
       "      <td>NaN</td>\n",
       "      <td>NaN</td>\n",
       "      <td>left_only</td>\n",
       "    </tr>\n",
       "    <tr>\n",
       "      <th>24982</th>\n",
       "      <td>Bars, Restaurants &amp; Cafes</td>\n",
       "      <td>ocean wise cafe</td>\n",
       "      <td>49.300</td>\n",
       "      <td>-123.131</td>\n",
       "      <td>49.299292</td>\n",
       "      <td>-123.130281</td>\n",
       "      <td>4.0</td>\n",
       "      <td>1.0</td>\n",
       "      <td>right_only</td>\n",
       "    </tr>\n",
       "    <tr>\n",
       "      <th>24990</th>\n",
       "      <td>Landmarks, Parks &amp; Sports</td>\n",
       "      <td>Garden Of Remembrance - Air Force</td>\n",
       "      <td>49.300</td>\n",
       "      <td>-123.134</td>\n",
       "      <td>49.299292</td>\n",
       "      <td>-123.130281</td>\n",
       "      <td>0.0</td>\n",
       "      <td>0.0</td>\n",
       "      <td>right_only</td>\n",
       "    </tr>\n",
       "    <tr>\n",
       "      <th>24988</th>\n",
       "      <td>Landmarks, Parks &amp; Sports</td>\n",
       "      <td>Harding Memorial</td>\n",
       "      <td>49.299</td>\n",
       "      <td>-123.134</td>\n",
       "      <td>49.299292</td>\n",
       "      <td>-123.130281</td>\n",
       "      <td>4.0</td>\n",
       "      <td>1.0</td>\n",
       "      <td>right_only</td>\n",
       "    </tr>\n",
       "    <tr>\n",
       "      <th>7174</th>\n",
       "      <td>Landmarks, Parks &amp; Sports</td>\n",
       "      <td>Honor Roll</td>\n",
       "      <td>49.301</td>\n",
       "      <td>-123.132</td>\n",
       "      <td>49.299292</td>\n",
       "      <td>-123.130281</td>\n",
       "      <td>NaN</td>\n",
       "      <td>NaN</td>\n",
       "      <td>left_only</td>\n",
       "    </tr>\n",
       "    <tr>\n",
       "      <th>7173</th>\n",
       "      <td>Landmarks, Parks &amp; Sports</td>\n",
       "      <td>Japanese Canadian War Memoral</td>\n",
       "      <td>49.301</td>\n",
       "      <td>-123.132</td>\n",
       "      <td>49.299292</td>\n",
       "      <td>-123.130281</td>\n",
       "      <td>NaN</td>\n",
       "      <td>NaN</td>\n",
       "      <td>left_only</td>\n",
       "    </tr>\n",
       "    <tr>\n",
       "      <th>24989</th>\n",
       "      <td>Landmarks, Parks &amp; Sports</td>\n",
       "      <td>Japanese Canadian War Memorial</td>\n",
       "      <td>49.301</td>\n",
       "      <td>-123.132</td>\n",
       "      <td>49.299292</td>\n",
       "      <td>-123.130281</td>\n",
       "      <td>4.5</td>\n",
       "      <td>2.0</td>\n",
       "      <td>right_only</td>\n",
       "    </tr>\n",
       "    <tr>\n",
       "      <th>24987</th>\n",
       "      <td>Landmarks, Parks &amp; Sports</td>\n",
       "      <td>Modo Spring Run-Off 8k</td>\n",
       "      <td>49.300</td>\n",
       "      <td>-123.136</td>\n",
       "      <td>49.299292</td>\n",
       "      <td>-123.130281</td>\n",
       "      <td>5.0</td>\n",
       "      <td>1.0</td>\n",
       "      <td>right_only</td>\n",
       "    </tr>\n",
       "    <tr>\n",
       "      <th>7171</th>\n",
       "      <td>Landmarks, Parks &amp; Sports</td>\n",
       "      <td>Salmon Pool</td>\n",
       "      <td>49.298</td>\n",
       "      <td>-123.131</td>\n",
       "      <td>49.299292</td>\n",
       "      <td>-123.130281</td>\n",
       "      <td>NaN</td>\n",
       "      <td>NaN</td>\n",
       "      <td>left_only</td>\n",
       "    </tr>\n",
       "    <tr>\n",
       "      <th>24985</th>\n",
       "      <td>Landmarks, Parks &amp; Sports</td>\n",
       "      <td>Stanley Park</td>\n",
       "      <td>49.298</td>\n",
       "      <td>-123.131</td>\n",
       "      <td>49.299292</td>\n",
       "      <td>-123.130281</td>\n",
       "      <td>5.0</td>\n",
       "      <td>1079.0</td>\n",
       "      <td>right_only</td>\n",
       "    </tr>\n",
       "    <tr>\n",
       "      <th>7169</th>\n",
       "      <td>Landmarks, Parks &amp; Sports</td>\n",
       "      <td>Stanley Park Harbourfront Seawall</td>\n",
       "      <td>49.297</td>\n",
       "      <td>-123.131</td>\n",
       "      <td>49.299292</td>\n",
       "      <td>-123.130281</td>\n",
       "      <td>NaN</td>\n",
       "      <td>NaN</td>\n",
       "      <td>left_only</td>\n",
       "    </tr>\n",
       "    <tr>\n",
       "      <th>7172</th>\n",
       "      <td>Landmarks, Parks &amp; Sports</td>\n",
       "      <td>Stanley Park Information</td>\n",
       "      <td>49.298</td>\n",
       "      <td>-123.131</td>\n",
       "      <td>49.299292</td>\n",
       "      <td>-123.130281</td>\n",
       "      <td>NaN</td>\n",
       "      <td>NaN</td>\n",
       "      <td>left_only</td>\n",
       "    </tr>\n",
       "    <tr>\n",
       "      <th>7175</th>\n",
       "      <td>Landmarks, Parks &amp; Sports</td>\n",
       "      <td>Theatre Under the Stars</td>\n",
       "      <td>49.299</td>\n",
       "      <td>-123.133</td>\n",
       "      <td>49.299292</td>\n",
       "      <td>-123.130281</td>\n",
       "      <td>NaN</td>\n",
       "      <td>NaN</td>\n",
       "      <td>left_only</td>\n",
       "    </tr>\n",
       "    <tr>\n",
       "      <th>24986</th>\n",
       "      <td>Landmarks, Parks &amp; Sports</td>\n",
       "      <td>Vancouver Aquarium</td>\n",
       "      <td>49.301</td>\n",
       "      <td>-123.131</td>\n",
       "      <td>49.299292</td>\n",
       "      <td>-123.130281</td>\n",
       "      <td>4.5</td>\n",
       "      <td>561.0</td>\n",
       "      <td>right_only</td>\n",
       "    </tr>\n",
       "    <tr>\n",
       "      <th>7170</th>\n",
       "      <td>Landmarks, Parks &amp; Sports</td>\n",
       "      <td>Wyland's 'Orcas A-30 Subpod'</td>\n",
       "      <td>49.301</td>\n",
       "      <td>-123.131</td>\n",
       "      <td>49.299292</td>\n",
       "      <td>-123.130281</td>\n",
       "      <td>NaN</td>\n",
       "      <td>NaN</td>\n",
       "      <td>left_only</td>\n",
       "    </tr>\n",
       "    <tr>\n",
       "      <th>12091</th>\n",
       "      <td>Bars, Restaurants &amp; Cafes</td>\n",
       "      <td>3rd Beach</td>\n",
       "      <td>49.303</td>\n",
       "      <td>-123.156</td>\n",
       "      <td>49.302577</td>\n",
       "      <td>-123.155616</td>\n",
       "      <td>NaN</td>\n",
       "      <td>NaN</td>\n",
       "      <td>left_only</td>\n",
       "    </tr>\n",
       "    <tr>\n",
       "      <th>29643</th>\n",
       "      <td>Bars, Restaurants &amp; Cafes</td>\n",
       "      <td>Teahouse in Stanley Park</td>\n",
       "      <td>49.301</td>\n",
       "      <td>-123.157</td>\n",
       "      <td>49.302577</td>\n",
       "      <td>-123.155616</td>\n",
       "      <td>4.0</td>\n",
       "      <td>431.0</td>\n",
       "      <td>right_only</td>\n",
       "    </tr>\n",
       "    <tr>\n",
       "      <th>12090</th>\n",
       "      <td>Bars, Restaurants &amp; Cafes</td>\n",
       "      <td>The Teahouse Restaurant</td>\n",
       "      <td>49.301</td>\n",
       "      <td>-123.157</td>\n",
       "      <td>49.302577</td>\n",
       "      <td>-123.155616</td>\n",
       "      <td>NaN</td>\n",
       "      <td>NaN</td>\n",
       "      <td>left_only</td>\n",
       "    </tr>\n",
       "    <tr>\n",
       "      <th>12094</th>\n",
       "      <td>Landmarks, Parks &amp; Sports</td>\n",
       "      <td>Burma Star Monument</td>\n",
       "      <td>49.301</td>\n",
       "      <td>-123.159</td>\n",
       "      <td>49.302577</td>\n",
       "      <td>-123.155616</td>\n",
       "      <td>NaN</td>\n",
       "      <td>NaN</td>\n",
       "      <td>left_only</td>\n",
       "    </tr>\n",
       "    <tr>\n",
       "      <th>12093</th>\n",
       "      <td>Landmarks, Parks &amp; Sports</td>\n",
       "      <td>Ferguson Point</td>\n",
       "      <td>49.301</td>\n",
       "      <td>-123.158</td>\n",
       "      <td>49.302577</td>\n",
       "      <td>-123.155616</td>\n",
       "      <td>NaN</td>\n",
       "      <td>NaN</td>\n",
       "      <td>left_only</td>\n",
       "    </tr>\n",
       "    <tr>\n",
       "      <th>29645</th>\n",
       "      <td>Landmarks, Parks &amp; Sports</td>\n",
       "      <td>Lovers Walk Trail</td>\n",
       "      <td>49.300</td>\n",
       "      <td>-123.152</td>\n",
       "      <td>49.302577</td>\n",
       "      <td>-123.155616</td>\n",
       "      <td>5.0</td>\n",
       "      <td>2.0</td>\n",
       "      <td>right_only</td>\n",
       "    </tr>\n",
       "    <tr>\n",
       "      <th>29644</th>\n",
       "      <td>Landmarks, Parks &amp; Sports</td>\n",
       "      <td>Pauline Johnson Monument</td>\n",
       "      <td>49.302</td>\n",
       "      <td>-123.156</td>\n",
       "      <td>49.302577</td>\n",
       "      <td>-123.155616</td>\n",
       "      <td>4.0</td>\n",
       "      <td>1.0</td>\n",
       "      <td>right_only</td>\n",
       "    </tr>\n",
       "    <tr>\n",
       "      <th>12092</th>\n",
       "      <td>Landmarks, Parks &amp; Sports</td>\n",
       "      <td>Third Beach</td>\n",
       "      <td>49.304</td>\n",
       "      <td>-123.156</td>\n",
       "      <td>49.302577</td>\n",
       "      <td>-123.155616</td>\n",
       "      <td>4.5</td>\n",
       "      <td>30.0</td>\n",
       "      <td>both</td>\n",
       "    </tr>\n",
       "    <tr>\n",
       "      <th>31959</th>\n",
       "      <td>Bars, Restaurants &amp; Cafes</td>\n",
       "      <td>Prospect Point</td>\n",
       "      <td>49.313</td>\n",
       "      <td>-123.143</td>\n",
       "      <td>49.312568</td>\n",
       "      <td>-123.144177</td>\n",
       "      <td>3.5</td>\n",
       "      <td>82.0</td>\n",
       "      <td>right_only</td>\n",
       "    </tr>\n",
       "    <tr>\n",
       "      <th>14573</th>\n",
       "      <td>Bars, Restaurants &amp; Cafes</td>\n",
       "      <td>Prospect Point - Stanley Park</td>\n",
       "      <td>49.313</td>\n",
       "      <td>-123.143</td>\n",
       "      <td>49.312568</td>\n",
       "      <td>-123.144177</td>\n",
       "      <td>NaN</td>\n",
       "      <td>NaN</td>\n",
       "      <td>left_only</td>\n",
       "    </tr>\n",
       "    <tr>\n",
       "      <th>14572</th>\n",
       "      <td>Bars, Restaurants &amp; Cafes</td>\n",
       "      <td>Prospect Point Cafe &amp; Gift Shop</td>\n",
       "      <td>49.313</td>\n",
       "      <td>-123.143</td>\n",
       "      <td>49.312568</td>\n",
       "      <td>-123.144177</td>\n",
       "      <td>NaN</td>\n",
       "      <td>NaN</td>\n",
       "      <td>left_only</td>\n",
       "    </tr>\n",
       "    <tr>\n",
       "      <th>14574</th>\n",
       "      <td>Bars, Restaurants &amp; Cafes</td>\n",
       "      <td>Prospect Point Café</td>\n",
       "      <td>49.313</td>\n",
       "      <td>-123.143</td>\n",
       "      <td>49.312568</td>\n",
       "      <td>-123.144177</td>\n",
       "      <td>NaN</td>\n",
       "      <td>NaN</td>\n",
       "      <td>left_only</td>\n",
       "    </tr>\n",
       "    <tr>\n",
       "      <th>14579</th>\n",
       "      <td>Landmarks, Parks &amp; Sports</td>\n",
       "      <td>Eldon Trail</td>\n",
       "      <td>49.313</td>\n",
       "      <td>-123.141</td>\n",
       "      <td>49.312568</td>\n",
       "      <td>-123.144177</td>\n",
       "      <td>NaN</td>\n",
       "      <td>NaN</td>\n",
       "      <td>left_only</td>\n",
       "    </tr>\n",
       "    <tr>\n",
       "      <th>14576</th>\n",
       "      <td>Landmarks, Parks &amp; Sports</td>\n",
       "      <td>Lowden's Lookout</td>\n",
       "      <td>49.313</td>\n",
       "      <td>-123.142</td>\n",
       "      <td>49.312568</td>\n",
       "      <td>-123.144177</td>\n",
       "      <td>NaN</td>\n",
       "      <td>NaN</td>\n",
       "      <td>left_only</td>\n",
       "    </tr>\n",
       "    <tr>\n",
       "      <th>14575</th>\n",
       "      <td>Landmarks, Parks &amp; Sports</td>\n",
       "      <td>Prospect Point</td>\n",
       "      <td>49.314</td>\n",
       "      <td>-123.142</td>\n",
       "      <td>49.312568</td>\n",
       "      <td>-123.144177</td>\n",
       "      <td>4.0</td>\n",
       "      <td>14.0</td>\n",
       "      <td>both</td>\n",
       "    </tr>\n",
       "    <tr>\n",
       "      <th>14577</th>\n",
       "      <td>Landmarks, Parks &amp; Sports</td>\n",
       "      <td>Prospect Point Lighthouse</td>\n",
       "      <td>49.314</td>\n",
       "      <td>-123.142</td>\n",
       "      <td>49.312568</td>\n",
       "      <td>-123.144177</td>\n",
       "      <td>NaN</td>\n",
       "      <td>NaN</td>\n",
       "      <td>left_only</td>\n",
       "    </tr>\n",
       "    <tr>\n",
       "      <th>31961</th>\n",
       "      <td>Landmarks, Parks &amp; Sports</td>\n",
       "      <td>Prospect Point Lighthouse</td>\n",
       "      <td>49.313</td>\n",
       "      <td>-123.141</td>\n",
       "      <td>49.312568</td>\n",
       "      <td>-123.144177</td>\n",
       "      <td>4.0</td>\n",
       "      <td>1.0</td>\n",
       "      <td>right_only</td>\n",
       "    </tr>\n",
       "    <tr>\n",
       "      <th>14578</th>\n",
       "      <td>Landmarks, Parks &amp; Sports</td>\n",
       "      <td>Prospect Point Picnic Area</td>\n",
       "      <td>49.313</td>\n",
       "      <td>-123.142</td>\n",
       "      <td>49.312568</td>\n",
       "      <td>-123.144177</td>\n",
       "      <td>NaN</td>\n",
       "      <td>NaN</td>\n",
       "      <td>left_only</td>\n",
       "    </tr>\n",
       "    <tr>\n",
       "      <th>31960</th>\n",
       "      <td>Landmarks, Parks &amp; Sports</td>\n",
       "      <td>SS Beaver Cairn</td>\n",
       "      <td>49.313</td>\n",
       "      <td>-123.143</td>\n",
       "      <td>49.312568</td>\n",
       "      <td>-123.144177</td>\n",
       "      <td>0.0</td>\n",
       "      <td>0.0</td>\n",
       "      <td>right_only</td>\n",
       "    </tr>\n",
       "  </tbody>\n",
       "</table>\n",
       "</div>"
      ],
      "text/plain": [
       "                        Category                               Name  Latitude  \\\n",
       "25002  Landmarks, Parks & Sports                   Nine O'Clock Gun    49.299   \n",
       "25008  Landmarks, Parks & Sports         Port of Vancouver Monument    49.301   \n",
       "25001  Landmarks, Parks & Sports                     Shore to Shore    49.299   \n",
       "25009                     Retail                 At the Totem Poles    49.299   \n",
       "7163        Arts & Entertainment                     4-D Experience    49.301   \n",
       "7162        Arts & Entertainment                        Malkin Bowl    49.299   \n",
       "7164        Arts & Entertainment                      Penguin Point    49.301   \n",
       "24981       Arts & Entertainment                        Rose Garden    49.300   \n",
       "7165        Arts & Entertainment       Stanley Park Painters Circle    49.298   \n",
       "7166        Arts & Entertainment            Theatre Under the Stars    49.300   \n",
       "24980       Arts & Entertainment            Theatre Under the Stars    49.298   \n",
       "7160        Arts & Entertainment                 Vancouver Aquarium    49.300   \n",
       "7161        Arts & Entertainment                 Vancouver Aquarium    49.300   \n",
       "24983  Bars, Restaurants & Cafes                      Aquarium Cafe    49.301   \n",
       "7168   Bars, Restaurants & Cafes                     Bicycle Bistro    49.300   \n",
       "24984  Bars, Restaurants & Cafes              Stanley's Bar & Grill    49.300   \n",
       "7167   Bars, Restaurants & Cafes            Vancouver Aquarium Cafe    49.300   \n",
       "24982  Bars, Restaurants & Cafes                    ocean wise cafe    49.300   \n",
       "24990  Landmarks, Parks & Sports  Garden Of Remembrance - Air Force    49.300   \n",
       "24988  Landmarks, Parks & Sports                   Harding Memorial    49.299   \n",
       "7174   Landmarks, Parks & Sports                         Honor Roll    49.301   \n",
       "7173   Landmarks, Parks & Sports      Japanese Canadian War Memoral    49.301   \n",
       "24989  Landmarks, Parks & Sports     Japanese Canadian War Memorial    49.301   \n",
       "24987  Landmarks, Parks & Sports             Modo Spring Run-Off 8k    49.300   \n",
       "7171   Landmarks, Parks & Sports                        Salmon Pool    49.298   \n",
       "24985  Landmarks, Parks & Sports                       Stanley Park    49.298   \n",
       "7169   Landmarks, Parks & Sports  Stanley Park Harbourfront Seawall    49.297   \n",
       "7172   Landmarks, Parks & Sports           Stanley Park Information    49.298   \n",
       "7175   Landmarks, Parks & Sports            Theatre Under the Stars    49.299   \n",
       "24986  Landmarks, Parks & Sports                 Vancouver Aquarium    49.301   \n",
       "7170   Landmarks, Parks & Sports       Wyland's 'Orcas A-30 Subpod'    49.301   \n",
       "12091  Bars, Restaurants & Cafes                          3rd Beach    49.303   \n",
       "29643  Bars, Restaurants & Cafes           Teahouse in Stanley Park    49.301   \n",
       "12090  Bars, Restaurants & Cafes            The Teahouse Restaurant    49.301   \n",
       "12094  Landmarks, Parks & Sports                Burma Star Monument    49.301   \n",
       "12093  Landmarks, Parks & Sports                     Ferguson Point    49.301   \n",
       "29645  Landmarks, Parks & Sports                  Lovers Walk Trail    49.300   \n",
       "29644  Landmarks, Parks & Sports           Pauline Johnson Monument    49.302   \n",
       "12092  Landmarks, Parks & Sports                        Third Beach    49.304   \n",
       "31959  Bars, Restaurants & Cafes                     Prospect Point    49.313   \n",
       "14573  Bars, Restaurants & Cafes      Prospect Point - Stanley Park    49.313   \n",
       "14572  Bars, Restaurants & Cafes    Prospect Point Cafe & Gift Shop    49.313   \n",
       "14574  Bars, Restaurants & Cafes                Prospect Point Café    49.313   \n",
       "14579  Landmarks, Parks & Sports                        Eldon Trail    49.313   \n",
       "14576  Landmarks, Parks & Sports                   Lowden's Lookout    49.313   \n",
       "14575  Landmarks, Parks & Sports                     Prospect Point    49.314   \n",
       "14577  Landmarks, Parks & Sports          Prospect Point Lighthouse    49.314   \n",
       "31961  Landmarks, Parks & Sports          Prospect Point Lighthouse    49.313   \n",
       "14578  Landmarks, Parks & Sports         Prospect Point Picnic Area    49.313   \n",
       "31960  Landmarks, Parks & Sports                    SS Beaver Cairn    49.313   \n",
       "\n",
       "       Longitude  Assc Bike Lat  Assc Bike Long  Rating  Reviews      _merge  \n",
       "25002   -123.117      49.298657     -123.121176     4.5      8.0  right_only  \n",
       "25008   -123.117      49.298657     -123.121176     4.0      1.0  right_only  \n",
       "25001   -123.121      49.298657     -123.121176     5.0      1.0  right_only  \n",
       "25009   -123.121      49.298657     -123.121176     5.0      1.0  right_only  \n",
       "7163    -123.131      49.299292     -123.130281     NaN      NaN   left_only  \n",
       "7162    -123.133      49.299292     -123.130281     NaN      NaN   left_only  \n",
       "7164    -123.132      49.299292     -123.130281     NaN      NaN   left_only  \n",
       "24981   -123.134      49.299292     -123.130281     3.5      5.0  right_only  \n",
       "7165    -123.132      49.299292     -123.130281     NaN      NaN   left_only  \n",
       "7166    -123.134      49.299292     -123.130281     NaN      NaN   left_only  \n",
       "24980   -123.133      49.299292     -123.130281     4.5     15.0  right_only  \n",
       "7160    -123.131      49.299292     -123.130281     NaN      NaN   left_only  \n",
       "7161    -123.131      49.299292     -123.130281     NaN      NaN   left_only  \n",
       "24983   -123.129      49.299292     -123.130281     4.5      3.0  right_only  \n",
       "7168    -123.131      49.299292     -123.130281     NaN      NaN   left_only  \n",
       "24984   -123.134      49.299292     -123.130281     3.0    103.0  right_only  \n",
       "7167    -123.131      49.299292     -123.130281     NaN      NaN   left_only  \n",
       "24982   -123.131      49.299292     -123.130281     4.0      1.0  right_only  \n",
       "24990   -123.134      49.299292     -123.130281     0.0      0.0  right_only  \n",
       "24988   -123.134      49.299292     -123.130281     4.0      1.0  right_only  \n",
       "7174    -123.132      49.299292     -123.130281     NaN      NaN   left_only  \n",
       "7173    -123.132      49.299292     -123.130281     NaN      NaN   left_only  \n",
       "24989   -123.132      49.299292     -123.130281     4.5      2.0  right_only  \n",
       "24987   -123.136      49.299292     -123.130281     5.0      1.0  right_only  \n",
       "7171    -123.131      49.299292     -123.130281     NaN      NaN   left_only  \n",
       "24985   -123.131      49.299292     -123.130281     5.0   1079.0  right_only  \n",
       "7169    -123.131      49.299292     -123.130281     NaN      NaN   left_only  \n",
       "7172    -123.131      49.299292     -123.130281     NaN      NaN   left_only  \n",
       "7175    -123.133      49.299292     -123.130281     NaN      NaN   left_only  \n",
       "24986   -123.131      49.299292     -123.130281     4.5    561.0  right_only  \n",
       "7170    -123.131      49.299292     -123.130281     NaN      NaN   left_only  \n",
       "12091   -123.156      49.302577     -123.155616     NaN      NaN   left_only  \n",
       "29643   -123.157      49.302577     -123.155616     4.0    431.0  right_only  \n",
       "12090   -123.157      49.302577     -123.155616     NaN      NaN   left_only  \n",
       "12094   -123.159      49.302577     -123.155616     NaN      NaN   left_only  \n",
       "12093   -123.158      49.302577     -123.155616     NaN      NaN   left_only  \n",
       "29645   -123.152      49.302577     -123.155616     5.0      2.0  right_only  \n",
       "29644   -123.156      49.302577     -123.155616     4.0      1.0  right_only  \n",
       "12092   -123.156      49.302577     -123.155616     4.5     30.0        both  \n",
       "31959   -123.143      49.312568     -123.144177     3.5     82.0  right_only  \n",
       "14573   -123.143      49.312568     -123.144177     NaN      NaN   left_only  \n",
       "14572   -123.143      49.312568     -123.144177     NaN      NaN   left_only  \n",
       "14574   -123.143      49.312568     -123.144177     NaN      NaN   left_only  \n",
       "14579   -123.141      49.312568     -123.144177     NaN      NaN   left_only  \n",
       "14576   -123.142      49.312568     -123.144177     NaN      NaN   left_only  \n",
       "14575   -123.142      49.312568     -123.144177     4.0     14.0        both  \n",
       "14577   -123.142      49.312568     -123.144177     NaN      NaN   left_only  \n",
       "31961   -123.141      49.312568     -123.144177     4.0      1.0  right_only  \n",
       "14578   -123.142      49.312568     -123.144177     NaN      NaN   left_only  \n",
       "31960   -123.143      49.312568     -123.144177     0.0      0.0  right_only  "
      ]
     },
     "execution_count": 12,
     "metadata": {},
     "output_type": "execute_result"
    }
   ],
   "source": [
    "POI_df.sort_values(by=['Assc Bike Lat', 'Category', 'Name', '_merge']).tail(50)"
   ]
  },
  {
   "cell_type": "code",
   "execution_count": 13,
   "metadata": {},
   "outputs": [],
   "source": [
    "POI_df_dupes = POI_df.copy()\n",
    "POI_df_dupes['Name'] = POI_df_dupes['Name'].str.lower()\n",
    "POI_df_dupes.drop_duplicates(subset=['Assc Bike Lat', 'Category','Name'], inplace=True)\n",
    "POI_df_dupes['Name'] = POI_df_dupes['Name'].str.title()"
   ]
  },
  {
   "cell_type": "code",
   "execution_count": 14,
   "metadata": {},
   "outputs": [
    {
     "data": {
      "text/plain": [
       "(33415, 9)"
      ]
     },
     "execution_count": 14,
     "metadata": {},
     "output_type": "execute_result"
    }
   ],
   "source": [
    "POI_df_dupes.shape"
   ]
  },
  {
   "cell_type": "code",
   "execution_count": 15,
   "metadata": {},
   "outputs": [
    {
     "data": {
      "text/html": [
       "<div>\n",
       "<style scoped>\n",
       "    .dataframe tbody tr th:only-of-type {\n",
       "        vertical-align: middle;\n",
       "    }\n",
       "\n",
       "    .dataframe tbody tr th {\n",
       "        vertical-align: top;\n",
       "    }\n",
       "\n",
       "    .dataframe thead th {\n",
       "        text-align: right;\n",
       "    }\n",
       "</style>\n",
       "<table border=\"1\" class=\"dataframe\">\n",
       "  <thead>\n",
       "    <tr style=\"text-align: right;\">\n",
       "      <th></th>\n",
       "      <th>Category</th>\n",
       "      <th>Name</th>\n",
       "      <th>Latitude</th>\n",
       "      <th>Longitude</th>\n",
       "      <th>Assc Bike Lat</th>\n",
       "      <th>Assc Bike Long</th>\n",
       "      <th>Rating</th>\n",
       "      <th>Reviews</th>\n",
       "      <th>_merge</th>\n",
       "    </tr>\n",
       "  </thead>\n",
       "  <tbody>\n",
       "    <tr>\n",
       "      <th>25005</th>\n",
       "      <td>Landmarks, Parks &amp; Sports</td>\n",
       "      <td>Harry Jerome Monument</td>\n",
       "      <td>49.298</td>\n",
       "      <td>-123.119</td>\n",
       "      <td>49.298657</td>\n",
       "      <td>-123.121176</td>\n",
       "      <td>4.5</td>\n",
       "      <td>4.0</td>\n",
       "      <td>right_only</td>\n",
       "    </tr>\n",
       "    <tr>\n",
       "      <th>7204</th>\n",
       "      <td>Landmarks, Parks &amp; Sports</td>\n",
       "      <td>Harry Jerome Statue</td>\n",
       "      <td>49.298</td>\n",
       "      <td>-123.119</td>\n",
       "      <td>49.298657</td>\n",
       "      <td>-123.121176</td>\n",
       "      <td>NaN</td>\n",
       "      <td>NaN</td>\n",
       "      <td>left_only</td>\n",
       "    </tr>\n",
       "    <tr>\n",
       "      <th>25007</th>\n",
       "      <td>Landmarks, Parks &amp; Sports</td>\n",
       "      <td>Hmcs Discovery</td>\n",
       "      <td>49.296</td>\n",
       "      <td>-123.123</td>\n",
       "      <td>49.298657</td>\n",
       "      <td>-123.121176</td>\n",
       "      <td>4.0</td>\n",
       "      <td>1.0</td>\n",
       "      <td>right_only</td>\n",
       "    </tr>\n",
       "    <tr>\n",
       "      <th>7202</th>\n",
       "      <td>Landmarks, Parks &amp; Sports</td>\n",
       "      <td>Nine O'Clock Gun</td>\n",
       "      <td>49.298</td>\n",
       "      <td>-123.117</td>\n",
       "      <td>49.298657</td>\n",
       "      <td>-123.121176</td>\n",
       "      <td>NaN</td>\n",
       "      <td>NaN</td>\n",
       "      <td>left_only</td>\n",
       "    </tr>\n",
       "    <tr>\n",
       "      <th>25008</th>\n",
       "      <td>Landmarks, Parks &amp; Sports</td>\n",
       "      <td>Port Of Vancouver Monument</td>\n",
       "      <td>49.301</td>\n",
       "      <td>-123.117</td>\n",
       "      <td>49.298657</td>\n",
       "      <td>-123.121176</td>\n",
       "      <td>4.0</td>\n",
       "      <td>1.0</td>\n",
       "      <td>right_only</td>\n",
       "    </tr>\n",
       "    <tr>\n",
       "      <th>25001</th>\n",
       "      <td>Landmarks, Parks &amp; Sports</td>\n",
       "      <td>Shore To Shore</td>\n",
       "      <td>49.299</td>\n",
       "      <td>-123.121</td>\n",
       "      <td>49.298657</td>\n",
       "      <td>-123.121176</td>\n",
       "      <td>5.0</td>\n",
       "      <td>1.0</td>\n",
       "      <td>right_only</td>\n",
       "    </tr>\n",
       "    <tr>\n",
       "      <th>25009</th>\n",
       "      <td>Retail</td>\n",
       "      <td>At The Totem Poles</td>\n",
       "      <td>49.299</td>\n",
       "      <td>-123.121</td>\n",
       "      <td>49.298657</td>\n",
       "      <td>-123.121176</td>\n",
       "      <td>5.0</td>\n",
       "      <td>1.0</td>\n",
       "      <td>right_only</td>\n",
       "    </tr>\n",
       "    <tr>\n",
       "      <th>7163</th>\n",
       "      <td>Arts &amp; Entertainment</td>\n",
       "      <td>4-D Experience</td>\n",
       "      <td>49.301</td>\n",
       "      <td>-123.131</td>\n",
       "      <td>49.299292</td>\n",
       "      <td>-123.130281</td>\n",
       "      <td>NaN</td>\n",
       "      <td>NaN</td>\n",
       "      <td>left_only</td>\n",
       "    </tr>\n",
       "    <tr>\n",
       "      <th>7162</th>\n",
       "      <td>Arts &amp; Entertainment</td>\n",
       "      <td>Malkin Bowl</td>\n",
       "      <td>49.299</td>\n",
       "      <td>-123.133</td>\n",
       "      <td>49.299292</td>\n",
       "      <td>-123.130281</td>\n",
       "      <td>NaN</td>\n",
       "      <td>NaN</td>\n",
       "      <td>left_only</td>\n",
       "    </tr>\n",
       "    <tr>\n",
       "      <th>7164</th>\n",
       "      <td>Arts &amp; Entertainment</td>\n",
       "      <td>Penguin Point</td>\n",
       "      <td>49.301</td>\n",
       "      <td>-123.132</td>\n",
       "      <td>49.299292</td>\n",
       "      <td>-123.130281</td>\n",
       "      <td>NaN</td>\n",
       "      <td>NaN</td>\n",
       "      <td>left_only</td>\n",
       "    </tr>\n",
       "    <tr>\n",
       "      <th>24981</th>\n",
       "      <td>Arts &amp; Entertainment</td>\n",
       "      <td>Rose Garden</td>\n",
       "      <td>49.300</td>\n",
       "      <td>-123.134</td>\n",
       "      <td>49.299292</td>\n",
       "      <td>-123.130281</td>\n",
       "      <td>3.5</td>\n",
       "      <td>5.0</td>\n",
       "      <td>right_only</td>\n",
       "    </tr>\n",
       "    <tr>\n",
       "      <th>7165</th>\n",
       "      <td>Arts &amp; Entertainment</td>\n",
       "      <td>Stanley Park Painters Circle</td>\n",
       "      <td>49.298</td>\n",
       "      <td>-123.132</td>\n",
       "      <td>49.299292</td>\n",
       "      <td>-123.130281</td>\n",
       "      <td>NaN</td>\n",
       "      <td>NaN</td>\n",
       "      <td>left_only</td>\n",
       "    </tr>\n",
       "    <tr>\n",
       "      <th>7166</th>\n",
       "      <td>Arts &amp; Entertainment</td>\n",
       "      <td>Theatre Under The Stars</td>\n",
       "      <td>49.300</td>\n",
       "      <td>-123.134</td>\n",
       "      <td>49.299292</td>\n",
       "      <td>-123.130281</td>\n",
       "      <td>NaN</td>\n",
       "      <td>NaN</td>\n",
       "      <td>left_only</td>\n",
       "    </tr>\n",
       "    <tr>\n",
       "      <th>7160</th>\n",
       "      <td>Arts &amp; Entertainment</td>\n",
       "      <td>Vancouver Aquarium</td>\n",
       "      <td>49.300</td>\n",
       "      <td>-123.131</td>\n",
       "      <td>49.299292</td>\n",
       "      <td>-123.130281</td>\n",
       "      <td>NaN</td>\n",
       "      <td>NaN</td>\n",
       "      <td>left_only</td>\n",
       "    </tr>\n",
       "    <tr>\n",
       "      <th>24983</th>\n",
       "      <td>Bars, Restaurants &amp; Cafes</td>\n",
       "      <td>Aquarium Cafe</td>\n",
       "      <td>49.301</td>\n",
       "      <td>-123.129</td>\n",
       "      <td>49.299292</td>\n",
       "      <td>-123.130281</td>\n",
       "      <td>4.5</td>\n",
       "      <td>3.0</td>\n",
       "      <td>right_only</td>\n",
       "    </tr>\n",
       "    <tr>\n",
       "      <th>7168</th>\n",
       "      <td>Bars, Restaurants &amp; Cafes</td>\n",
       "      <td>Bicycle Bistro</td>\n",
       "      <td>49.300</td>\n",
       "      <td>-123.131</td>\n",
       "      <td>49.299292</td>\n",
       "      <td>-123.130281</td>\n",
       "      <td>NaN</td>\n",
       "      <td>NaN</td>\n",
       "      <td>left_only</td>\n",
       "    </tr>\n",
       "    <tr>\n",
       "      <th>24982</th>\n",
       "      <td>Bars, Restaurants &amp; Cafes</td>\n",
       "      <td>Ocean Wise Cafe</td>\n",
       "      <td>49.300</td>\n",
       "      <td>-123.131</td>\n",
       "      <td>49.299292</td>\n",
       "      <td>-123.130281</td>\n",
       "      <td>4.0</td>\n",
       "      <td>1.0</td>\n",
       "      <td>right_only</td>\n",
       "    </tr>\n",
       "    <tr>\n",
       "      <th>24984</th>\n",
       "      <td>Bars, Restaurants &amp; Cafes</td>\n",
       "      <td>Stanley'S Bar &amp; Grill</td>\n",
       "      <td>49.300</td>\n",
       "      <td>-123.134</td>\n",
       "      <td>49.299292</td>\n",
       "      <td>-123.130281</td>\n",
       "      <td>3.0</td>\n",
       "      <td>103.0</td>\n",
       "      <td>right_only</td>\n",
       "    </tr>\n",
       "    <tr>\n",
       "      <th>7167</th>\n",
       "      <td>Bars, Restaurants &amp; Cafes</td>\n",
       "      <td>Vancouver Aquarium Cafe</td>\n",
       "      <td>49.300</td>\n",
       "      <td>-123.131</td>\n",
       "      <td>49.299292</td>\n",
       "      <td>-123.130281</td>\n",
       "      <td>NaN</td>\n",
       "      <td>NaN</td>\n",
       "      <td>left_only</td>\n",
       "    </tr>\n",
       "    <tr>\n",
       "      <th>24990</th>\n",
       "      <td>Landmarks, Parks &amp; Sports</td>\n",
       "      <td>Garden Of Remembrance - Air Force</td>\n",
       "      <td>49.300</td>\n",
       "      <td>-123.134</td>\n",
       "      <td>49.299292</td>\n",
       "      <td>-123.130281</td>\n",
       "      <td>0.0</td>\n",
       "      <td>0.0</td>\n",
       "      <td>right_only</td>\n",
       "    </tr>\n",
       "    <tr>\n",
       "      <th>24988</th>\n",
       "      <td>Landmarks, Parks &amp; Sports</td>\n",
       "      <td>Harding Memorial</td>\n",
       "      <td>49.299</td>\n",
       "      <td>-123.134</td>\n",
       "      <td>49.299292</td>\n",
       "      <td>-123.130281</td>\n",
       "      <td>4.0</td>\n",
       "      <td>1.0</td>\n",
       "      <td>right_only</td>\n",
       "    </tr>\n",
       "    <tr>\n",
       "      <th>7174</th>\n",
       "      <td>Landmarks, Parks &amp; Sports</td>\n",
       "      <td>Honor Roll</td>\n",
       "      <td>49.301</td>\n",
       "      <td>-123.132</td>\n",
       "      <td>49.299292</td>\n",
       "      <td>-123.130281</td>\n",
       "      <td>NaN</td>\n",
       "      <td>NaN</td>\n",
       "      <td>left_only</td>\n",
       "    </tr>\n",
       "    <tr>\n",
       "      <th>7173</th>\n",
       "      <td>Landmarks, Parks &amp; Sports</td>\n",
       "      <td>Japanese Canadian War Memoral</td>\n",
       "      <td>49.301</td>\n",
       "      <td>-123.132</td>\n",
       "      <td>49.299292</td>\n",
       "      <td>-123.130281</td>\n",
       "      <td>NaN</td>\n",
       "      <td>NaN</td>\n",
       "      <td>left_only</td>\n",
       "    </tr>\n",
       "    <tr>\n",
       "      <th>24989</th>\n",
       "      <td>Landmarks, Parks &amp; Sports</td>\n",
       "      <td>Japanese Canadian War Memorial</td>\n",
       "      <td>49.301</td>\n",
       "      <td>-123.132</td>\n",
       "      <td>49.299292</td>\n",
       "      <td>-123.130281</td>\n",
       "      <td>4.5</td>\n",
       "      <td>2.0</td>\n",
       "      <td>right_only</td>\n",
       "    </tr>\n",
       "    <tr>\n",
       "      <th>24987</th>\n",
       "      <td>Landmarks, Parks &amp; Sports</td>\n",
       "      <td>Modo Spring Run-Off 8K</td>\n",
       "      <td>49.300</td>\n",
       "      <td>-123.136</td>\n",
       "      <td>49.299292</td>\n",
       "      <td>-123.130281</td>\n",
       "      <td>5.0</td>\n",
       "      <td>1.0</td>\n",
       "      <td>right_only</td>\n",
       "    </tr>\n",
       "    <tr>\n",
       "      <th>7171</th>\n",
       "      <td>Landmarks, Parks &amp; Sports</td>\n",
       "      <td>Salmon Pool</td>\n",
       "      <td>49.298</td>\n",
       "      <td>-123.131</td>\n",
       "      <td>49.299292</td>\n",
       "      <td>-123.130281</td>\n",
       "      <td>NaN</td>\n",
       "      <td>NaN</td>\n",
       "      <td>left_only</td>\n",
       "    </tr>\n",
       "    <tr>\n",
       "      <th>24985</th>\n",
       "      <td>Landmarks, Parks &amp; Sports</td>\n",
       "      <td>Stanley Park</td>\n",
       "      <td>49.298</td>\n",
       "      <td>-123.131</td>\n",
       "      <td>49.299292</td>\n",
       "      <td>-123.130281</td>\n",
       "      <td>5.0</td>\n",
       "      <td>1079.0</td>\n",
       "      <td>right_only</td>\n",
       "    </tr>\n",
       "    <tr>\n",
       "      <th>7169</th>\n",
       "      <td>Landmarks, Parks &amp; Sports</td>\n",
       "      <td>Stanley Park Harbourfront Seawall</td>\n",
       "      <td>49.297</td>\n",
       "      <td>-123.131</td>\n",
       "      <td>49.299292</td>\n",
       "      <td>-123.130281</td>\n",
       "      <td>NaN</td>\n",
       "      <td>NaN</td>\n",
       "      <td>left_only</td>\n",
       "    </tr>\n",
       "    <tr>\n",
       "      <th>7172</th>\n",
       "      <td>Landmarks, Parks &amp; Sports</td>\n",
       "      <td>Stanley Park Information</td>\n",
       "      <td>49.298</td>\n",
       "      <td>-123.131</td>\n",
       "      <td>49.299292</td>\n",
       "      <td>-123.130281</td>\n",
       "      <td>NaN</td>\n",
       "      <td>NaN</td>\n",
       "      <td>left_only</td>\n",
       "    </tr>\n",
       "    <tr>\n",
       "      <th>7175</th>\n",
       "      <td>Landmarks, Parks &amp; Sports</td>\n",
       "      <td>Theatre Under The Stars</td>\n",
       "      <td>49.299</td>\n",
       "      <td>-123.133</td>\n",
       "      <td>49.299292</td>\n",
       "      <td>-123.130281</td>\n",
       "      <td>NaN</td>\n",
       "      <td>NaN</td>\n",
       "      <td>left_only</td>\n",
       "    </tr>\n",
       "    <tr>\n",
       "      <th>24986</th>\n",
       "      <td>Landmarks, Parks &amp; Sports</td>\n",
       "      <td>Vancouver Aquarium</td>\n",
       "      <td>49.301</td>\n",
       "      <td>-123.131</td>\n",
       "      <td>49.299292</td>\n",
       "      <td>-123.130281</td>\n",
       "      <td>4.5</td>\n",
       "      <td>561.0</td>\n",
       "      <td>right_only</td>\n",
       "    </tr>\n",
       "    <tr>\n",
       "      <th>7170</th>\n",
       "      <td>Landmarks, Parks &amp; Sports</td>\n",
       "      <td>Wyland'S 'Orcas A-30 Subpod'</td>\n",
       "      <td>49.301</td>\n",
       "      <td>-123.131</td>\n",
       "      <td>49.299292</td>\n",
       "      <td>-123.130281</td>\n",
       "      <td>NaN</td>\n",
       "      <td>NaN</td>\n",
       "      <td>left_only</td>\n",
       "    </tr>\n",
       "    <tr>\n",
       "      <th>12091</th>\n",
       "      <td>Bars, Restaurants &amp; Cafes</td>\n",
       "      <td>3Rd Beach</td>\n",
       "      <td>49.303</td>\n",
       "      <td>-123.156</td>\n",
       "      <td>49.302577</td>\n",
       "      <td>-123.155616</td>\n",
       "      <td>NaN</td>\n",
       "      <td>NaN</td>\n",
       "      <td>left_only</td>\n",
       "    </tr>\n",
       "    <tr>\n",
       "      <th>29643</th>\n",
       "      <td>Bars, Restaurants &amp; Cafes</td>\n",
       "      <td>Teahouse In Stanley Park</td>\n",
       "      <td>49.301</td>\n",
       "      <td>-123.157</td>\n",
       "      <td>49.302577</td>\n",
       "      <td>-123.155616</td>\n",
       "      <td>4.0</td>\n",
       "      <td>431.0</td>\n",
       "      <td>right_only</td>\n",
       "    </tr>\n",
       "    <tr>\n",
       "      <th>12090</th>\n",
       "      <td>Bars, Restaurants &amp; Cafes</td>\n",
       "      <td>The Teahouse Restaurant</td>\n",
       "      <td>49.301</td>\n",
       "      <td>-123.157</td>\n",
       "      <td>49.302577</td>\n",
       "      <td>-123.155616</td>\n",
       "      <td>NaN</td>\n",
       "      <td>NaN</td>\n",
       "      <td>left_only</td>\n",
       "    </tr>\n",
       "    <tr>\n",
       "      <th>12094</th>\n",
       "      <td>Landmarks, Parks &amp; Sports</td>\n",
       "      <td>Burma Star Monument</td>\n",
       "      <td>49.301</td>\n",
       "      <td>-123.159</td>\n",
       "      <td>49.302577</td>\n",
       "      <td>-123.155616</td>\n",
       "      <td>NaN</td>\n",
       "      <td>NaN</td>\n",
       "      <td>left_only</td>\n",
       "    </tr>\n",
       "    <tr>\n",
       "      <th>12093</th>\n",
       "      <td>Landmarks, Parks &amp; Sports</td>\n",
       "      <td>Ferguson Point</td>\n",
       "      <td>49.301</td>\n",
       "      <td>-123.158</td>\n",
       "      <td>49.302577</td>\n",
       "      <td>-123.155616</td>\n",
       "      <td>NaN</td>\n",
       "      <td>NaN</td>\n",
       "      <td>left_only</td>\n",
       "    </tr>\n",
       "    <tr>\n",
       "      <th>29645</th>\n",
       "      <td>Landmarks, Parks &amp; Sports</td>\n",
       "      <td>Lovers Walk Trail</td>\n",
       "      <td>49.300</td>\n",
       "      <td>-123.152</td>\n",
       "      <td>49.302577</td>\n",
       "      <td>-123.155616</td>\n",
       "      <td>5.0</td>\n",
       "      <td>2.0</td>\n",
       "      <td>right_only</td>\n",
       "    </tr>\n",
       "    <tr>\n",
       "      <th>29644</th>\n",
       "      <td>Landmarks, Parks &amp; Sports</td>\n",
       "      <td>Pauline Johnson Monument</td>\n",
       "      <td>49.302</td>\n",
       "      <td>-123.156</td>\n",
       "      <td>49.302577</td>\n",
       "      <td>-123.155616</td>\n",
       "      <td>4.0</td>\n",
       "      <td>1.0</td>\n",
       "      <td>right_only</td>\n",
       "    </tr>\n",
       "    <tr>\n",
       "      <th>12092</th>\n",
       "      <td>Landmarks, Parks &amp; Sports</td>\n",
       "      <td>Third Beach</td>\n",
       "      <td>49.304</td>\n",
       "      <td>-123.156</td>\n",
       "      <td>49.302577</td>\n",
       "      <td>-123.155616</td>\n",
       "      <td>4.5</td>\n",
       "      <td>30.0</td>\n",
       "      <td>both</td>\n",
       "    </tr>\n",
       "    <tr>\n",
       "      <th>31959</th>\n",
       "      <td>Bars, Restaurants &amp; Cafes</td>\n",
       "      <td>Prospect Point</td>\n",
       "      <td>49.313</td>\n",
       "      <td>-123.143</td>\n",
       "      <td>49.312568</td>\n",
       "      <td>-123.144177</td>\n",
       "      <td>3.5</td>\n",
       "      <td>82.0</td>\n",
       "      <td>right_only</td>\n",
       "    </tr>\n",
       "    <tr>\n",
       "      <th>14573</th>\n",
       "      <td>Bars, Restaurants &amp; Cafes</td>\n",
       "      <td>Prospect Point - Stanley Park</td>\n",
       "      <td>49.313</td>\n",
       "      <td>-123.143</td>\n",
       "      <td>49.312568</td>\n",
       "      <td>-123.144177</td>\n",
       "      <td>NaN</td>\n",
       "      <td>NaN</td>\n",
       "      <td>left_only</td>\n",
       "    </tr>\n",
       "    <tr>\n",
       "      <th>14572</th>\n",
       "      <td>Bars, Restaurants &amp; Cafes</td>\n",
       "      <td>Prospect Point Cafe &amp; Gift Shop</td>\n",
       "      <td>49.313</td>\n",
       "      <td>-123.143</td>\n",
       "      <td>49.312568</td>\n",
       "      <td>-123.144177</td>\n",
       "      <td>NaN</td>\n",
       "      <td>NaN</td>\n",
       "      <td>left_only</td>\n",
       "    </tr>\n",
       "    <tr>\n",
       "      <th>14574</th>\n",
       "      <td>Bars, Restaurants &amp; Cafes</td>\n",
       "      <td>Prospect Point Café</td>\n",
       "      <td>49.313</td>\n",
       "      <td>-123.143</td>\n",
       "      <td>49.312568</td>\n",
       "      <td>-123.144177</td>\n",
       "      <td>NaN</td>\n",
       "      <td>NaN</td>\n",
       "      <td>left_only</td>\n",
       "    </tr>\n",
       "    <tr>\n",
       "      <th>14579</th>\n",
       "      <td>Landmarks, Parks &amp; Sports</td>\n",
       "      <td>Eldon Trail</td>\n",
       "      <td>49.313</td>\n",
       "      <td>-123.141</td>\n",
       "      <td>49.312568</td>\n",
       "      <td>-123.144177</td>\n",
       "      <td>NaN</td>\n",
       "      <td>NaN</td>\n",
       "      <td>left_only</td>\n",
       "    </tr>\n",
       "    <tr>\n",
       "      <th>14576</th>\n",
       "      <td>Landmarks, Parks &amp; Sports</td>\n",
       "      <td>Lowden'S Lookout</td>\n",
       "      <td>49.313</td>\n",
       "      <td>-123.142</td>\n",
       "      <td>49.312568</td>\n",
       "      <td>-123.144177</td>\n",
       "      <td>NaN</td>\n",
       "      <td>NaN</td>\n",
       "      <td>left_only</td>\n",
       "    </tr>\n",
       "    <tr>\n",
       "      <th>14575</th>\n",
       "      <td>Landmarks, Parks &amp; Sports</td>\n",
       "      <td>Prospect Point</td>\n",
       "      <td>49.314</td>\n",
       "      <td>-123.142</td>\n",
       "      <td>49.312568</td>\n",
       "      <td>-123.144177</td>\n",
       "      <td>4.0</td>\n",
       "      <td>14.0</td>\n",
       "      <td>both</td>\n",
       "    </tr>\n",
       "    <tr>\n",
       "      <th>14577</th>\n",
       "      <td>Landmarks, Parks &amp; Sports</td>\n",
       "      <td>Prospect Point Lighthouse</td>\n",
       "      <td>49.314</td>\n",
       "      <td>-123.142</td>\n",
       "      <td>49.312568</td>\n",
       "      <td>-123.144177</td>\n",
       "      <td>NaN</td>\n",
       "      <td>NaN</td>\n",
       "      <td>left_only</td>\n",
       "    </tr>\n",
       "    <tr>\n",
       "      <th>14578</th>\n",
       "      <td>Landmarks, Parks &amp; Sports</td>\n",
       "      <td>Prospect Point Picnic Area</td>\n",
       "      <td>49.313</td>\n",
       "      <td>-123.142</td>\n",
       "      <td>49.312568</td>\n",
       "      <td>-123.144177</td>\n",
       "      <td>NaN</td>\n",
       "      <td>NaN</td>\n",
       "      <td>left_only</td>\n",
       "    </tr>\n",
       "    <tr>\n",
       "      <th>31960</th>\n",
       "      <td>Landmarks, Parks &amp; Sports</td>\n",
       "      <td>Ss Beaver Cairn</td>\n",
       "      <td>49.313</td>\n",
       "      <td>-123.143</td>\n",
       "      <td>49.312568</td>\n",
       "      <td>-123.144177</td>\n",
       "      <td>0.0</td>\n",
       "      <td>0.0</td>\n",
       "      <td>right_only</td>\n",
       "    </tr>\n",
       "  </tbody>\n",
       "</table>\n",
       "</div>"
      ],
      "text/plain": [
       "                        Category                               Name  Latitude  \\\n",
       "25005  Landmarks, Parks & Sports              Harry Jerome Monument    49.298   \n",
       "7204   Landmarks, Parks & Sports                Harry Jerome Statue    49.298   \n",
       "25007  Landmarks, Parks & Sports                     Hmcs Discovery    49.296   \n",
       "7202   Landmarks, Parks & Sports                   Nine O'Clock Gun    49.298   \n",
       "25008  Landmarks, Parks & Sports         Port Of Vancouver Monument    49.301   \n",
       "25001  Landmarks, Parks & Sports                     Shore To Shore    49.299   \n",
       "25009                     Retail                 At The Totem Poles    49.299   \n",
       "7163        Arts & Entertainment                     4-D Experience    49.301   \n",
       "7162        Arts & Entertainment                        Malkin Bowl    49.299   \n",
       "7164        Arts & Entertainment                      Penguin Point    49.301   \n",
       "24981       Arts & Entertainment                        Rose Garden    49.300   \n",
       "7165        Arts & Entertainment       Stanley Park Painters Circle    49.298   \n",
       "7166        Arts & Entertainment            Theatre Under The Stars    49.300   \n",
       "7160        Arts & Entertainment                 Vancouver Aquarium    49.300   \n",
       "24983  Bars, Restaurants & Cafes                      Aquarium Cafe    49.301   \n",
       "7168   Bars, Restaurants & Cafes                     Bicycle Bistro    49.300   \n",
       "24982  Bars, Restaurants & Cafes                    Ocean Wise Cafe    49.300   \n",
       "24984  Bars, Restaurants & Cafes              Stanley'S Bar & Grill    49.300   \n",
       "7167   Bars, Restaurants & Cafes            Vancouver Aquarium Cafe    49.300   \n",
       "24990  Landmarks, Parks & Sports  Garden Of Remembrance - Air Force    49.300   \n",
       "24988  Landmarks, Parks & Sports                   Harding Memorial    49.299   \n",
       "7174   Landmarks, Parks & Sports                         Honor Roll    49.301   \n",
       "7173   Landmarks, Parks & Sports      Japanese Canadian War Memoral    49.301   \n",
       "24989  Landmarks, Parks & Sports     Japanese Canadian War Memorial    49.301   \n",
       "24987  Landmarks, Parks & Sports             Modo Spring Run-Off 8K    49.300   \n",
       "7171   Landmarks, Parks & Sports                        Salmon Pool    49.298   \n",
       "24985  Landmarks, Parks & Sports                       Stanley Park    49.298   \n",
       "7169   Landmarks, Parks & Sports  Stanley Park Harbourfront Seawall    49.297   \n",
       "7172   Landmarks, Parks & Sports           Stanley Park Information    49.298   \n",
       "7175   Landmarks, Parks & Sports            Theatre Under The Stars    49.299   \n",
       "24986  Landmarks, Parks & Sports                 Vancouver Aquarium    49.301   \n",
       "7170   Landmarks, Parks & Sports       Wyland'S 'Orcas A-30 Subpod'    49.301   \n",
       "12091  Bars, Restaurants & Cafes                          3Rd Beach    49.303   \n",
       "29643  Bars, Restaurants & Cafes           Teahouse In Stanley Park    49.301   \n",
       "12090  Bars, Restaurants & Cafes            The Teahouse Restaurant    49.301   \n",
       "12094  Landmarks, Parks & Sports                Burma Star Monument    49.301   \n",
       "12093  Landmarks, Parks & Sports                     Ferguson Point    49.301   \n",
       "29645  Landmarks, Parks & Sports                  Lovers Walk Trail    49.300   \n",
       "29644  Landmarks, Parks & Sports           Pauline Johnson Monument    49.302   \n",
       "12092  Landmarks, Parks & Sports                        Third Beach    49.304   \n",
       "31959  Bars, Restaurants & Cafes                     Prospect Point    49.313   \n",
       "14573  Bars, Restaurants & Cafes      Prospect Point - Stanley Park    49.313   \n",
       "14572  Bars, Restaurants & Cafes    Prospect Point Cafe & Gift Shop    49.313   \n",
       "14574  Bars, Restaurants & Cafes                Prospect Point Café    49.313   \n",
       "14579  Landmarks, Parks & Sports                        Eldon Trail    49.313   \n",
       "14576  Landmarks, Parks & Sports                   Lowden'S Lookout    49.313   \n",
       "14575  Landmarks, Parks & Sports                     Prospect Point    49.314   \n",
       "14577  Landmarks, Parks & Sports          Prospect Point Lighthouse    49.314   \n",
       "14578  Landmarks, Parks & Sports         Prospect Point Picnic Area    49.313   \n",
       "31960  Landmarks, Parks & Sports                    Ss Beaver Cairn    49.313   \n",
       "\n",
       "       Longitude  Assc Bike Lat  Assc Bike Long  Rating  Reviews      _merge  \n",
       "25005   -123.119      49.298657     -123.121176     4.5      4.0  right_only  \n",
       "7204    -123.119      49.298657     -123.121176     NaN      NaN   left_only  \n",
       "25007   -123.123      49.298657     -123.121176     4.0      1.0  right_only  \n",
       "7202    -123.117      49.298657     -123.121176     NaN      NaN   left_only  \n",
       "25008   -123.117      49.298657     -123.121176     4.0      1.0  right_only  \n",
       "25001   -123.121      49.298657     -123.121176     5.0      1.0  right_only  \n",
       "25009   -123.121      49.298657     -123.121176     5.0      1.0  right_only  \n",
       "7163    -123.131      49.299292     -123.130281     NaN      NaN   left_only  \n",
       "7162    -123.133      49.299292     -123.130281     NaN      NaN   left_only  \n",
       "7164    -123.132      49.299292     -123.130281     NaN      NaN   left_only  \n",
       "24981   -123.134      49.299292     -123.130281     3.5      5.0  right_only  \n",
       "7165    -123.132      49.299292     -123.130281     NaN      NaN   left_only  \n",
       "7166    -123.134      49.299292     -123.130281     NaN      NaN   left_only  \n",
       "7160    -123.131      49.299292     -123.130281     NaN      NaN   left_only  \n",
       "24983   -123.129      49.299292     -123.130281     4.5      3.0  right_only  \n",
       "7168    -123.131      49.299292     -123.130281     NaN      NaN   left_only  \n",
       "24982   -123.131      49.299292     -123.130281     4.0      1.0  right_only  \n",
       "24984   -123.134      49.299292     -123.130281     3.0    103.0  right_only  \n",
       "7167    -123.131      49.299292     -123.130281     NaN      NaN   left_only  \n",
       "24990   -123.134      49.299292     -123.130281     0.0      0.0  right_only  \n",
       "24988   -123.134      49.299292     -123.130281     4.0      1.0  right_only  \n",
       "7174    -123.132      49.299292     -123.130281     NaN      NaN   left_only  \n",
       "7173    -123.132      49.299292     -123.130281     NaN      NaN   left_only  \n",
       "24989   -123.132      49.299292     -123.130281     4.5      2.0  right_only  \n",
       "24987   -123.136      49.299292     -123.130281     5.0      1.0  right_only  \n",
       "7171    -123.131      49.299292     -123.130281     NaN      NaN   left_only  \n",
       "24985   -123.131      49.299292     -123.130281     5.0   1079.0  right_only  \n",
       "7169    -123.131      49.299292     -123.130281     NaN      NaN   left_only  \n",
       "7172    -123.131      49.299292     -123.130281     NaN      NaN   left_only  \n",
       "7175    -123.133      49.299292     -123.130281     NaN      NaN   left_only  \n",
       "24986   -123.131      49.299292     -123.130281     4.5    561.0  right_only  \n",
       "7170    -123.131      49.299292     -123.130281     NaN      NaN   left_only  \n",
       "12091   -123.156      49.302577     -123.155616     NaN      NaN   left_only  \n",
       "29643   -123.157      49.302577     -123.155616     4.0    431.0  right_only  \n",
       "12090   -123.157      49.302577     -123.155616     NaN      NaN   left_only  \n",
       "12094   -123.159      49.302577     -123.155616     NaN      NaN   left_only  \n",
       "12093   -123.158      49.302577     -123.155616     NaN      NaN   left_only  \n",
       "29645   -123.152      49.302577     -123.155616     5.0      2.0  right_only  \n",
       "29644   -123.156      49.302577     -123.155616     4.0      1.0  right_only  \n",
       "12092   -123.156      49.302577     -123.155616     4.5     30.0        both  \n",
       "31959   -123.143      49.312568     -123.144177     3.5     82.0  right_only  \n",
       "14573   -123.143      49.312568     -123.144177     NaN      NaN   left_only  \n",
       "14572   -123.143      49.312568     -123.144177     NaN      NaN   left_only  \n",
       "14574   -123.143      49.312568     -123.144177     NaN      NaN   left_only  \n",
       "14579   -123.141      49.312568     -123.144177     NaN      NaN   left_only  \n",
       "14576   -123.142      49.312568     -123.144177     NaN      NaN   left_only  \n",
       "14575   -123.142      49.312568     -123.144177     4.0     14.0        both  \n",
       "14577   -123.142      49.312568     -123.144177     NaN      NaN   left_only  \n",
       "14578   -123.142      49.312568     -123.144177     NaN      NaN   left_only  \n",
       "31960   -123.143      49.312568     -123.144177     0.0      0.0  right_only  "
      ]
     },
     "execution_count": 15,
     "metadata": {},
     "output_type": "execute_result"
    }
   ],
   "source": [
    "POI_df_dupes.sort_values(by=['Assc Bike Lat', 'Category', 'Name', '_merge']).tail(50)"
   ]
  },
  {
   "cell_type": "code",
   "execution_count": 16,
   "metadata": {},
   "outputs": [],
   "source": [
    "POI_df = POI_df_dupes.copy()\n",
    "del POI_df_dupes"
   ]
  },
  {
   "cell_type": "code",
   "execution_count": 40,
   "metadata": {},
   "outputs": [
    {
     "data": {
      "text/html": [
       "<div>\n",
       "<style scoped>\n",
       "    .dataframe tbody tr th:only-of-type {\n",
       "        vertical-align: middle;\n",
       "    }\n",
       "\n",
       "    .dataframe tbody tr th {\n",
       "        vertical-align: top;\n",
       "    }\n",
       "\n",
       "    .dataframe thead th {\n",
       "        text-align: right;\n",
       "    }\n",
       "</style>\n",
       "<table border=\"1\" class=\"dataframe\">\n",
       "  <thead>\n",
       "    <tr style=\"text-align: right;\">\n",
       "      <th></th>\n",
       "      <th>Station_name</th>\n",
       "      <th>Station Latitude</th>\n",
       "      <th>Station Longitude</th>\n",
       "      <th>Bikes</th>\n",
       "      <th>Category</th>\n",
       "      <th>Name</th>\n",
       "      <th>POI Latitude</th>\n",
       "      <th>POI Longitude</th>\n",
       "      <th>Rating</th>\n",
       "      <th>Reviews</th>\n",
       "      <th>_merge</th>\n",
       "    </tr>\n",
       "  </thead>\n",
       "  <tbody>\n",
       "    <tr>\n",
       "      <th>0</th>\n",
       "      <td>10th &amp; Cambie</td>\n",
       "      <td>49.262487</td>\n",
       "      <td>-123.114397</td>\n",
       "      <td>35</td>\n",
       "      <td>Arts &amp; Entertainment</td>\n",
       "      <td>Yuk Yuk'S Comedy Club</td>\n",
       "      <td>49.260</td>\n",
       "      <td>-123.115</td>\n",
       "      <td>NaN</td>\n",
       "      <td>NaN</td>\n",
       "      <td>Foursquare</td>\n",
       "    </tr>\n",
       "    <tr>\n",
       "      <th>1</th>\n",
       "      <td>10th &amp; Cambie</td>\n",
       "      <td>49.262487</td>\n",
       "      <td>-123.114397</td>\n",
       "      <td>35</td>\n",
       "      <td>Arts &amp; Entertainment</td>\n",
       "      <td>Evolve Virtual Reality</td>\n",
       "      <td>49.263</td>\n",
       "      <td>-123.114</td>\n",
       "      <td>NaN</td>\n",
       "      <td>NaN</td>\n",
       "      <td>Foursquare</td>\n",
       "    </tr>\n",
       "    <tr>\n",
       "      <th>2</th>\n",
       "      <td>10th &amp; Cambie</td>\n",
       "      <td>49.262487</td>\n",
       "      <td>-123.114397</td>\n",
       "      <td>35</td>\n",
       "      <td>Arts &amp; Entertainment</td>\n",
       "      <td>E-Exit Canada</td>\n",
       "      <td>49.262</td>\n",
       "      <td>-123.112</td>\n",
       "      <td>NaN</td>\n",
       "      <td>NaN</td>\n",
       "      <td>Foursquare</td>\n",
       "    </tr>\n",
       "    <tr>\n",
       "      <th>3</th>\n",
       "      <td>10th &amp; Cambie</td>\n",
       "      <td>49.262487</td>\n",
       "      <td>-123.114397</td>\n",
       "      <td>35</td>\n",
       "      <td>Arts &amp; Entertainment</td>\n",
       "      <td>Bard On The Beach Shakespeare Festival Adminis...</td>\n",
       "      <td>49.263</td>\n",
       "      <td>-123.114</td>\n",
       "      <td>NaN</td>\n",
       "      <td>NaN</td>\n",
       "      <td>Foursquare</td>\n",
       "    </tr>\n",
       "    <tr>\n",
       "      <th>4</th>\n",
       "      <td>10th &amp; Cambie</td>\n",
       "      <td>49.262487</td>\n",
       "      <td>-123.114397</td>\n",
       "      <td>35</td>\n",
       "      <td>Arts &amp; Entertainment</td>\n",
       "      <td>Exit West Broadway</td>\n",
       "      <td>49.263</td>\n",
       "      <td>-123.111</td>\n",
       "      <td>NaN</td>\n",
       "      <td>NaN</td>\n",
       "      <td>Foursquare</td>\n",
       "    </tr>\n",
       "  </tbody>\n",
       "</table>\n",
       "</div>"
      ],
      "text/plain": [
       "    Station_name  Station Latitude  Station Longitude  Bikes  \\\n",
       "0  10th & Cambie         49.262487        -123.114397     35   \n",
       "1  10th & Cambie         49.262487        -123.114397     35   \n",
       "2  10th & Cambie         49.262487        -123.114397     35   \n",
       "3  10th & Cambie         49.262487        -123.114397     35   \n",
       "4  10th & Cambie         49.262487        -123.114397     35   \n",
       "\n",
       "               Category                                               Name  \\\n",
       "0  Arts & Entertainment                              Yuk Yuk'S Comedy Club   \n",
       "1  Arts & Entertainment                             Evolve Virtual Reality   \n",
       "2  Arts & Entertainment                                      E-Exit Canada   \n",
       "3  Arts & Entertainment  Bard On The Beach Shakespeare Festival Adminis...   \n",
       "4  Arts & Entertainment                                 Exit West Broadway   \n",
       "\n",
       "   POI Latitude  POI Longitude  Rating  Reviews      _merge  \n",
       "0        49.260       -123.115     NaN      NaN  Foursquare  \n",
       "1        49.263       -123.114     NaN      NaN  Foursquare  \n",
       "2        49.262       -123.112     NaN      NaN  Foursquare  \n",
       "3        49.263       -123.114     NaN      NaN  Foursquare  \n",
       "4        49.263       -123.111     NaN      NaN  Foursquare  "
      ]
     },
     "execution_count": 40,
     "metadata": {},
     "output_type": "execute_result"
    }
   ],
   "source": [
    "full_df = pd.merge(bike_df, POI_df, left_on=['Latitude', 'Longitude'], right_on=['Assc Bike Lat', 'Assc Bike Long'], how='left')\n",
    "\n",
    "full_df.drop(columns=['Coord_String', 'Assc Bike Lat', 'Assc Bike Long'], inplace=True)\n",
    "full_df.rename(columns={'Latitude_y': 'POI Latitude', 'Longitude_y': 'POI Longitude', 'Latitude_x': 'Station Latitude', 'Longitude_x': 'Station Longitude'}, inplace=True)\n",
    "\n",
    "merge_dict = {'left_only': 'Foursquare', 'right_only': 'Yelp', 'both': 'both'}\n",
    "full_df.replace({'_merge': merge_dict}, inplace=True) \n",
    "\n",
    "full_df.head()"
   ]
  },
  {
   "cell_type": "code",
   "execution_count": 41,
   "metadata": {},
   "outputs": [
    {
     "name": "stdout",
     "output_type": "stream",
     "text": [
      "(26980, 11)\n",
      "Robson & Granville     536\n",
      "Granville & Georgia    536\n",
      "Seymour & Cordova      501\n",
      "Robson & Hornby        485\n",
      "Dunsmuir & Richards    478\n",
      "                      ... \n",
      "Windsor & 14th           3\n",
      "Burrard & 14th           3\n",
      "Cypress & 16th           2\n",
      "29th & Cambie            2\n",
      "15th & Knight            1\n",
      "Name: Station_name, Length: 241, dtype: int64\n"
     ]
    }
   ],
   "source": [
    "print(full_df.shape)\n",
    "print(full_df['Station_name'].value_counts())"
   ]
  },
  {
   "cell_type": "code",
   "execution_count": 48,
   "metadata": {},
   "outputs": [
    {
     "data": {
      "text/plain": [
       "Station_name             0\n",
       "Station Latitude         0\n",
       "Station Longitude        0\n",
       "Bikes                    0\n",
       "Category                 0\n",
       "Name                     0\n",
       "POI Latitude           155\n",
       "POI Longitude          155\n",
       "Rating               16366\n",
       "Reviews              16366\n",
       "_merge                   0\n",
       "dtype: int64"
      ]
     },
     "execution_count": 48,
     "metadata": {},
     "output_type": "execute_result"
    }
   ],
   "source": [
    "full_df.isna().sum()"
   ]
  },
  {
   "cell_type": "code",
   "execution_count": 43,
   "metadata": {},
   "outputs": [
    {
     "data": {
      "text/html": [
       "<div>\n",
       "<style scoped>\n",
       "    .dataframe tbody tr th:only-of-type {\n",
       "        vertical-align: middle;\n",
       "    }\n",
       "\n",
       "    .dataframe tbody tr th {\n",
       "        vertical-align: top;\n",
       "    }\n",
       "\n",
       "    .dataframe thead th {\n",
       "        text-align: right;\n",
       "    }\n",
       "</style>\n",
       "<table border=\"1\" class=\"dataframe\">\n",
       "  <thead>\n",
       "    <tr style=\"text-align: right;\">\n",
       "      <th></th>\n",
       "      <th></th>\n",
       "      <th>Station Latitude</th>\n",
       "      <th>Station Longitude</th>\n",
       "      <th>Bikes</th>\n",
       "      <th>POI Latitude</th>\n",
       "      <th>POI Longitude</th>\n",
       "      <th>Rating</th>\n",
       "      <th>Reviews</th>\n",
       "    </tr>\n",
       "    <tr>\n",
       "      <th>Station_name</th>\n",
       "      <th>Category</th>\n",
       "      <th></th>\n",
       "      <th></th>\n",
       "      <th></th>\n",
       "      <th></th>\n",
       "      <th></th>\n",
       "      <th></th>\n",
       "      <th></th>\n",
       "    </tr>\n",
       "  </thead>\n",
       "  <tbody>\n",
       "    <tr>\n",
       "      <th rowspan=\"5\" valign=\"top\">10th &amp; Cambie</th>\n",
       "      <th>Arts &amp; Entertainment</th>\n",
       "      <td>49.262487</td>\n",
       "      <td>-123.114397</td>\n",
       "      <td>35</td>\n",
       "      <td>49.240654</td>\n",
       "      <td>-123.068846</td>\n",
       "      <td>1.976190</td>\n",
       "      <td>7.857143</td>\n",
       "    </tr>\n",
       "    <tr>\n",
       "      <th>Bars, Restaurants &amp; Cafes</th>\n",
       "      <td>49.262487</td>\n",
       "      <td>-123.114397</td>\n",
       "      <td>35</td>\n",
       "      <td>49.263312</td>\n",
       "      <td>-123.114290</td>\n",
       "      <td>3.680000</td>\n",
       "      <td>96.760000</td>\n",
       "    </tr>\n",
       "    <tr>\n",
       "      <th>Landmarks, Parks &amp; Sports</th>\n",
       "      <td>49.262487</td>\n",
       "      <td>-123.114397</td>\n",
       "      <td>35</td>\n",
       "      <td>49.310342</td>\n",
       "      <td>-123.110842</td>\n",
       "      <td>3.591837</td>\n",
       "      <td>11.040816</td>\n",
       "    </tr>\n",
       "    <tr>\n",
       "      <th>Municipal</th>\n",
       "      <td>49.262487</td>\n",
       "      <td>-123.114397</td>\n",
       "      <td>35</td>\n",
       "      <td>49.263000</td>\n",
       "      <td>-123.116750</td>\n",
       "      <td>2.125000</td>\n",
       "      <td>2.250000</td>\n",
       "    </tr>\n",
       "    <tr>\n",
       "      <th>Retail</th>\n",
       "      <td>49.262487</td>\n",
       "      <td>-123.114397</td>\n",
       "      <td>35</td>\n",
       "      <td>49.269082</td>\n",
       "      <td>-123.086433</td>\n",
       "      <td>2.654545</td>\n",
       "      <td>14.418182</td>\n",
       "    </tr>\n",
       "    <tr>\n",
       "      <th>...</th>\n",
       "      <th>...</th>\n",
       "      <td>...</td>\n",
       "      <td>...</td>\n",
       "      <td>...</td>\n",
       "      <td>...</td>\n",
       "      <td>...</td>\n",
       "      <td>...</td>\n",
       "      <td>...</td>\n",
       "    </tr>\n",
       "    <tr>\n",
       "      <th rowspan=\"5\" valign=\"top\">šxʷƛ̓ənəq Xwtl'e7énḵ Square - Vancouver Art Gallery</th>\n",
       "      <th>Bars, Restaurants &amp; Cafes</th>\n",
       "      <td>49.283227</td>\n",
       "      <td>-123.120523</td>\n",
       "      <td>28</td>\n",
       "      <td>49.283225</td>\n",
       "      <td>-123.120416</td>\n",
       "      <td>NaN</td>\n",
       "      <td>NaN</td>\n",
       "    </tr>\n",
       "    <tr>\n",
       "      <th>Landmarks, Parks &amp; Sports</th>\n",
       "      <td>49.283227</td>\n",
       "      <td>-123.120523</td>\n",
       "      <td>28</td>\n",
       "      <td>49.283275</td>\n",
       "      <td>-123.120525</td>\n",
       "      <td>NaN</td>\n",
       "      <td>NaN</td>\n",
       "    </tr>\n",
       "    <tr>\n",
       "      <th>Municipal</th>\n",
       "      <td>49.283227</td>\n",
       "      <td>-123.120523</td>\n",
       "      <td>28</td>\n",
       "      <td>49.281000</td>\n",
       "      <td>-123.123000</td>\n",
       "      <td>NaN</td>\n",
       "      <td>NaN</td>\n",
       "    </tr>\n",
       "    <tr>\n",
       "      <th>Retail</th>\n",
       "      <td>49.283227</td>\n",
       "      <td>-123.120523</td>\n",
       "      <td>28</td>\n",
       "      <td>49.282897</td>\n",
       "      <td>-123.119841</td>\n",
       "      <td>NaN</td>\n",
       "      <td>NaN</td>\n",
       "    </tr>\n",
       "    <tr>\n",
       "      <th>Schools</th>\n",
       "      <td>49.283227</td>\n",
       "      <td>-123.120523</td>\n",
       "      <td>28</td>\n",
       "      <td>49.282000</td>\n",
       "      <td>-123.121000</td>\n",
       "      <td>NaN</td>\n",
       "      <td>NaN</td>\n",
       "    </tr>\n",
       "  </tbody>\n",
       "</table>\n",
       "<p>1150 rows × 7 columns</p>\n",
       "</div>"
      ],
      "text/plain": [
       "                                                                              Station Latitude  \\\n",
       "Station_name                                       Category                                      \n",
       "10th & Cambie                                      Arts & Entertainment              49.262487   \n",
       "                                                   Bars, Restaurants & Cafes         49.262487   \n",
       "                                                   Landmarks, Parks & Sports         49.262487   \n",
       "                                                   Municipal                         49.262487   \n",
       "                                                   Retail                            49.262487   \n",
       "...                                                                                        ...   \n",
       "šxʷƛ̓ənəq Xwtl'e7énḵ Square - Vancouver Art G... Bars, Restaurants & Cafes         49.283227   \n",
       "                                                   Landmarks, Parks & Sports         49.283227   \n",
       "                                                   Municipal                         49.283227   \n",
       "                                                   Retail                            49.283227   \n",
       "                                                   Schools                           49.283227   \n",
       "\n",
       "                                                                              Station Longitude  \\\n",
       "Station_name                                       Category                                       \n",
       "10th & Cambie                                      Arts & Entertainment             -123.114397   \n",
       "                                                   Bars, Restaurants & Cafes        -123.114397   \n",
       "                                                   Landmarks, Parks & Sports        -123.114397   \n",
       "                                                   Municipal                        -123.114397   \n",
       "                                                   Retail                           -123.114397   \n",
       "...                                                                                         ...   \n",
       "šxʷƛ̓ənəq Xwtl'e7énḵ Square - Vancouver Art G... Bars, Restaurants & Cafes        -123.120523   \n",
       "                                                   Landmarks, Parks & Sports        -123.120523   \n",
       "                                                   Municipal                        -123.120523   \n",
       "                                                   Retail                           -123.120523   \n",
       "                                                   Schools                          -123.120523   \n",
       "\n",
       "                                                                              Bikes  \\\n",
       "Station_name                                       Category                           \n",
       "10th & Cambie                                      Arts & Entertainment          35   \n",
       "                                                   Bars, Restaurants & Cafes     35   \n",
       "                                                   Landmarks, Parks & Sports     35   \n",
       "                                                   Municipal                     35   \n",
       "                                                   Retail                        35   \n",
       "...                                                                             ...   \n",
       "šxʷƛ̓ənəq Xwtl'e7énḵ Square - Vancouver Art G... Bars, Restaurants & Cafes     28   \n",
       "                                                   Landmarks, Parks & Sports     28   \n",
       "                                                   Municipal                     28   \n",
       "                                                   Retail                        28   \n",
       "                                                   Schools                       28   \n",
       "\n",
       "                                                                              POI Latitude  \\\n",
       "Station_name                                       Category                                  \n",
       "10th & Cambie                                      Arts & Entertainment          49.240654   \n",
       "                                                   Bars, Restaurants & Cafes     49.263312   \n",
       "                                                   Landmarks, Parks & Sports     49.310342   \n",
       "                                                   Municipal                     49.263000   \n",
       "                                                   Retail                        49.269082   \n",
       "...                                                                                    ...   \n",
       "šxʷƛ̓ənəq Xwtl'e7énḵ Square - Vancouver Art G... Bars, Restaurants & Cafes     49.283225   \n",
       "                                                   Landmarks, Parks & Sports     49.283275   \n",
       "                                                   Municipal                     49.281000   \n",
       "                                                   Retail                        49.282897   \n",
       "                                                   Schools                       49.282000   \n",
       "\n",
       "                                                                              POI Longitude  \\\n",
       "Station_name                                       Category                                   \n",
       "10th & Cambie                                      Arts & Entertainment         -123.068846   \n",
       "                                                   Bars, Restaurants & Cafes    -123.114290   \n",
       "                                                   Landmarks, Parks & Sports    -123.110842   \n",
       "                                                   Municipal                    -123.116750   \n",
       "                                                   Retail                       -123.086433   \n",
       "...                                                                                     ...   \n",
       "šxʷƛ̓ənəq Xwtl'e7énḵ Square - Vancouver Art G... Bars, Restaurants & Cafes    -123.120416   \n",
       "                                                   Landmarks, Parks & Sports    -123.120525   \n",
       "                                                   Municipal                    -123.123000   \n",
       "                                                   Retail                       -123.119841   \n",
       "                                                   Schools                      -123.121000   \n",
       "\n",
       "                                                                                Rating  \\\n",
       "Station_name                                       Category                              \n",
       "10th & Cambie                                      Arts & Entertainment       1.976190   \n",
       "                                                   Bars, Restaurants & Cafes  3.680000   \n",
       "                                                   Landmarks, Parks & Sports  3.591837   \n",
       "                                                   Municipal                  2.125000   \n",
       "                                                   Retail                     2.654545   \n",
       "...                                                                                ...   \n",
       "šxʷƛ̓ənəq Xwtl'e7énḵ Square - Vancouver Art G... Bars, Restaurants & Cafes       NaN   \n",
       "                                                   Landmarks, Parks & Sports       NaN   \n",
       "                                                   Municipal                       NaN   \n",
       "                                                   Retail                          NaN   \n",
       "                                                   Schools                         NaN   \n",
       "\n",
       "                                                                                Reviews  \n",
       "Station_name                                       Category                              \n",
       "10th & Cambie                                      Arts & Entertainment        7.857143  \n",
       "                                                   Bars, Restaurants & Cafes  96.760000  \n",
       "                                                   Landmarks, Parks & Sports  11.040816  \n",
       "                                                   Municipal                   2.250000  \n",
       "                                                   Retail                     14.418182  \n",
       "...                                                                                 ...  \n",
       "šxʷƛ̓ənəq Xwtl'e7énḵ Square - Vancouver Art G... Bars, Restaurants & Cafes        NaN  \n",
       "                                                   Landmarks, Parks & Sports        NaN  \n",
       "                                                   Municipal                        NaN  \n",
       "                                                   Retail                           NaN  \n",
       "                                                   Schools                          NaN  \n",
       "\n",
       "[1150 rows x 7 columns]"
      ]
     },
     "execution_count": 43,
     "metadata": {},
     "output_type": "execute_result"
    }
   ],
   "source": [
    "full_df.groupby(['Station_name','Category']).mean()"
   ]
  },
  {
   "cell_type": "code",
   "execution_count": 103,
   "metadata": {},
   "outputs": [],
   "source": [
    "sum_df = pd.DataFrame(full_df.groupby(['Station_name', 'Bikes'])['Category'].value_counts())\n",
    "sum_df = sum_df.unstack(level=-1)\n",
    "sum_df = sum_df.droplevel(0, axis=1)\n",
    "sum_df.reset_index(inplace=True)\n"
   ]
  },
  {
   "cell_type": "code",
   "execution_count": 124,
   "metadata": {},
   "outputs": [],
   "source": [
    "sum_df['Total POIs'] = sum_df[['Arts & Entertainment', 'Bars, Restaurants & Cafes', 'Landmarks, Parks & Sports', 'Municipal', 'Retail', 'Schools']].sum(axis=1)"
   ]
  },
  {
   "cell_type": "code",
   "execution_count": 99,
   "metadata": {},
   "outputs": [],
   "source": []
  },
  {
   "cell_type": "code",
   "execution_count": 125,
   "metadata": {},
   "outputs": [
    {
     "data": {
      "text/html": [
       "<div>\n",
       "<style scoped>\n",
       "    .dataframe tbody tr th:only-of-type {\n",
       "        vertical-align: middle;\n",
       "    }\n",
       "\n",
       "    .dataframe tbody tr th {\n",
       "        vertical-align: top;\n",
       "    }\n",
       "\n",
       "    .dataframe thead th {\n",
       "        text-align: right;\n",
       "    }\n",
       "</style>\n",
       "<table border=\"1\" class=\"dataframe\">\n",
       "  <thead>\n",
       "    <tr style=\"text-align: right;\">\n",
       "      <th>Category</th>\n",
       "      <th>Station_name</th>\n",
       "      <th>Bikes</th>\n",
       "      <th>Arts &amp; Entertainment</th>\n",
       "      <th>Bars, Restaurants &amp; Cafes</th>\n",
       "      <th>Landmarks, Parks &amp; Sports</th>\n",
       "      <th>Municipal</th>\n",
       "      <th>Retail</th>\n",
       "      <th>Schools</th>\n",
       "      <th>Total POIs</th>\n",
       "    </tr>\n",
       "  </thead>\n",
       "  <tbody>\n",
       "    <tr>\n",
       "      <th>0</th>\n",
       "      <td>10th &amp; Cambie</td>\n",
       "      <td>35</td>\n",
       "      <td>26.0</td>\n",
       "      <td>93.0</td>\n",
       "      <td>76.0</td>\n",
       "      <td>4.0</td>\n",
       "      <td>99.0</td>\n",
       "      <td>4.0</td>\n",
       "      <td>302.0</td>\n",
       "    </tr>\n",
       "    <tr>\n",
       "      <th>1</th>\n",
       "      <td>10th &amp; Columbia</td>\n",
       "      <td>14</td>\n",
       "      <td>7.0</td>\n",
       "      <td>24.0</td>\n",
       "      <td>14.0</td>\n",
       "      <td>0.0</td>\n",
       "      <td>19.0</td>\n",
       "      <td>0.0</td>\n",
       "      <td>64.0</td>\n",
       "    </tr>\n",
       "    <tr>\n",
       "      <th>2</th>\n",
       "      <td>10th &amp; Commercial</td>\n",
       "      <td>26</td>\n",
       "      <td>8.0</td>\n",
       "      <td>41.0</td>\n",
       "      <td>8.0</td>\n",
       "      <td>2.0</td>\n",
       "      <td>27.0</td>\n",
       "      <td>1.0</td>\n",
       "      <td>87.0</td>\n",
       "    </tr>\n",
       "    <tr>\n",
       "      <th>3</th>\n",
       "      <td>10th &amp; Fraser</td>\n",
       "      <td>14</td>\n",
       "      <td>4.0</td>\n",
       "      <td>19.0</td>\n",
       "      <td>3.0</td>\n",
       "      <td>0.0</td>\n",
       "      <td>9.0</td>\n",
       "      <td>0.0</td>\n",
       "      <td>35.0</td>\n",
       "    </tr>\n",
       "    <tr>\n",
       "      <th>4</th>\n",
       "      <td>10th &amp; Granville</td>\n",
       "      <td>14</td>\n",
       "      <td>20.0</td>\n",
       "      <td>62.0</td>\n",
       "      <td>26.0</td>\n",
       "      <td>2.0</td>\n",
       "      <td>77.0</td>\n",
       "      <td>1.0</td>\n",
       "      <td>188.0</td>\n",
       "    </tr>\n",
       "    <tr>\n",
       "      <th>...</th>\n",
       "      <td>...</td>\n",
       "      <td>...</td>\n",
       "      <td>...</td>\n",
       "      <td>...</td>\n",
       "      <td>...</td>\n",
       "      <td>...</td>\n",
       "      <td>...</td>\n",
       "      <td>...</td>\n",
       "      <td>...</td>\n",
       "    </tr>\n",
       "    <tr>\n",
       "      <th>236</th>\n",
       "      <td>Yaletown-Roundhouse Station</td>\n",
       "      <td>16</td>\n",
       "      <td>37.0</td>\n",
       "      <td>129.0</td>\n",
       "      <td>71.0</td>\n",
       "      <td>2.0</td>\n",
       "      <td>88.0</td>\n",
       "      <td>2.0</td>\n",
       "      <td>329.0</td>\n",
       "    </tr>\n",
       "    <tr>\n",
       "      <th>237</th>\n",
       "      <td>Yew &amp; Broadway</td>\n",
       "      <td>18</td>\n",
       "      <td>4.0</td>\n",
       "      <td>32.0</td>\n",
       "      <td>34.0</td>\n",
       "      <td>1.0</td>\n",
       "      <td>22.0</td>\n",
       "      <td>2.0</td>\n",
       "      <td>95.0</td>\n",
       "    </tr>\n",
       "    <tr>\n",
       "      <th>238</th>\n",
       "      <td>York &amp; Yew</td>\n",
       "      <td>20</td>\n",
       "      <td>1.0</td>\n",
       "      <td>18.0</td>\n",
       "      <td>5.0</td>\n",
       "      <td>0.0</td>\n",
       "      <td>5.0</td>\n",
       "      <td>0.0</td>\n",
       "      <td>29.0</td>\n",
       "    </tr>\n",
       "    <tr>\n",
       "      <th>239</th>\n",
       "      <td>Yukon &amp; 6th</td>\n",
       "      <td>18</td>\n",
       "      <td>28.0</td>\n",
       "      <td>74.0</td>\n",
       "      <td>63.0</td>\n",
       "      <td>1.0</td>\n",
       "      <td>74.0</td>\n",
       "      <td>2.0</td>\n",
       "      <td>242.0</td>\n",
       "    </tr>\n",
       "    <tr>\n",
       "      <th>240</th>\n",
       "      <td>šxʷƛ̓ənəq Xwtl'e7énḵ Square - Vancouver Art ...</td>\n",
       "      <td>28</td>\n",
       "      <td>21.0</td>\n",
       "      <td>89.0</td>\n",
       "      <td>40.0</td>\n",
       "      <td>1.0</td>\n",
       "      <td>107.0</td>\n",
       "      <td>1.0</td>\n",
       "      <td>259.0</td>\n",
       "    </tr>\n",
       "  </tbody>\n",
       "</table>\n",
       "<p>241 rows × 9 columns</p>\n",
       "</div>"
      ],
      "text/plain": [
       "Category                                       Station_name  Bikes  \\\n",
       "0                                             10th & Cambie     35   \n",
       "1                                           10th & Columbia     14   \n",
       "2                                         10th & Commercial     26   \n",
       "3                                             10th & Fraser     14   \n",
       "4                                          10th & Granville     14   \n",
       "..                                                      ...    ...   \n",
       "236                             Yaletown-Roundhouse Station     16   \n",
       "237                                          Yew & Broadway     18   \n",
       "238                                              York & Yew     20   \n",
       "239                                             Yukon & 6th     18   \n",
       "240       šxʷƛ̓ənəq Xwtl'e7énḵ Square - Vancouver Art ...     28   \n",
       "\n",
       "Category  Arts & Entertainment  Bars, Restaurants & Cafes  \\\n",
       "0                         26.0                       93.0   \n",
       "1                          7.0                       24.0   \n",
       "2                          8.0                       41.0   \n",
       "3                          4.0                       19.0   \n",
       "4                         20.0                       62.0   \n",
       "..                         ...                        ...   \n",
       "236                       37.0                      129.0   \n",
       "237                        4.0                       32.0   \n",
       "238                        1.0                       18.0   \n",
       "239                       28.0                       74.0   \n",
       "240                       21.0                       89.0   \n",
       "\n",
       "Category  Landmarks, Parks & Sports  Municipal  Retail  Schools  Total POIs  \n",
       "0                              76.0        4.0    99.0      4.0       302.0  \n",
       "1                              14.0        0.0    19.0      0.0        64.0  \n",
       "2                               8.0        2.0    27.0      1.0        87.0  \n",
       "3                               3.0        0.0     9.0      0.0        35.0  \n",
       "4                              26.0        2.0    77.0      1.0       188.0  \n",
       "..                              ...        ...     ...      ...         ...  \n",
       "236                            71.0        2.0    88.0      2.0       329.0  \n",
       "237                            34.0        1.0    22.0      2.0        95.0  \n",
       "238                             5.0        0.0     5.0      0.0        29.0  \n",
       "239                            63.0        1.0    74.0      2.0       242.0  \n",
       "240                            40.0        1.0   107.0      1.0       259.0  \n",
       "\n",
       "[241 rows x 9 columns]"
      ]
     },
     "execution_count": 125,
     "metadata": {},
     "output_type": "execute_result"
    }
   ],
   "source": [
    "sum_df"
   ]
  },
  {
   "cell_type": "code",
   "execution_count": 126,
   "metadata": {},
   "outputs": [
    {
     "data": {
      "text/html": [
       "<div>\n",
       "<style scoped>\n",
       "    .dataframe tbody tr th:only-of-type {\n",
       "        vertical-align: middle;\n",
       "    }\n",
       "\n",
       "    .dataframe tbody tr th {\n",
       "        vertical-align: top;\n",
       "    }\n",
       "\n",
       "    .dataframe thead th {\n",
       "        text-align: right;\n",
       "    }\n",
       "</style>\n",
       "<table border=\"1\" class=\"dataframe\">\n",
       "  <thead>\n",
       "    <tr style=\"text-align: right;\">\n",
       "      <th>Category</th>\n",
       "      <th>Bikes</th>\n",
       "      <th>Arts &amp; Entertainment</th>\n",
       "      <th>Bars, Restaurants &amp; Cafes</th>\n",
       "      <th>Landmarks, Parks &amp; Sports</th>\n",
       "      <th>Municipal</th>\n",
       "      <th>Retail</th>\n",
       "      <th>Schools</th>\n",
       "      <th>Total POIs</th>\n",
       "    </tr>\n",
       "  </thead>\n",
       "  <tbody>\n",
       "    <tr>\n",
       "      <th>count</th>\n",
       "      <td>241.000000</td>\n",
       "      <td>241.000000</td>\n",
       "      <td>241.000000</td>\n",
       "      <td>241.000000</td>\n",
       "      <td>241.000000</td>\n",
       "      <td>241.000000</td>\n",
       "      <td>241.000000</td>\n",
       "      <td>241.000000</td>\n",
       "    </tr>\n",
       "    <tr>\n",
       "      <th>mean</th>\n",
       "      <td>18.887967</td>\n",
       "      <td>12.265560</td>\n",
       "      <td>41.585062</td>\n",
       "      <td>19.622407</td>\n",
       "      <td>1.630705</td>\n",
       "      <td>34.834025</td>\n",
       "      <td>2.012448</td>\n",
       "      <td>111.950207</td>\n",
       "    </tr>\n",
       "    <tr>\n",
       "      <th>std</th>\n",
       "      <td>5.394432</td>\n",
       "      <td>15.949269</td>\n",
       "      <td>38.733411</td>\n",
       "      <td>19.612989</td>\n",
       "      <td>2.816716</td>\n",
       "      <td>41.559163</td>\n",
       "      <td>5.306821</td>\n",
       "      <td>113.563994</td>\n",
       "    </tr>\n",
       "    <tr>\n",
       "      <th>min</th>\n",
       "      <td>12.000000</td>\n",
       "      <td>0.000000</td>\n",
       "      <td>0.000000</td>\n",
       "      <td>0.000000</td>\n",
       "      <td>0.000000</td>\n",
       "      <td>0.000000</td>\n",
       "      <td>0.000000</td>\n",
       "      <td>1.000000</td>\n",
       "    </tr>\n",
       "    <tr>\n",
       "      <th>25%</th>\n",
       "      <td>15.000000</td>\n",
       "      <td>2.000000</td>\n",
       "      <td>9.000000</td>\n",
       "      <td>6.000000</td>\n",
       "      <td>0.000000</td>\n",
       "      <td>6.000000</td>\n",
       "      <td>0.000000</td>\n",
       "      <td>24.000000</td>\n",
       "    </tr>\n",
       "    <tr>\n",
       "      <th>50%</th>\n",
       "      <td>18.000000</td>\n",
       "      <td>7.000000</td>\n",
       "      <td>30.000000</td>\n",
       "      <td>12.000000</td>\n",
       "      <td>1.000000</td>\n",
       "      <td>21.000000</td>\n",
       "      <td>0.000000</td>\n",
       "      <td>78.000000</td>\n",
       "    </tr>\n",
       "    <tr>\n",
       "      <th>75%</th>\n",
       "      <td>20.000000</td>\n",
       "      <td>14.000000</td>\n",
       "      <td>65.000000</td>\n",
       "      <td>28.000000</td>\n",
       "      <td>2.000000</td>\n",
       "      <td>45.000000</td>\n",
       "      <td>2.000000</td>\n",
       "      <td>159.000000</td>\n",
       "    </tr>\n",
       "    <tr>\n",
       "      <th>max</th>\n",
       "      <td>40.000000</td>\n",
       "      <td>78.000000</td>\n",
       "      <td>151.000000</td>\n",
       "      <td>87.000000</td>\n",
       "      <td>21.000000</td>\n",
       "      <td>219.000000</td>\n",
       "      <td>42.000000</td>\n",
       "      <td>536.000000</td>\n",
       "    </tr>\n",
       "  </tbody>\n",
       "</table>\n",
       "</div>"
      ],
      "text/plain": [
       "Category       Bikes  Arts & Entertainment  Bars, Restaurants & Cafes  \\\n",
       "count     241.000000            241.000000                 241.000000   \n",
       "mean       18.887967             12.265560                  41.585062   \n",
       "std         5.394432             15.949269                  38.733411   \n",
       "min        12.000000              0.000000                   0.000000   \n",
       "25%        15.000000              2.000000                   9.000000   \n",
       "50%        18.000000              7.000000                  30.000000   \n",
       "75%        20.000000             14.000000                  65.000000   \n",
       "max        40.000000             78.000000                 151.000000   \n",
       "\n",
       "Category  Landmarks, Parks & Sports   Municipal      Retail     Schools  \\\n",
       "count                    241.000000  241.000000  241.000000  241.000000   \n",
       "mean                      19.622407    1.630705   34.834025    2.012448   \n",
       "std                       19.612989    2.816716   41.559163    5.306821   \n",
       "min                        0.000000    0.000000    0.000000    0.000000   \n",
       "25%                        6.000000    0.000000    6.000000    0.000000   \n",
       "50%                       12.000000    1.000000   21.000000    0.000000   \n",
       "75%                       28.000000    2.000000   45.000000    2.000000   \n",
       "max                       87.000000   21.000000  219.000000   42.000000   \n",
       "\n",
       "Category  Total POIs  \n",
       "count     241.000000  \n",
       "mean      111.950207  \n",
       "std       113.563994  \n",
       "min         1.000000  \n",
       "25%        24.000000  \n",
       "50%        78.000000  \n",
       "75%       159.000000  \n",
       "max       536.000000  "
      ]
     },
     "execution_count": 126,
     "metadata": {},
     "output_type": "execute_result"
    }
   ],
   "source": [
    "sum_df.describe()"
   ]
  },
  {
   "cell_type": "code",
   "execution_count": 127,
   "metadata": {},
   "outputs": [
    {
     "data": {
      "text/plain": [
       "Category\n",
       "Station_name                 0\n",
       "Bikes                        0\n",
       "Arts & Entertainment         0\n",
       "Bars, Restaurants & Cafes    0\n",
       "Landmarks, Parks & Sports    0\n",
       "Municipal                    0\n",
       "Retail                       0\n",
       "Schools                      0\n",
       "Total POIs                   0\n",
       "dtype: int64"
      ]
     },
     "execution_count": 127,
     "metadata": {},
     "output_type": "execute_result"
    }
   ],
   "source": [
    "sum_df.isna().sum()"
   ]
  },
  {
   "cell_type": "code",
   "execution_count": 128,
   "metadata": {},
   "outputs": [
    {
     "data": {
      "text/html": [
       "<div>\n",
       "<style scoped>\n",
       "    .dataframe tbody tr th:only-of-type {\n",
       "        vertical-align: middle;\n",
       "    }\n",
       "\n",
       "    .dataframe tbody tr th {\n",
       "        vertical-align: top;\n",
       "    }\n",
       "\n",
       "    .dataframe thead th {\n",
       "        text-align: right;\n",
       "    }\n",
       "</style>\n",
       "<table border=\"1\" class=\"dataframe\">\n",
       "  <thead>\n",
       "    <tr style=\"text-align: right;\">\n",
       "      <th>Category</th>\n",
       "      <th>Bikes</th>\n",
       "      <th>Arts &amp; Entertainment</th>\n",
       "      <th>Bars, Restaurants &amp; Cafes</th>\n",
       "      <th>Landmarks, Parks &amp; Sports</th>\n",
       "      <th>Municipal</th>\n",
       "      <th>Retail</th>\n",
       "      <th>Schools</th>\n",
       "      <th>Total POIs</th>\n",
       "    </tr>\n",
       "  </thead>\n",
       "  <tbody>\n",
       "    <tr>\n",
       "      <th>count</th>\n",
       "      <td>241.000000</td>\n",
       "      <td>241.000000</td>\n",
       "      <td>241.000000</td>\n",
       "      <td>241.000000</td>\n",
       "      <td>241.000000</td>\n",
       "      <td>241.000000</td>\n",
       "      <td>241.000000</td>\n",
       "      <td>241.000000</td>\n",
       "    </tr>\n",
       "    <tr>\n",
       "      <th>mean</th>\n",
       "      <td>18.887967</td>\n",
       "      <td>12.265560</td>\n",
       "      <td>41.585062</td>\n",
       "      <td>19.622407</td>\n",
       "      <td>1.630705</td>\n",
       "      <td>34.834025</td>\n",
       "      <td>2.012448</td>\n",
       "      <td>111.950207</td>\n",
       "    </tr>\n",
       "    <tr>\n",
       "      <th>std</th>\n",
       "      <td>5.394432</td>\n",
       "      <td>15.949269</td>\n",
       "      <td>38.733411</td>\n",
       "      <td>19.612989</td>\n",
       "      <td>2.816716</td>\n",
       "      <td>41.559163</td>\n",
       "      <td>5.306821</td>\n",
       "      <td>113.563994</td>\n",
       "    </tr>\n",
       "    <tr>\n",
       "      <th>min</th>\n",
       "      <td>12.000000</td>\n",
       "      <td>0.000000</td>\n",
       "      <td>0.000000</td>\n",
       "      <td>0.000000</td>\n",
       "      <td>0.000000</td>\n",
       "      <td>0.000000</td>\n",
       "      <td>0.000000</td>\n",
       "      <td>1.000000</td>\n",
       "    </tr>\n",
       "    <tr>\n",
       "      <th>25%</th>\n",
       "      <td>15.000000</td>\n",
       "      <td>2.000000</td>\n",
       "      <td>9.000000</td>\n",
       "      <td>6.000000</td>\n",
       "      <td>0.000000</td>\n",
       "      <td>6.000000</td>\n",
       "      <td>0.000000</td>\n",
       "      <td>24.000000</td>\n",
       "    </tr>\n",
       "    <tr>\n",
       "      <th>50%</th>\n",
       "      <td>18.000000</td>\n",
       "      <td>7.000000</td>\n",
       "      <td>30.000000</td>\n",
       "      <td>12.000000</td>\n",
       "      <td>1.000000</td>\n",
       "      <td>21.000000</td>\n",
       "      <td>0.000000</td>\n",
       "      <td>78.000000</td>\n",
       "    </tr>\n",
       "    <tr>\n",
       "      <th>75%</th>\n",
       "      <td>20.000000</td>\n",
       "      <td>14.000000</td>\n",
       "      <td>65.000000</td>\n",
       "      <td>28.000000</td>\n",
       "      <td>2.000000</td>\n",
       "      <td>45.000000</td>\n",
       "      <td>2.000000</td>\n",
       "      <td>159.000000</td>\n",
       "    </tr>\n",
       "    <tr>\n",
       "      <th>max</th>\n",
       "      <td>40.000000</td>\n",
       "      <td>78.000000</td>\n",
       "      <td>151.000000</td>\n",
       "      <td>87.000000</td>\n",
       "      <td>21.000000</td>\n",
       "      <td>219.000000</td>\n",
       "      <td>42.000000</td>\n",
       "      <td>536.000000</td>\n",
       "    </tr>\n",
       "  </tbody>\n",
       "</table>\n",
       "</div>"
      ],
      "text/plain": [
       "Category       Bikes  Arts & Entertainment  Bars, Restaurants & Cafes  \\\n",
       "count     241.000000            241.000000                 241.000000   \n",
       "mean       18.887967             12.265560                  41.585062   \n",
       "std         5.394432             15.949269                  38.733411   \n",
       "min        12.000000              0.000000                   0.000000   \n",
       "25%        15.000000              2.000000                   9.000000   \n",
       "50%        18.000000              7.000000                  30.000000   \n",
       "75%        20.000000             14.000000                  65.000000   \n",
       "max        40.000000             78.000000                 151.000000   \n",
       "\n",
       "Category  Landmarks, Parks & Sports   Municipal      Retail     Schools  \\\n",
       "count                    241.000000  241.000000  241.000000  241.000000   \n",
       "mean                      19.622407    1.630705   34.834025    2.012448   \n",
       "std                       19.612989    2.816716   41.559163    5.306821   \n",
       "min                        0.000000    0.000000    0.000000    0.000000   \n",
       "25%                        6.000000    0.000000    6.000000    0.000000   \n",
       "50%                       12.000000    1.000000   21.000000    0.000000   \n",
       "75%                       28.000000    2.000000   45.000000    2.000000   \n",
       "max                       87.000000   21.000000  219.000000   42.000000   \n",
       "\n",
       "Category  Total POIs  \n",
       "count     241.000000  \n",
       "mean      111.950207  \n",
       "std       113.563994  \n",
       "min         1.000000  \n",
       "25%        24.000000  \n",
       "50%        78.000000  \n",
       "75%       159.000000  \n",
       "max       536.000000  "
      ]
     },
     "execution_count": 128,
     "metadata": {},
     "output_type": "execute_result"
    }
   ],
   "source": [
    "sum_df.fillna(0, inplace=True)\n",
    "sum_df.describe()"
   ]
  },
  {
   "cell_type": "code",
   "execution_count": 108,
   "metadata": {},
   "outputs": [
    {
     "data": {
      "text/plain": [
       "(241, 8)"
      ]
     },
     "execution_count": 108,
     "metadata": {},
     "output_type": "execute_result"
    }
   ],
   "source": []
  },
  {
   "cell_type": "markdown",
   "metadata": {},
   "source": [
    "Provide a visualization that you used as part of your EDA process. Explain the initial pattern or relationship you discoved through this visualization. "
   ]
  },
  {
   "cell_type": "code",
   "execution_count": 114,
   "metadata": {},
   "outputs": [],
   "source": [
    "import matplotlib.pyplot as plt\n",
    "import seaborn as sns\n",
    "import plotly.express as px"
   ]
  },
  {
   "cell_type": "code",
   "execution_count": 129,
   "metadata": {},
   "outputs": [
    {
     "data": {
      "text/plain": [
       "<Axes: xlabel='Category', ylabel='Category'>"
      ]
     },
     "execution_count": 129,
     "metadata": {},
     "output_type": "execute_result"
    },
    {
     "data": {
      "image/png": "[encoded data removed]",
      "text/plain": [
       "<Figure size 640x480 with 2 Axes>"
      ]
     },
     "metadata": {},
     "output_type": "display_data"
    }
   ],
   "source": [
    "sns.heatmap(sum_df.corr())"
   ]
  },
  {
   "cell_type": "code",
   "execution_count": 130,
   "metadata": {},
   "outputs": [
    {
     "data": {
      "application/vnd.plotly.v1+json": {
       "config": {
        "plotlyServerURL": "https://plot.ly"
       },
       "data": [
        {
         "customdata": [
          [
           "10th & Cambie"
          ],
          [
           "10th & Columbia"
          ],
          [
           "10th & Commercial"
          ],
          [
           "10th & Fraser"
          ],
          [
           "10th & Granville"
          ],
          [
           "10th & Kingsway"
          ],
          [
           "10th & Main"
          ],
          [
           "10th & Oak"
          ],
          [
           "10th & Ontario"
          ],
          [
           "11th & Kingsway"
          ],
          [
           "12th & Yukon (City Hall)"
          ],
          [
           "13th & Cambie"
          ],
          [
           "13th & St George"
          ],
          [
           "14th & Alder"
          ],
          [
           "14th & Cambie"
          ],
          [
           "14th & Fraser"
          ],
          [
           "14th & Granville"
          ],
          [
           "14th & Main"
          ],
          [
           "14th & Oak"
          ],
          [
           "14th & Ontario"
          ],
          [
           "15th & Knight"
          ],
          [
           "15th & Victoria (Trout Lake)"
          ],
          [
           "18th & Cambie"
          ],
          [
           "18th & Heather"
          ],
          [
           "18th & Main"
          ],
          [
           "1st & Chestnut"
          ],
          [
           "1st & Manitoba"
          ],
          [
           "1st & Scotia"
          ],
          [
           "20th & Main"
          ],
          [
           "22nd & Cambie"
          ],
          [
           "28th & Willow"
          ],
          [
           "29th & Cambie"
          ],
          [
           "2nd & Commercial"
          ],
          [
           "30th & Ontario"
          ],
          [
           "3rd & Quebec"
          ],
          [
           "4th & Commercial"
          ],
          [
           "5th & Arbutus"
          ],
          [
           "5th & Main"
          ],
          [
           "6th & Carolina"
          ],
          [
           "6th & Prince Edward"
          ],
          [
           "7th &  Alder"
          ],
          [
           "7th & Arbutus"
          ],
          [
           "7th & Granville"
          ],
          [
           "7th & Heather"
          ],
          [
           "7th & Laurel"
          ],
          [
           "7th & Woodland"
          ],
          [
           "8th & Ash"
          ],
          [
           "8th & Commercial"
          ],
          [
           "8th & Fraser"
          ],
          [
           "8th & Macdonald"
          ],
          [
           "8th & Ontario"
          ],
          [
           "8th & Prince Edward"
          ],
          [
           "8th & Scotia"
          ],
          [
           "8th & Yukon"
          ],
          [
           "Abbott & Cordova"
          ],
          [
           "Adanac & McLean"
          ],
          [
           "Alberni & Jervis"
          ],
          [
           "Alder & 11th"
          ],
          [
           "Alexander & Dunlevy"
          ],
          [
           "Alexander & Main"
          ],
          [
           "Alexander & Railway"
          ],
          [
           "Alma & Point Grey"
          ],
          [
           "Anderson & 2nd"
          ],
          [
           "Aquatic Centre"
          ],
          [
           "Arbutus & 10th"
          ],
          [
           "Arbutus & 16th"
          ],
          [
           "Arbutus & McNicoll"
          ],
          [
           "Arbutus & Nanton"
          ],
          [
           "Arbutus Greenway & 14th"
          ],
          [
           "Arbutus Greenway & Fir"
          ],
          [
           "Balaclava & 6th"
          ],
          [
           "Balaclava & Broadway"
          ],
          [
           "Balsam & Cornwall"
          ],
          [
           "Beach & Broughton"
          ],
          [
           "Beach & Cardero"
          ],
          [
           "Beach & Hornby"
          ],
          [
           "Beach & Seymour"
          ],
          [
           "Beatty & Nelson"
          ],
          [
           "Beatty & Robson"
          ],
          [
           "Bidwell & Burnaby"
          ],
          [
           "Blenheim & 4th"
          ],
          [
           "Britannia Parking Lot"
          ],
          [
           "Broughton & Davie"
          ],
          [
           "Burrard & 14th"
          ],
          [
           "Burrard & 4th"
          ],
          [
           "Burrard & 7th"
          ],
          [
           "Burrard & Drake"
          ],
          [
           "Burrard Station (Melville & Dunsmuir)"
          ],
          [
           "Bute & Barclay"
          ],
          [
           "Bute & Comox"
          ],
          [
           "Bute & Davie"
          ],
          [
           "Bute & Robson"
          ],
          [
           "Cambie & Water"
          ],
          [
           "Campbell & Hastings"
          ],
          [
           "Canada Place"
          ],
          [
           "Cardero & Davie"
          ],
          [
           "Cardero & Robson"
          ],
          [
           "Carolina & Great Northern Way"
          ],
          [
           "Carrall & Hastings"
          ],
          [
           "Carrall & Seawall"
          ],
          [
           "Charles & Commercial"
          ],
          [
           "Charles & Woodland"
          ],
          [
           "Chestnut & McNicoll"
          ],
          [
           "Chilco & Barclay"
          ],
          [
           "Chilco & Beach"
          ],
          [
           "Chilco & Robson"
          ],
          [
           "Columbia & 14th"
          ],
          [
           "Columbia & 1st"
          ],
          [
           "Columbia & 5th"
          ],
          [
           "Commercial & 20th"
          ],
          [
           "Commercial & Adanac"
          ],
          [
           "Commercial & Pandora"
          ],
          [
           "Comox & Broughton"
          ],
          [
           "Comox & Denman"
          ],
          [
           "Cordova & Bute"
          ],
          [
           "Cordova & Granville"
          ],
          [
           "Creekside Park North"
          ],
          [
           "Cypress & 10th"
          ],
          [
           "Cypress & 14th"
          ],
          [
           "Cypress & 16th"
          ],
          [
           "Cypress & 4th"
          ],
          [
           "Cypress & Cornwall"
          ],
          [
           "David Lam Park - West"
          ],
          [
           "Davie & Beach"
          ],
          [
           "Dunbar & 6th"
          ],
          [
           "Dunbar & Broadway"
          ],
          [
           "Dunsmuir & Beatty"
          ],
          [
           "Dunsmuir & Richards"
          ],
          [
           "East Blvd & 37th"
          ],
          [
           "Expo & Carrall"
          ],
          [
           "Expo & Smithe"
          ],
          [
           "Franklin & Nanaimo"
          ],
          [
           "Georgia & Homer"
          ],
          [
           "Georgia & Main"
          ],
          [
           "Georgia & Thurlow"
          ],
          [
           "Glen & 6th"
          ],
          [
           "Glen & Broadway"
          ],
          [
           "Glen & Union"
          ],
          [
           "Grandview & Commercial"
          ],
          [
           "Grant & Commercial"
          ],
          [
           "Granville & Georgia"
          ],
          [
           "Granville Island"
          ],
          [
           "Haro & Denman"
          ],
          [
           "Harwood & Bute"
          ],
          [
           "Hastings & Broughton"
          ],
          [
           "Hawks & Union"
          ],
          [
           "Heather & 14th"
          ],
          [
           "Heather & 16th"
          ],
          [
           "Heather & 29th"
          ],
          [
           "Helmcken & Burrard"
          ],
          [
           "Homer & Robson (Vancouver Public Library)"
          ],
          [
           "Hornby & Drake"
          ],
          [
           "Hornby & Nelson"
          ],
          [
           "Hornby & Pender"
          ],
          [
           "Jericho Beach"
          ],
          [
           "Jervis & Robson"
          ],
          [
           "Keefer & Abbott"
          ],
          [
           "Keefer & Columbia"
          ],
          [
           "Keefer & Hawks"
          ],
          [
           "Keefer & Princess"
          ],
          [
           "Keith & 6th"
          ],
          [
           "King Edward & Cambie"
          ],
          [
           "Kitsilano Beach Park"
          ],
          [
           "Lakewood & Oxford"
          ],
          [
           "Lakewood & Triumph"
          ],
          [
           "Marinaside & Cooperage"
          ],
          [
           "Marinaside & Davie"
          ],
          [
           "McLean & Pender"
          ],
          [
           "Melville & Bute"
          ],
          [
           "Morton & Denman"
          ],
          [
           "Napier & Commercial"
          ],
          [
           "Nelson & Denman"
          ],
          [
           "Nelson & Mainland"
          ],
          [
           "Nelson & Richards"
          ],
          [
           "Nicola & Robson"
          ],
          [
           "Olympic Village Station"
          ],
          [
           "Ontario & 16th"
          ],
          [
           "Ontario & 23rd"
          ],
          [
           "Ontario & 5th"
          ],
          [
           "Ontario & Seawall"
          ],
          [
           "Pacific & Richards"
          ],
          [
           "Pender & Burrard"
          ],
          [
           "Pender & Commercial"
          ],
          [
           "Pender & Gore"
          ],
          [
           "Pender & Victoria"
          ],
          [
           "Pine & 10th"
          ],
          [
           "Pine & 14th"
          ],
          [
           "Point Grey & Bayswater"
          ],
          [
           "Point Grey & Blenheim"
          ],
          [
           "Prince Edward & 14th"
          ],
          [
           "Prince Edward & 16th"
          ],
          [
           "Princess & Union"
          ],
          [
           "Quebec & 1st"
          ],
          [
           "Richards & Cordova"
          ],
          [
           "Richards & Davie"
          ],
          [
           "Richards & Helmcken"
          ],
          [
           "Richards & Robson"
          ],
          [
           "Richards & Smithe"
          ],
          [
           "Robson & Granville"
          ],
          [
           "Robson & Hornby"
          ],
          [
           "Rolston & Granville"
          ],
          [
           "Science World"
          ],
          [
           "Seymour & Cordova"
          ],
          [
           "Shaw Tower"
          ],
          [
           "Smithe & Burrard"
          ],
          [
           "South False Creek Seawall"
          ],
          [
           "Spyglass & Seawall"
          ],
          [
           "St Catherines & 10th"
          ],
          [
           "St Catherines & 7th"
          ],
          [
           "St George & Broadway"
          ],
          [
           "Stamps Landing"
          ],
          [
           "Stanley Park - Information Booth"
          ],
          [
           "Stanley Park - Prospect Point"
          ],
          [
           "Stanley Park - Second Beach North"
          ],
          [
           "Stanley Park - Second Beach South"
          ],
          [
           "Stanley Park - Third Beach Parking Lot"
          ],
          [
           "Stanley Park - Totem Poles"
          ],
          [
           "Stanley Park - Vancouver Aquarium"
          ],
          [
           "Station & Terminal"
          ],
          [
           "Thornton & National"
          ],
          [
           "Thurlow & Pendrell"
          ],
          [
           "Trafalgar & Broadway"
          ],
          [
           "Trafalgar & Cornwall"
          ],
          [
           "Triumph & Victoria"
          ],
          [
           "Union & Dunlevy"
          ],
          [
           "Vanier Park"
          ],
          [
           "Victoria & 10th"
          ],
          [
           "Victoria & 4th"
          ],
          [
           "Vine & 4th"
          ],
          [
           "Wall & Eton"
          ],
          [
           "Wallace & 4th"
          ],
          [
           "Windsor & 14th"
          ],
          [
           "Woodland & 10th"
          ],
          [
           "Woodland & 4th"
          ],
          [
           "Woodland & Graveley"
          ],
          [
           "Wylie & 2nd"
          ],
          [
           "Yaletown-Roundhouse Station"
          ],
          [
           "Yew & Broadway"
          ],
          [
           "York & Yew"
          ],
          [
           "Yukon & 6th"
          ],
          [
           "šxʷƛ̓ənəq Xwtl'e7énḵ Square - Vancouver Art Gallery"
          ]
         ],
         "hovertemplate": "Arts & Entertainment=%{x}<br>Bikes=%{y}<br>Station_name=%{customdata[0]}<extra></extra>",
         "legendgroup": "",
         "marker": {
          "color": "#636efa",
          "symbol": "circle"
         },
         "mode": "markers",
         "name": "",
         "orientation": "v",
         "showlegend": false,
         "type": "scatter",
         "x": [
          26,
          7,
          8,
          4,
          20,
          17,
          24,
          6,
          18,
          12,
          12,
          2,
          2,
          1,
          2,
          2,
          9,
          7,
          0,
          2,
          0,
          1,
          5,
          4,
          10,
          8,
          13,
          22,
          5,
          0,
          0,
          0,
          2,
          5,
          11,
          4,
          2,
          36,
          1,
          12,
          4,
          4,
          20,
          12,
          6,
          7,
          13,
          12,
          4,
          2,
          24,
          9,
          26,
          12,
          50,
          5,
          10,
          3,
          18,
          16,
          8,
          4,
          27,
          2,
          4,
          0,
          0,
          0,
          0,
          37,
          3,
          5,
          2,
          0,
          1,
          3,
          6,
          20,
          25,
          8,
          1,
          8,
          7,
          1,
          8,
          9,
          10,
          18,
          4,
          8,
          11,
          5,
          50,
          18,
          22,
          7,
          16,
          2,
          78,
          10,
          8,
          12,
          5,
          5,
          3,
          2,
          2,
          16,
          12,
          4,
          12,
          7,
          3,
          12,
          4,
          45,
          11,
          2,
          0,
          0,
          7,
          0,
          0,
          9,
          3,
          2,
          39,
          56,
          0,
          16,
          18,
          9,
          32,
          49,
          8,
          1,
          0,
          7,
          8,
          2,
          65,
          71,
          13,
          12,
          10,
          1,
          4,
          4,
          0,
          30,
          45,
          28,
          65,
          33,
          0,
          8,
          44,
          56,
          18,
          12,
          3,
          0,
          1,
          2,
          3,
          1,
          7,
          14,
          8,
          10,
          15,
          13,
          33,
          69,
          10,
          3,
          1,
          5,
          14,
          16,
          8,
          16,
          3,
          43,
          1,
          3,
          1,
          0,
          0,
          8,
          3,
          3,
          11,
          39,
          48,
          48,
          39,
          50,
          72,
          53,
          7,
          11,
          58,
          11,
          14,
          1,
          1,
          2,
          0,
          3,
          0,
          5,
          0,
          0,
          0,
          0,
          0,
          6,
          3,
          0,
          17,
          3,
          0,
          6,
          25,
          7,
          1,
          4,
          0,
          3,
          0,
          1,
          5,
          1,
          4,
          12,
          37,
          4,
          1,
          28,
          21
         ],
         "xaxis": "x",
         "y": [
          35,
          14,
          26,
          14,
          14,
          20,
          18,
          30,
          20,
          16,
          16,
          14,
          16,
          14,
          14,
          16,
          14,
          14,
          14,
          16,
          14,
          18,
          24,
          16,
          16,
          26,
          32,
          20,
          16,
          14,
          20,
          20,
          22,
          22,
          20,
          14,
          16,
          20,
          16,
          16,
          16,
          16,
          14,
          18,
          14,
          12,
          16,
          38,
          16,
          22,
          16,
          18,
          12,
          22,
          22,
          22,
          20,
          14,
          14,
          20,
          20,
          24,
          28,
          35,
          18,
          40,
          30,
          18,
          20,
          16,
          16,
          18,
          20,
          22,
          22,
          18,
          18,
          14,
          20,
          26,
          23,
          14,
          22,
          18,
          16,
          16,
          24,
          28,
          14,
          22,
          20,
          26,
          32,
          14,
          26,
          18,
          26,
          16,
          18,
          18,
          22,
          14,
          16,
          18,
          14,
          16,
          14,
          24,
          18,
          20,
          16,
          16,
          12,
          18,
          14,
          22,
          18,
          14,
          12,
          12,
          18,
          22,
          18,
          30,
          16,
          26,
          26,
          22,
          20,
          16,
          14,
          20,
          18,
          20,
          12,
          20,
          18,
          14,
          16,
          14,
          20,
          20,
          20,
          20,
          24,
          16,
          18,
          12,
          22,
          15,
          20,
          24,
          18,
          22,
          34,
          20,
          28,
          14,
          16,
          14,
          28,
          18,
          39,
          18,
          16,
          26,
          22,
          16,
          14,
          26,
          14,
          18,
          20,
          18,
          18,
          26,
          14,
          12,
          20,
          20,
          14,
          26,
          16,
          14,
          16,
          20,
          12,
          16,
          14,
          14,
          14,
          12,
          20,
          24,
          14,
          18,
          22,
          18,
          30,
          30,
          16,
          16,
          19,
          18,
          20,
          14,
          14,
          12,
          20,
          14,
          14,
          20,
          22,
          16,
          18,
          38,
          20,
          16,
          18,
          14,
          16,
          16,
          20,
          16,
          16,
          28,
          12,
          16,
          18,
          18,
          18,
          14,
          14,
          14,
          12,
          18,
          16,
          18,
          20,
          18,
          28
         ],
         "yaxis": "y"
        }
       ],
       "layout": {
        "legend": {
         "tracegroupgap": 0
        },
        "margin": {
         "t": 60
        },
        "template": {
         "data": {
          "bar": [
           {
            "error_x": {
             "color": "#2a3f5f"
            },
            "error_y": {
             "color": "#2a3f5f"
            },
            "marker": {
             "line": {
              "color": "#E5ECF6",
              "width": 0.5
             },
             "pattern": {
              "fillmode": "overlay",
              "size": 10,
              "solidity": 0.2
             }
            },
            "type": "bar"
           }
          ],
          "barpolar": [
           {
            "marker": {
             "line": {
              "color": "#E5ECF6",
              "width": 0.5
             },
             "pattern": {
              "fillmode": "overlay",
              "size": 10,
              "solidity": 0.2
             }
            },
            "type": "barpolar"
           }
          ],
          "carpet": [
           {
            "aaxis": {
             "endlinecolor": "#2a3f5f",
             "gridcolor": "white",
             "linecolor": "white",
             "minorgridcolor": "white",
             "startlinecolor": "#2a3f5f"
            },
            "baxis": {
             "endlinecolor": "#2a3f5f",
             "gridcolor": "white",
             "linecolor": "white",
             "minorgridcolor": "white",
             "startlinecolor": "#2a3f5f"
            },
            "type": "carpet"
           }
          ],
          "choropleth": [
           {
            "colorbar": {
             "outlinewidth": 0,
             "ticks": ""
            },
            "type": "choropleth"
           }
          ],
          "contour": [
           {
            "colorbar": {
             "outlinewidth": 0,
             "ticks": ""
            },
            "colorscale": [
             [
              0,
              "#0d0887"
             ],
             [
              0.1111111111111111,
              "#46039f"
             ],
             [
              0.2222222222222222,
              "#7201a8"
             ],
             [
              0.3333333333333333,
              "#9c179e"
             ],
             [
              0.4444444444444444,
              "#bd3786"
             ],
             [
              0.5555555555555556,
              "#d8576b"
             ],
             [
              0.6666666666666666,
              "#ed7953"
             ],
             [
              0.7777777777777778,
              "#fb9f3a"
             ],
             [
              0.8888888888888888,
              "#fdca26"
             ],
             [
              1,
              "#f0f921"
             ]
            ],
            "type": "contour"
           }
          ],
          "contourcarpet": [
           {
            "colorbar": {
             "outlinewidth": 0,
             "ticks": ""
            },
            "type": "contourcarpet"
           }
          ],
          "heatmap": [
           {
            "colorbar": {
             "outlinewidth": 0,
             "ticks": ""
            },
            "colorscale": [
             [
              0,
              "#0d0887"
             ],
             [
              0.1111111111111111,
              "#46039f"
             ],
             [
              0.2222222222222222,
              "#7201a8"
             ],
             [
              0.3333333333333333,
              "#9c179e"
             ],
             [
              0.4444444444444444,
              "#bd3786"
             ],
             [
              0.5555555555555556,
              "#d8576b"
             ],
             [
              0.6666666666666666,
              "#ed7953"
             ],
             [
              0.7777777777777778,
              "#fb9f3a"
             ],
             [
              0.8888888888888888,
              "#fdca26"
             ],
             [
              1,
              "#f0f921"
             ]
            ],
            "type": "heatmap"
           }
          ],
          "heatmapgl": [
           {
            "colorbar": {
             "outlinewidth": 0,
             "ticks": ""
            },
            "colorscale": [
             [
              0,
              "#0d0887"
             ],
             [
              0.1111111111111111,
              "#46039f"
             ],
             [
              0.2222222222222222,
              "#7201a8"
             ],
             [
              0.3333333333333333,
              "#9c179e"
             ],
             [
              0.4444444444444444,
              "#bd3786"
             ],
             [
              0.5555555555555556,
              "#d8576b"
             ],
             [
              0.6666666666666666,
              "#ed7953"
             ],
             [
              0.7777777777777778,
              "#fb9f3a"
             ],
             [
              0.8888888888888888,
              "#fdca26"
             ],
             [
              1,
              "#f0f921"
             ]
            ],
            "type": "heatmapgl"
           }
          ],
          "histogram": [
           {
            "marker": {
             "pattern": {
              "fillmode": "overlay",
              "size": 10,
              "solidity": 0.2
             }
            },
            "type": "histogram"
           }
          ],
          "histogram2d": [
           {
            "colorbar": {
             "outlinewidth": 0,
             "ticks": ""
            },
            "colorscale": [
             [
              0,
              "#0d0887"
             ],
             [
              0.1111111111111111,
              "#46039f"
             ],
             [
              0.2222222222222222,
              "#7201a8"
             ],
             [
              0.3333333333333333,
              "#9c179e"
             ],
             [
              0.4444444444444444,
              "#bd3786"
             ],
             [
              0.5555555555555556,
              "#d8576b"
             ],
             [
              0.6666666666666666,
              "#ed7953"
             ],
             [
              0.7777777777777778,
              "#fb9f3a"
             ],
             [
              0.8888888888888888,
              "#fdca26"
             ],
             [
              1,
              "#f0f921"
             ]
            ],
            "type": "histogram2d"
           }
          ],
          "histogram2dcontour": [
           {
            "colorbar": {
             "outlinewidth": 0,
             "ticks": ""
            },
            "colorscale": [
             [
              0,
              "#0d0887"
             ],
             [
              0.1111111111111111,
              "#46039f"
             ],
             [
              0.2222222222222222,
              "#7201a8"
             ],
             [
              0.3333333333333333,
              "#9c179e"
             ],
             [
              0.4444444444444444,
              "#bd3786"
             ],
             [
              0.5555555555555556,
              "#d8576b"
             ],
             [
              0.6666666666666666,
              "#ed7953"
             ],
             [
              0.7777777777777778,
              "#fb9f3a"
             ],
             [
              0.8888888888888888,
              "#fdca26"
             ],
             [
              1,
              "#f0f921"
             ]
            ],
            "type": "histogram2dcontour"
           }
          ],
          "mesh3d": [
           {
            "colorbar": {
             "outlinewidth": 0,
             "ticks": ""
            },
            "type": "mesh3d"
           }
          ],
          "parcoords": [
           {
            "line": {
             "colorbar": {
              "outlinewidth": 0,
              "ticks": ""
             }
            },
            "type": "parcoords"
           }
          ],
          "pie": [
           {
            "automargin": true,
            "type": "pie"
           }
          ],
          "scatter": [
           {
            "fillpattern": {
             "fillmode": "overlay",
             "size": 10,
             "solidity": 0.2
            },
            "type": "scatter"
           }
          ],
          "scatter3d": [
           {
            "line": {
             "colorbar": {
              "outlinewidth": 0,
              "ticks": ""
             }
            },
            "marker": {
             "colorbar": {
              "outlinewidth": 0,
              "ticks": ""
             }
            },
            "type": "scatter3d"
           }
          ],
          "scattercarpet": [
           {
            "marker": {
             "colorbar": {
              "outlinewidth": 0,
              "ticks": ""
             }
            },
            "type": "scattercarpet"
           }
          ],
          "scattergeo": [
           {
            "marker": {
             "colorbar": {
              "outlinewidth": 0,
              "ticks": ""
             }
            },
            "type": "scattergeo"
           }
          ],
          "scattergl": [
           {
            "marker": {
             "colorbar": {
              "outlinewidth": 0,
              "ticks": ""
             }
            },
            "type": "scattergl"
           }
          ],
          "scattermapbox": [
           {
            "marker": {
             "colorbar": {
              "outlinewidth": 0,
              "ticks": ""
             }
            },
            "type": "scattermapbox"
           }
          ],
          "scatterpolar": [
           {
            "marker": {
             "colorbar": {
              "outlinewidth": 0,
              "ticks": ""
             }
            },
            "type": "scatterpolar"
           }
          ],
          "scatterpolargl": [
           {
            "marker": {
             "colorbar": {
              "outlinewidth": 0,
              "ticks": ""
             }
            },
            "type": "scatterpolargl"
           }
          ],
          "scatterternary": [
           {
            "marker": {
             "colorbar": {
              "outlinewidth": 0,
              "ticks": ""
             }
            },
            "type": "scatterternary"
           }
          ],
          "surface": [
           {
            "colorbar": {
             "outlinewidth": 0,
             "ticks": ""
            },
            "colorscale": [
             [
              0,
              "#0d0887"
             ],
             [
              0.1111111111111111,
              "#46039f"
             ],
             [
              0.2222222222222222,
              "#7201a8"
             ],
             [
              0.3333333333333333,
              "#9c179e"
             ],
             [
              0.4444444444444444,
              "#bd3786"
             ],
             [
              0.5555555555555556,
              "#d8576b"
             ],
             [
              0.6666666666666666,
              "#ed7953"
             ],
             [
              0.7777777777777778,
              "#fb9f3a"
             ],
             [
              0.8888888888888888,
              "#fdca26"
             ],
             [
              1,
              "#f0f921"
             ]
            ],
            "type": "surface"
           }
          ],
          "table": [
           {
            "cells": {
             "fill": {
              "color": "#EBF0F8"
             },
             "line": {
              "color": "white"
             }
            },
            "header": {
             "fill": {
              "color": "#C8D4E3"
             },
             "line": {
              "color": "white"
             }
            },
            "type": "table"
           }
          ]
         },
         "layout": {
          "annotationdefaults": {
           "arrowcolor": "#2a3f5f",
           "arrowhead": 0,
           "arrowwidth": 1
          },
          "autotypenumbers": "strict",
          "coloraxis": {
           "colorbar": {
            "outlinewidth": 0,
            "ticks": ""
           }
          },
          "colorscale": {
           "diverging": [
            [
             0,
             "#8e0152"
            ],
            [
             0.1,
             "#c51b7d"
            ],
            [
             0.2,
             "#de77ae"
            ],
            [
             0.3,
             "#f1b6da"
            ],
            [
             0.4,
             "#fde0ef"
            ],
            [
             0.5,
             "#f7f7f7"
            ],
            [
             0.6,
             "#e6f5d0"
            ],
            [
             0.7,
             "#b8e186"
            ],
            [
             0.8,
             "#7fbc41"
            ],
            [
             0.9,
             "#4d9221"
            ],
            [
             1,
             "#276419"
            ]
           ],
           "sequential": [
            [
             0,
             "#0d0887"
            ],
            [
             0.1111111111111111,
             "#46039f"
            ],
            [
             0.2222222222222222,
             "#7201a8"
            ],
            [
             0.3333333333333333,
             "#9c179e"
            ],
            [
             0.4444444444444444,
             "#bd3786"
            ],
            [
             0.5555555555555556,
             "#d8576b"
            ],
            [
             0.6666666666666666,
             "#ed7953"
            ],
            [
             0.7777777777777778,
             "#fb9f3a"
            ],
            [
             0.8888888888888888,
             "#fdca26"
            ],
            [
             1,
             "#f0f921"
            ]
           ],
           "sequentialminus": [
            [
             0,
             "#0d0887"
            ],
            [
             0.1111111111111111,
             "#46039f"
            ],
            [
             0.2222222222222222,
             "#7201a8"
            ],
            [
             0.3333333333333333,
             "#9c179e"
            ],
            [
             0.4444444444444444,
             "#bd3786"
            ],
            [
             0.5555555555555556,
             "#d8576b"
            ],
            [
             0.6666666666666666,
             "#ed7953"
            ],
            [
             0.7777777777777778,
             "#fb9f3a"
            ],
            [
             0.8888888888888888,
             "#fdca26"
            ],
            [
             1,
             "#f0f921"
            ]
           ]
          },
          "colorway": [
           "#636efa",
           "#EF553B",
           "#00cc96",
           "#ab63fa",
           "#FFA15A",
           "#19d3f3",
           "#FF6692",
           "#B6E880",
           "#FF97FF",
           "#FECB52"
          ],
          "font": {
           "color": "#2a3f5f"
          },
          "geo": {
           "bgcolor": "white",
           "lakecolor": "white",
           "landcolor": "#E5ECF6",
           "showlakes": true,
           "showland": true,
           "subunitcolor": "white"
          },
          "hoverlabel": {
           "align": "left"
          },
          "hovermode": "closest",
          "mapbox": {
           "style": "light"
          },
          "paper_bgcolor": "white",
          "plot_bgcolor": "#E5ECF6",
          "polar": {
           "angularaxis": {
            "gridcolor": "white",
            "linecolor": "white",
            "ticks": ""
           },
           "bgcolor": "#E5ECF6",
           "radialaxis": {
            "gridcolor": "white",
            "linecolor": "white",
            "ticks": ""
           }
          },
          "scene": {
           "xaxis": {
            "backgroundcolor": "#E5ECF6",
            "gridcolor": "white",
            "gridwidth": 2,
            "linecolor": "white",
            "showbackground": true,
            "ticks": "",
            "zerolinecolor": "white"
           },
           "yaxis": {
            "backgroundcolor": "#E5ECF6",
            "gridcolor": "white",
            "gridwidth": 2,
            "linecolor": "white",
            "showbackground": true,
            "ticks": "",
            "zerolinecolor": "white"
           },
           "zaxis": {
            "backgroundcolor": "#E5ECF6",
            "gridcolor": "white",
            "gridwidth": 2,
            "linecolor": "white",
            "showbackground": true,
            "ticks": "",
            "zerolinecolor": "white"
           }
          },
          "shapedefaults": {
           "line": {
            "color": "#2a3f5f"
           }
          },
          "ternary": {
           "aaxis": {
            "gridcolor": "white",
            "linecolor": "white",
            "ticks": ""
           },
           "baxis": {
            "gridcolor": "white",
            "linecolor": "white",
            "ticks": ""
           },
           "bgcolor": "#E5ECF6",
           "caxis": {
            "gridcolor": "white",
            "linecolor": "white",
            "ticks": ""
           }
          },
          "title": {
           "x": 0.05
          },
          "xaxis": {
           "automargin": true,
           "gridcolor": "white",
           "linecolor": "white",
           "ticks": "",
           "title": {
            "standoff": 15
           },
           "zerolinecolor": "white",
           "zerolinewidth": 2
          },
          "yaxis": {
           "automargin": true,
           "gridcolor": "white",
           "linecolor": "white",
           "ticks": "",
           "title": {
            "standoff": 15
           },
           "zerolinecolor": "white",
           "zerolinewidth": 2
          }
         }
        },
        "title": {
         "text": "Arts & Entertainment",
         "x": 0.5
        },
        "xaxis": {
         "anchor": "y",
         "domain": [
          0,
          1
         ],
         "title": {
          "text": "Arts & Entertainment"
         }
        },
        "yaxis": {
         "anchor": "x",
         "domain": [
          0,
          1
         ],
         "title": {
          "text": "Bikes"
         }
        }
       }
      }
     },
     "metadata": {},
     "output_type": "display_data"
    },
    {
     "data": {
      "application/vnd.plotly.v1+json": {
       "config": {
        "plotlyServerURL": "https://plot.ly"
       },
       "data": [
        {
         "customdata": [
          [
           "10th & Cambie"
          ],
          [
           "10th & Columbia"
          ],
          [
           "10th & Commercial"
          ],
          [
           "10th & Fraser"
          ],
          [
           "10th & Granville"
          ],
          [
           "10th & Kingsway"
          ],
          [
           "10th & Main"
          ],
          [
           "10th & Oak"
          ],
          [
           "10th & Ontario"
          ],
          [
           "11th & Kingsway"
          ],
          [
           "12th & Yukon (City Hall)"
          ],
          [
           "13th & Cambie"
          ],
          [
           "13th & St George"
          ],
          [
           "14th & Alder"
          ],
          [
           "14th & Cambie"
          ],
          [
           "14th & Fraser"
          ],
          [
           "14th & Granville"
          ],
          [
           "14th & Main"
          ],
          [
           "14th & Oak"
          ],
          [
           "14th & Ontario"
          ],
          [
           "15th & Knight"
          ],
          [
           "15th & Victoria (Trout Lake)"
          ],
          [
           "18th & Cambie"
          ],
          [
           "18th & Heather"
          ],
          [
           "18th & Main"
          ],
          [
           "1st & Chestnut"
          ],
          [
           "1st & Manitoba"
          ],
          [
           "1st & Scotia"
          ],
          [
           "20th & Main"
          ],
          [
           "22nd & Cambie"
          ],
          [
           "28th & Willow"
          ],
          [
           "29th & Cambie"
          ],
          [
           "2nd & Commercial"
          ],
          [
           "30th & Ontario"
          ],
          [
           "3rd & Quebec"
          ],
          [
           "4th & Commercial"
          ],
          [
           "5th & Arbutus"
          ],
          [
           "5th & Main"
          ],
          [
           "6th & Carolina"
          ],
          [
           "6th & Prince Edward"
          ],
          [
           "7th &  Alder"
          ],
          [
           "7th & Arbutus"
          ],
          [
           "7th & Granville"
          ],
          [
           "7th & Heather"
          ],
          [
           "7th & Laurel"
          ],
          [
           "7th & Woodland"
          ],
          [
           "8th & Ash"
          ],
          [
           "8th & Commercial"
          ],
          [
           "8th & Fraser"
          ],
          [
           "8th & Macdonald"
          ],
          [
           "8th & Ontario"
          ],
          [
           "8th & Prince Edward"
          ],
          [
           "8th & Scotia"
          ],
          [
           "8th & Yukon"
          ],
          [
           "Abbott & Cordova"
          ],
          [
           "Adanac & McLean"
          ],
          [
           "Alberni & Jervis"
          ],
          [
           "Alder & 11th"
          ],
          [
           "Alexander & Dunlevy"
          ],
          [
           "Alexander & Main"
          ],
          [
           "Alexander & Railway"
          ],
          [
           "Alma & Point Grey"
          ],
          [
           "Anderson & 2nd"
          ],
          [
           "Aquatic Centre"
          ],
          [
           "Arbutus & 10th"
          ],
          [
           "Arbutus & 16th"
          ],
          [
           "Arbutus & McNicoll"
          ],
          [
           "Arbutus & Nanton"
          ],
          [
           "Arbutus Greenway & 14th"
          ],
          [
           "Arbutus Greenway & Fir"
          ],
          [
           "Balaclava & 6th"
          ],
          [
           "Balaclava & Broadway"
          ],
          [
           "Balsam & Cornwall"
          ],
          [
           "Beach & Broughton"
          ],
          [
           "Beach & Cardero"
          ],
          [
           "Beach & Hornby"
          ],
          [
           "Beach & Seymour"
          ],
          [
           "Beatty & Nelson"
          ],
          [
           "Beatty & Robson"
          ],
          [
           "Bidwell & Burnaby"
          ],
          [
           "Blenheim & 4th"
          ],
          [
           "Britannia Parking Lot"
          ],
          [
           "Broughton & Davie"
          ],
          [
           "Burrard & 14th"
          ],
          [
           "Burrard & 4th"
          ],
          [
           "Burrard & 7th"
          ],
          [
           "Burrard & Drake"
          ],
          [
           "Burrard Station (Melville & Dunsmuir)"
          ],
          [
           "Bute & Barclay"
          ],
          [
           "Bute & Comox"
          ],
          [
           "Bute & Davie"
          ],
          [
           "Bute & Robson"
          ],
          [
           "Cambie & Water"
          ],
          [
           "Campbell & Hastings"
          ],
          [
           "Canada Place"
          ],
          [
           "Cardero & Davie"
          ],
          [
           "Cardero & Robson"
          ],
          [
           "Carolina & Great Northern Way"
          ],
          [
           "Carrall & Hastings"
          ],
          [
           "Carrall & Seawall"
          ],
          [
           "Charles & Commercial"
          ],
          [
           "Charles & Woodland"
          ],
          [
           "Chestnut & McNicoll"
          ],
          [
           "Chilco & Barclay"
          ],
          [
           "Chilco & Beach"
          ],
          [
           "Chilco & Robson"
          ],
          [
           "Columbia & 14th"
          ],
          [
           "Columbia & 1st"
          ],
          [
           "Columbia & 5th"
          ],
          [
           "Commercial & 20th"
          ],
          [
           "Commercial & Adanac"
          ],
          [
           "Commercial & Pandora"
          ],
          [
           "Comox & Broughton"
          ],
          [
           "Comox & Denman"
          ],
          [
           "Cordova & Bute"
          ],
          [
           "Cordova & Granville"
          ],
          [
           "Creekside Park North"
          ],
          [
           "Cypress & 10th"
          ],
          [
           "Cypress & 14th"
          ],
          [
           "Cypress & 16th"
          ],
          [
           "Cypress & 4th"
          ],
          [
           "Cypress & Cornwall"
          ],
          [
           "David Lam Park - West"
          ],
          [
           "Davie & Beach"
          ],
          [
           "Dunbar & 6th"
          ],
          [
           "Dunbar & Broadway"
          ],
          [
           "Dunsmuir & Beatty"
          ],
          [
           "Dunsmuir & Richards"
          ],
          [
           "East Blvd & 37th"
          ],
          [
           "Expo & Carrall"
          ],
          [
           "Expo & Smithe"
          ],
          [
           "Franklin & Nanaimo"
          ],
          [
           "Georgia & Homer"
          ],
          [
           "Georgia & Main"
          ],
          [
           "Georgia & Thurlow"
          ],
          [
           "Glen & 6th"
          ],
          [
           "Glen & Broadway"
          ],
          [
           "Glen & Union"
          ],
          [
           "Grandview & Commercial"
          ],
          [
           "Grant & Commercial"
          ],
          [
           "Granville & Georgia"
          ],
          [
           "Granville Island"
          ],
          [
           "Haro & Denman"
          ],
          [
           "Harwood & Bute"
          ],
          [
           "Hastings & Broughton"
          ],
          [
           "Hawks & Union"
          ],
          [
           "Heather & 14th"
          ],
          [
           "Heather & 16th"
          ],
          [
           "Heather & 29th"
          ],
          [
           "Helmcken & Burrard"
          ],
          [
           "Homer & Robson (Vancouver Public Library)"
          ],
          [
           "Hornby & Drake"
          ],
          [
           "Hornby & Nelson"
          ],
          [
           "Hornby & Pender"
          ],
          [
           "Jericho Beach"
          ],
          [
           "Jervis & Robson"
          ],
          [
           "Keefer & Abbott"
          ],
          [
           "Keefer & Columbia"
          ],
          [
           "Keefer & Hawks"
          ],
          [
           "Keefer & Princess"
          ],
          [
           "Keith & 6th"
          ],
          [
           "King Edward & Cambie"
          ],
          [
           "Kitsilano Beach Park"
          ],
          [
           "Lakewood & Oxford"
          ],
          [
           "Lakewood & Triumph"
          ],
          [
           "Marinaside & Cooperage"
          ],
          [
           "Marinaside & Davie"
          ],
          [
           "McLean & Pender"
          ],
          [
           "Melville & Bute"
          ],
          [
           "Morton & Denman"
          ],
          [
           "Napier & Commercial"
          ],
          [
           "Nelson & Denman"
          ],
          [
           "Nelson & Mainland"
          ],
          [
           "Nelson & Richards"
          ],
          [
           "Nicola & Robson"
          ],
          [
           "Olympic Village Station"
          ],
          [
           "Ontario & 16th"
          ],
          [
           "Ontario & 23rd"
          ],
          [
           "Ontario & 5th"
          ],
          [
           "Ontario & Seawall"
          ],
          [
           "Pacific & Richards"
          ],
          [
           "Pender & Burrard"
          ],
          [
           "Pender & Commercial"
          ],
          [
           "Pender & Gore"
          ],
          [
           "Pender & Victoria"
          ],
          [
           "Pine & 10th"
          ],
          [
           "Pine & 14th"
          ],
          [
           "Point Grey & Bayswater"
          ],
          [
           "Point Grey & Blenheim"
          ],
          [
           "Prince Edward & 14th"
          ],
          [
           "Prince Edward & 16th"
          ],
          [
           "Princess & Union"
          ],
          [
           "Quebec & 1st"
          ],
          [
           "Richards & Cordova"
          ],
          [
           "Richards & Davie"
          ],
          [
           "Richards & Helmcken"
          ],
          [
           "Richards & Robson"
          ],
          [
           "Richards & Smithe"
          ],
          [
           "Robson & Granville"
          ],
          [
           "Robson & Hornby"
          ],
          [
           "Rolston & Granville"
          ],
          [
           "Science World"
          ],
          [
           "Seymour & Cordova"
          ],
          [
           "Shaw Tower"
          ],
          [
           "Smithe & Burrard"
          ],
          [
           "South False Creek Seawall"
          ],
          [
           "Spyglass & Seawall"
          ],
          [
           "St Catherines & 10th"
          ],
          [
           "St Catherines & 7th"
          ],
          [
           "St George & Broadway"
          ],
          [
           "Stamps Landing"
          ],
          [
           "Stanley Park - Information Booth"
          ],
          [
           "Stanley Park - Prospect Point"
          ],
          [
           "Stanley Park - Second Beach North"
          ],
          [
           "Stanley Park - Second Beach South"
          ],
          [
           "Stanley Park - Third Beach Parking Lot"
          ],
          [
           "Stanley Park - Totem Poles"
          ],
          [
           "Stanley Park - Vancouver Aquarium"
          ],
          [
           "Station & Terminal"
          ],
          [
           "Thornton & National"
          ],
          [
           "Thurlow & Pendrell"
          ],
          [
           "Trafalgar & Broadway"
          ],
          [
           "Trafalgar & Cornwall"
          ],
          [
           "Triumph & Victoria"
          ],
          [
           "Union & Dunlevy"
          ],
          [
           "Vanier Park"
          ],
          [
           "Victoria & 10th"
          ],
          [
           "Victoria & 4th"
          ],
          [
           "Vine & 4th"
          ],
          [
           "Wall & Eton"
          ],
          [
           "Wallace & 4th"
          ],
          [
           "Windsor & 14th"
          ],
          [
           "Woodland & 10th"
          ],
          [
           "Woodland & 4th"
          ],
          [
           "Woodland & Graveley"
          ],
          [
           "Wylie & 2nd"
          ],
          [
           "Yaletown-Roundhouse Station"
          ],
          [
           "Yew & Broadway"
          ],
          [
           "York & Yew"
          ],
          [
           "Yukon & 6th"
          ],
          [
           "šxʷƛ̓ənəq Xwtl'e7énḵ Square - Vancouver Art Gallery"
          ]
         ],
         "hovertemplate": "Bars, Restaurants & Cafes=%{x}<br>Bikes=%{y}<br>Station_name=%{customdata[0]}<extra></extra>",
         "legendgroup": "",
         "marker": {
          "color": "#636efa",
          "symbol": "circle"
         },
         "mode": "markers",
         "name": "",
         "orientation": "v",
         "showlegend": false,
         "type": "scatter",
         "x": [
          93,
          24,
          41,
          19,
          62,
          67,
          81,
          34,
          57,
          66,
          68,
          27,
          10,
          0,
          30,
          18,
          17,
          62,
          15,
          50,
          0,
          1,
          36,
          6,
          25,
          60,
          30,
          33,
          25,
          6,
          9,
          0,
          52,
          27,
          27,
          44,
          34,
          48,
          8,
          20,
          17,
          43,
          39,
          82,
          52,
          20,
          95,
          38,
          18,
          39,
          54,
          30,
          79,
          57,
          101,
          16,
          107,
          12,
          33,
          30,
          12,
          1,
          24,
          2,
          17,
          1,
          1,
          3,
          2,
          40,
          10,
          76,
          0,
          1,
          2,
          65,
          19,
          93,
          62,
          44,
          3,
          36,
          50,
          0,
          46,
          56,
          40,
          112,
          97,
          69,
          88,
          67,
          90,
          22,
          108,
          64,
          90,
          2,
          133,
          12,
          79,
          71,
          0,
          10,
          44,
          18,
          3,
          34,
          19,
          9,
          36,
          14,
          4,
          61,
          76,
          122,
          17,
          32,
          0,
          0,
          52,
          27,
          0,
          54,
          21,
          22,
          63,
          136,
          7,
          35,
          40,
          50,
          75,
          104,
          117,
          4,
          3,
          3,
          36,
          55,
          151,
          85,
          94,
          76,
          22,
          2,
          23,
          6,
          2,
          110,
          120,
          84,
          140,
          134,
          1,
          99,
          63,
          97,
          18,
          18,
          5,
          6,
          19,
          10,
          11,
          21,
          59,
          46,
          88,
          55,
          69,
          89,
          117,
          141,
          82,
          22,
          6,
          26,
          23,
          35,
          49,
          81,
          11,
          95,
          13,
          31,
          1,
          3,
          0,
          6,
          1,
          3,
          36,
          91,
          139,
          104,
          85,
          90,
          150,
          134,
          38,
          27,
          139,
          64,
          59,
          2,
          5,
          8,
          11,
          19,
          6,
          2,
          4,
          1,
          4,
          3,
          1,
          2,
          35,
          6,
          87,
          14,
          0,
          29,
          61,
          0,
          9,
          48,
          26,
          7,
          1,
          0,
          10,
          14,
          17,
          16,
          129,
          32,
          18,
          74,
          89
         ],
         "xaxis": "x",
         "y": [
          35,
          14,
          26,
          14,
          14,
          20,
          18,
          30,
          20,
          16,
          16,
          14,
          16,
          14,
          14,
          16,
          14,
          14,
          14,
          16,
          14,
          18,
          24,
          16,
          16,
          26,
          32,
          20,
          16,
          14,
          20,
          20,
          22,
          22,
          20,
          14,
          16,
          20,
          16,
          16,
          16,
          16,
          14,
          18,
          14,
          12,
          16,
          38,
          16,
          22,
          16,
          18,
          12,
          22,
          22,
          22,
          20,
          14,
          14,
          20,
          20,
          24,
          28,
          35,
          18,
          40,
          30,
          18,
          20,
          16,
          16,
          18,
          20,
          22,
          22,
          18,
          18,
          14,
          20,
          26,
          23,
          14,
          22,
          18,
          16,
          16,
          24,
          28,
          14,
          22,
          20,
          26,
          32,
          14,
          26,
          18,
          26,
          16,
          18,
          18,
          22,
          14,
          16,
          18,
          14,
          16,
          14,
          24,
          18,
          20,
          16,
          16,
          12,
          18,
          14,
          22,
          18,
          14,
          12,
          12,
          18,
          22,
          18,
          30,
          16,
          26,
          26,
          22,
          20,
          16,
          14,
          20,
          18,
          20,
          12,
          20,
          18,
          14,
          16,
          14,
          20,
          20,
          20,
          20,
          24,
          16,
          18,
          12,
          22,
          15,
          20,
          24,
          18,
          22,
          34,
          20,
          28,
          14,
          16,
          14,
          28,
          18,
          39,
          18,
          16,
          26,
          22,
          16,
          14,
          26,
          14,
          18,
          20,
          18,
          18,
          26,
          14,
          12,
          20,
          20,
          14,
          26,
          16,
          14,
          16,
          20,
          12,
          16,
          14,
          14,
          14,
          12,
          20,
          24,
          14,
          18,
          22,
          18,
          30,
          30,
          16,
          16,
          19,
          18,
          20,
          14,
          14,
          12,
          20,
          14,
          14,
          20,
          22,
          16,
          18,
          38,
          20,
          16,
          18,
          14,
          16,
          16,
          20,
          16,
          16,
          28,
          12,
          16,
          18,
          18,
          18,
          14,
          14,
          14,
          12,
          18,
          16,
          18,
          20,
          18,
          28
         ],
         "yaxis": "y"
        }
       ],
       "layout": {
        "legend": {
         "tracegroupgap": 0
        },
        "margin": {
         "t": 60
        },
        "template": {
         "data": {
          "bar": [
           {
            "error_x": {
             "color": "#2a3f5f"
            },
            "error_y": {
             "color": "#2a3f5f"
            },
            "marker": {
             "line": {
              "color": "#E5ECF6",
              "width": 0.5
             },
             "pattern": {
              "fillmode": "overlay",
              "size": 10,
              "solidity": 0.2
             }
            },
            "type": "bar"
           }
          ],
          "barpolar": [
           {
            "marker": {
             "line": {
              "color": "#E5ECF6",
              "width": 0.5
             },
             "pattern": {
              "fillmode": "overlay",
              "size": 10,
              "solidity": 0.2
             }
            },
            "type": "barpolar"
           }
          ],
          "carpet": [
           {
            "aaxis": {
             "endlinecolor": "#2a3f5f",
             "gridcolor": "white",
             "linecolor": "white",
             "minorgridcolor": "white",
             "startlinecolor": "#2a3f5f"
            },
            "baxis": {
             "endlinecolor": "#2a3f5f",
             "gridcolor": "white",
             "linecolor": "white",
             "minorgridcolor": "white",
             "startlinecolor": "#2a3f5f"
            },
            "type": "carpet"
           }
          ],
          "choropleth": [
           {
            "colorbar": {
             "outlinewidth": 0,
             "ticks": ""
            },
            "type": "choropleth"
           }
          ],
          "contour": [
           {
            "colorbar": {
             "outlinewidth": 0,
             "ticks": ""
            },
            "colorscale": [
             [
              0,
              "#0d0887"
             ],
             [
              0.1111111111111111,
              "#46039f"
             ],
             [
              0.2222222222222222,
              "#7201a8"
             ],
             [
              0.3333333333333333,
              "#9c179e"
             ],
             [
              0.4444444444444444,
              "#bd3786"
             ],
             [
              0.5555555555555556,
              "#d8576b"
             ],
             [
              0.6666666666666666,
              "#ed7953"
             ],
             [
              0.7777777777777778,
              "#fb9f3a"
             ],
             [
              0.8888888888888888,
              "#fdca26"
             ],
             [
              1,
              "#f0f921"
             ]
            ],
            "type": "contour"
           }
          ],
          "contourcarpet": [
           {
            "colorbar": {
             "outlinewidth": 0,
             "ticks": ""
            },
            "type": "contourcarpet"
           }
          ],
          "heatmap": [
           {
            "colorbar": {
             "outlinewidth": 0,
             "ticks": ""
            },
            "colorscale": [
             [
              0,
              "#0d0887"
             ],
             [
              0.1111111111111111,
              "#46039f"
             ],
             [
              0.2222222222222222,
              "#7201a8"
             ],
             [
              0.3333333333333333,
              "#9c179e"
             ],
             [
              0.4444444444444444,
              "#bd3786"
             ],
             [
              0.5555555555555556,
              "#d8576b"
             ],
             [
              0.6666666666666666,
              "#ed7953"
             ],
             [
              0.7777777777777778,
              "#fb9f3a"
             ],
             [
              0.8888888888888888,
              "#fdca26"
             ],
             [
              1,
              "#f0f921"
             ]
            ],
            "type": "heatmap"
           }
          ],
          "heatmapgl": [
           {
            "colorbar": {
             "outlinewidth": 0,
             "ticks": ""
            },
            "colorscale": [
             [
              0,
              "#0d0887"
             ],
             [
              0.1111111111111111,
              "#46039f"
             ],
             [
              0.2222222222222222,
              "#7201a8"
             ],
             [
              0.3333333333333333,
              "#9c179e"
             ],
             [
              0.4444444444444444,
              "#bd3786"
             ],
             [
              0.5555555555555556,
              "#d8576b"
             ],
             [
              0.6666666666666666,
              "#ed7953"
             ],
             [
              0.7777777777777778,
              "#fb9f3a"
             ],
             [
              0.8888888888888888,
              "#fdca26"
             ],
             [
              1,
              "#f0f921"
             ]
            ],
            "type": "heatmapgl"
           }
          ],
          "histogram": [
           {
            "marker": {
             "pattern": {
              "fillmode": "overlay",
              "size": 10,
              "solidity": 0.2
             }
            },
            "type": "histogram"
           }
          ],
          "histogram2d": [
           {
            "colorbar": {
             "outlinewidth": 0,
             "ticks": ""
            },
            "colorscale": [
             [
              0,
              "#0d0887"
             ],
             [
              0.1111111111111111,
              "#46039f"
             ],
             [
              0.2222222222222222,
              "#7201a8"
             ],
             [
              0.3333333333333333,
              "#9c179e"
             ],
             [
              0.4444444444444444,
              "#bd3786"
             ],
             [
              0.5555555555555556,
              "#d8576b"
             ],
             [
              0.6666666666666666,
              "#ed7953"
             ],
             [
              0.7777777777777778,
              "#fb9f3a"
             ],
             [
              0.8888888888888888,
              "#fdca26"
             ],
             [
              1,
              "#f0f921"
             ]
            ],
            "type": "histogram2d"
           }
          ],
          "histogram2dcontour": [
           {
            "colorbar": {
             "outlinewidth": 0,
             "ticks": ""
            },
            "colorscale": [
             [
              0,
              "#0d0887"
             ],
             [
              0.1111111111111111,
              "#46039f"
             ],
             [
              0.2222222222222222,
              "#7201a8"
             ],
             [
              0.3333333333333333,
              "#9c179e"
             ],
             [
              0.4444444444444444,
              "#bd3786"
             ],
             [
              0.5555555555555556,
              "#d8576b"
             ],
             [
              0.6666666666666666,
              "#ed7953"
             ],
             [
              0.7777777777777778,
              "#fb9f3a"
             ],
             [
              0.8888888888888888,
              "#fdca26"
             ],
             [
              1,
              "#f0f921"
             ]
            ],
            "type": "histogram2dcontour"
           }
          ],
          "mesh3d": [
           {
            "colorbar": {
             "outlinewidth": 0,
             "ticks": ""
            },
            "type": "mesh3d"
           }
          ],
          "parcoords": [
           {
            "line": {
             "colorbar": {
              "outlinewidth": 0,
              "ticks": ""
             }
            },
            "type": "parcoords"
           }
          ],
          "pie": [
           {
            "automargin": true,
            "type": "pie"
           }
          ],
          "scatter": [
           {
            "fillpattern": {
             "fillmode": "overlay",
             "size": 10,
             "solidity": 0.2
            },
            "type": "scatter"
           }
          ],
          "scatter3d": [
           {
            "line": {
             "colorbar": {
              "outlinewidth": 0,
              "ticks": ""
             }
            },
            "marker": {
             "colorbar": {
              "outlinewidth": 0,
              "ticks": ""
             }
            },
            "type": "scatter3d"
           }
          ],
          "scattercarpet": [
           {
            "marker": {
             "colorbar": {
              "outlinewidth": 0,
              "ticks": ""
             }
            },
            "type": "scattercarpet"
           }
          ],
          "scattergeo": [
           {
            "marker": {
             "colorbar": {
              "outlinewidth": 0,
              "ticks": ""
             }
            },
            "type": "scattergeo"
           }
          ],
          "scattergl": [
           {
            "marker": {
             "colorbar": {
              "outlinewidth": 0,
              "ticks": ""
             }
            },
            "type": "scattergl"
           }
          ],
          "scattermapbox": [
           {
            "marker": {
             "colorbar": {
              "outlinewidth": 0,
              "ticks": ""
             }
            },
            "type": "scattermapbox"
           }
          ],
          "scatterpolar": [
           {
            "marker": {
             "colorbar": {
              "outlinewidth": 0,
              "ticks": ""
             }
            },
            "type": "scatterpolar"
           }
          ],
          "scatterpolargl": [
           {
            "marker": {
             "colorbar": {
              "outlinewidth": 0,
              "ticks": ""
             }
            },
            "type": "scatterpolargl"
           }
          ],
          "scatterternary": [
           {
            "marker": {
             "colorbar": {
              "outlinewidth": 0,
              "ticks": ""
             }
            },
            "type": "scatterternary"
           }
          ],
          "surface": [
           {
            "colorbar": {
             "outlinewidth": 0,
             "ticks": ""
            },
            "colorscale": [
             [
              0,
              "#0d0887"
             ],
             [
              0.1111111111111111,
              "#46039f"
             ],
             [
              0.2222222222222222,
              "#7201a8"
             ],
             [
              0.3333333333333333,
              "#9c179e"
             ],
             [
              0.4444444444444444,
              "#bd3786"
             ],
             [
              0.5555555555555556,
              "#d8576b"
             ],
             [
              0.6666666666666666,
              "#ed7953"
             ],
             [
              0.7777777777777778,
              "#fb9f3a"
             ],
             [
              0.8888888888888888,
              "#fdca26"
             ],
             [
              1,
              "#f0f921"
             ]
            ],
            "type": "surface"
           }
          ],
          "table": [
           {
            "cells": {
             "fill": {
              "color": "#EBF0F8"
             },
             "line": {
              "color": "white"
             }
            },
            "header": {
             "fill": {
              "color": "#C8D4E3"
             },
             "line": {
              "color": "white"
             }
            },
            "type": "table"
           }
          ]
         },
         "layout": {
          "annotationdefaults": {
           "arrowcolor": "#2a3f5f",
           "arrowhead": 0,
           "arrowwidth": 1
          },
          "autotypenumbers": "strict",
          "coloraxis": {
           "colorbar": {
            "outlinewidth": 0,
            "ticks": ""
           }
          },
          "colorscale": {
           "diverging": [
            [
             0,
             "#8e0152"
            ],
            [
             0.1,
             "#c51b7d"
            ],
            [
             0.2,
             "#de77ae"
            ],
            [
             0.3,
             "#f1b6da"
            ],
            [
             0.4,
             "#fde0ef"
            ],
            [
             0.5,
             "#f7f7f7"
            ],
            [
             0.6,
             "#e6f5d0"
            ],
            [
             0.7,
             "#b8e186"
            ],
            [
             0.8,
             "#7fbc41"
            ],
            [
             0.9,
             "#4d9221"
            ],
            [
             1,
             "#276419"
            ]
           ],
           "sequential": [
            [
             0,
             "#0d0887"
            ],
            [
             0.1111111111111111,
             "#46039f"
            ],
            [
             0.2222222222222222,
             "#7201a8"
            ],
            [
             0.3333333333333333,
             "#9c179e"
            ],
            [
             0.4444444444444444,
             "#bd3786"
            ],
            [
             0.5555555555555556,
             "#d8576b"
            ],
            [
             0.6666666666666666,
             "#ed7953"
            ],
            [
             0.7777777777777778,
             "#fb9f3a"
            ],
            [
             0.8888888888888888,
             "#fdca26"
            ],
            [
             1,
             "#f0f921"
            ]
           ],
           "sequentialminus": [
            [
             0,
             "#0d0887"
            ],
            [
             0.1111111111111111,
             "#46039f"
            ],
            [
             0.2222222222222222,
             "#7201a8"
            ],
            [
             0.3333333333333333,
             "#9c179e"
            ],
            [
             0.4444444444444444,
             "#bd3786"
            ],
            [
             0.5555555555555556,
             "#d8576b"
            ],
            [
             0.6666666666666666,
             "#ed7953"
            ],
            [
             0.7777777777777778,
             "#fb9f3a"
            ],
            [
             0.8888888888888888,
             "#fdca26"
            ],
            [
             1,
             "#f0f921"
            ]
           ]
          },
          "colorway": [
           "#636efa",
           "#EF553B",
           "#00cc96",
           "#ab63fa",
           "#FFA15A",
           "#19d3f3",
           "#FF6692",
           "#B6E880",
           "#FF97FF",
           "#FECB52"
          ],
          "font": {
           "color": "#2a3f5f"
          },
          "geo": {
           "bgcolor": "white",
           "lakecolor": "white",
           "landcolor": "#E5ECF6",
           "showlakes": true,
           "showland": true,
           "subunitcolor": "white"
          },
          "hoverlabel": {
           "align": "left"
          },
          "hovermode": "closest",
          "mapbox": {
           "style": "light"
          },
          "paper_bgcolor": "white",
          "plot_bgcolor": "#E5ECF6",
          "polar": {
           "angularaxis": {
            "gridcolor": "white",
            "linecolor": "white",
            "ticks": ""
           },
           "bgcolor": "#E5ECF6",
           "radialaxis": {
            "gridcolor": "white",
            "linecolor": "white",
            "ticks": ""
           }
          },
          "scene": {
           "xaxis": {
            "backgroundcolor": "#E5ECF6",
            "gridcolor": "white",
            "gridwidth": 2,
            "linecolor": "white",
            "showbackground": true,
            "ticks": "",
            "zerolinecolor": "white"
           },
           "yaxis": {
            "backgroundcolor": "#E5ECF6",
            "gridcolor": "white",
            "gridwidth": 2,
            "linecolor": "white",
            "showbackground": true,
            "ticks": "",
            "zerolinecolor": "white"
           },
           "zaxis": {
            "backgroundcolor": "#E5ECF6",
            "gridcolor": "white",
            "gridwidth": 2,
            "linecolor": "white",
            "showbackground": true,
            "ticks": "",
            "zerolinecolor": "white"
           }
          },
          "shapedefaults": {
           "line": {
            "color": "#2a3f5f"
           }
          },
          "ternary": {
           "aaxis": {
            "gridcolor": "white",
            "linecolor": "white",
            "ticks": ""
           },
           "baxis": {
            "gridcolor": "white",
            "linecolor": "white",
            "ticks": ""
           },
           "bgcolor": "#E5ECF6",
           "caxis": {
            "gridcolor": "white",
            "linecolor": "white",
            "ticks": ""
           }
          },
          "title": {
           "x": 0.05
          },
          "xaxis": {
           "automargin": true,
           "gridcolor": "white",
           "linecolor": "white",
           "ticks": "",
           "title": {
            "standoff": 15
           },
           "zerolinecolor": "white",
           "zerolinewidth": 2
          },
          "yaxis": {
           "automargin": true,
           "gridcolor": "white",
           "linecolor": "white",
           "ticks": "",
           "title": {
            "standoff": 15
           },
           "zerolinecolor": "white",
           "zerolinewidth": 2
          }
         }
        },
        "title": {
         "text": "Bars, Restaurants & Cafes",
         "x": 0.5
        },
        "xaxis": {
         "anchor": "y",
         "domain": [
          0,
          1
         ],
         "title": {
          "text": "Bars, Restaurants & Cafes"
         }
        },
        "yaxis": {
         "anchor": "x",
         "domain": [
          0,
          1
         ],
         "title": {
          "text": "Bikes"
         }
        }
       }
      }
     },
     "metadata": {},
     "output_type": "display_data"
    },
    {
     "data": {
      "application/vnd.plotly.v1+json": {
       "config": {
        "plotlyServerURL": "https://plot.ly"
       },
       "data": [
        {
         "customdata": [
          [
           "10th & Cambie"
          ],
          [
           "10th & Columbia"
          ],
          [
           "10th & Commercial"
          ],
          [
           "10th & Fraser"
          ],
          [
           "10th & Granville"
          ],
          [
           "10th & Kingsway"
          ],
          [
           "10th & Main"
          ],
          [
           "10th & Oak"
          ],
          [
           "10th & Ontario"
          ],
          [
           "11th & Kingsway"
          ],
          [
           "12th & Yukon (City Hall)"
          ],
          [
           "13th & Cambie"
          ],
          [
           "13th & St George"
          ],
          [
           "14th & Alder"
          ],
          [
           "14th & Cambie"
          ],
          [
           "14th & Fraser"
          ],
          [
           "14th & Granville"
          ],
          [
           "14th & Main"
          ],
          [
           "14th & Oak"
          ],
          [
           "14th & Ontario"
          ],
          [
           "15th & Knight"
          ],
          [
           "15th & Victoria (Trout Lake)"
          ],
          [
           "18th & Cambie"
          ],
          [
           "18th & Heather"
          ],
          [
           "18th & Main"
          ],
          [
           "1st & Chestnut"
          ],
          [
           "1st & Manitoba"
          ],
          [
           "1st & Scotia"
          ],
          [
           "20th & Main"
          ],
          [
           "22nd & Cambie"
          ],
          [
           "28th & Willow"
          ],
          [
           "29th & Cambie"
          ],
          [
           "2nd & Commercial"
          ],
          [
           "30th & Ontario"
          ],
          [
           "3rd & Quebec"
          ],
          [
           "4th & Commercial"
          ],
          [
           "5th & Arbutus"
          ],
          [
           "5th & Main"
          ],
          [
           "6th & Carolina"
          ],
          [
           "6th & Prince Edward"
          ],
          [
           "7th &  Alder"
          ],
          [
           "7th & Arbutus"
          ],
          [
           "7th & Granville"
          ],
          [
           "7th & Heather"
          ],
          [
           "7th & Laurel"
          ],
          [
           "7th & Woodland"
          ],
          [
           "8th & Ash"
          ],
          [
           "8th & Commercial"
          ],
          [
           "8th & Fraser"
          ],
          [
           "8th & Macdonald"
          ],
          [
           "8th & Ontario"
          ],
          [
           "8th & Prince Edward"
          ],
          [
           "8th & Scotia"
          ],
          [
           "8th & Yukon"
          ],
          [
           "Abbott & Cordova"
          ],
          [
           "Adanac & McLean"
          ],
          [
           "Alberni & Jervis"
          ],
          [
           "Alder & 11th"
          ],
          [
           "Alexander & Dunlevy"
          ],
          [
           "Alexander & Main"
          ],
          [
           "Alexander & Railway"
          ],
          [
           "Alma & Point Grey"
          ],
          [
           "Anderson & 2nd"
          ],
          [
           "Aquatic Centre"
          ],
          [
           "Arbutus & 10th"
          ],
          [
           "Arbutus & 16th"
          ],
          [
           "Arbutus & McNicoll"
          ],
          [
           "Arbutus & Nanton"
          ],
          [
           "Arbutus Greenway & 14th"
          ],
          [
           "Arbutus Greenway & Fir"
          ],
          [
           "Balaclava & 6th"
          ],
          [
           "Balaclava & Broadway"
          ],
          [
           "Balsam & Cornwall"
          ],
          [
           "Beach & Broughton"
          ],
          [
           "Beach & Cardero"
          ],
          [
           "Beach & Hornby"
          ],
          [
           "Beach & Seymour"
          ],
          [
           "Beatty & Nelson"
          ],
          [
           "Beatty & Robson"
          ],
          [
           "Bidwell & Burnaby"
          ],
          [
           "Blenheim & 4th"
          ],
          [
           "Britannia Parking Lot"
          ],
          [
           "Broughton & Davie"
          ],
          [
           "Burrard & 14th"
          ],
          [
           "Burrard & 4th"
          ],
          [
           "Burrard & 7th"
          ],
          [
           "Burrard & Drake"
          ],
          [
           "Burrard Station (Melville & Dunsmuir)"
          ],
          [
           "Bute & Barclay"
          ],
          [
           "Bute & Comox"
          ],
          [
           "Bute & Davie"
          ],
          [
           "Bute & Robson"
          ],
          [
           "Cambie & Water"
          ],
          [
           "Campbell & Hastings"
          ],
          [
           "Canada Place"
          ],
          [
           "Cardero & Davie"
          ],
          [
           "Cardero & Robson"
          ],
          [
           "Carolina & Great Northern Way"
          ],
          [
           "Carrall & Hastings"
          ],
          [
           "Carrall & Seawall"
          ],
          [
           "Charles & Commercial"
          ],
          [
           "Charles & Woodland"
          ],
          [
           "Chestnut & McNicoll"
          ],
          [
           "Chilco & Barclay"
          ],
          [
           "Chilco & Beach"
          ],
          [
           "Chilco & Robson"
          ],
          [
           "Columbia & 14th"
          ],
          [
           "Columbia & 1st"
          ],
          [
           "Columbia & 5th"
          ],
          [
           "Commercial & 20th"
          ],
          [
           "Commercial & Adanac"
          ],
          [
           "Commercial & Pandora"
          ],
          [
           "Comox & Broughton"
          ],
          [
           "Comox & Denman"
          ],
          [
           "Cordova & Bute"
          ],
          [
           "Cordova & Granville"
          ],
          [
           "Creekside Park North"
          ],
          [
           "Cypress & 10th"
          ],
          [
           "Cypress & 14th"
          ],
          [
           "Cypress & 16th"
          ],
          [
           "Cypress & 4th"
          ],
          [
           "Cypress & Cornwall"
          ],
          [
           "David Lam Park - West"
          ],
          [
           "Davie & Beach"
          ],
          [
           "Dunbar & 6th"
          ],
          [
           "Dunbar & Broadway"
          ],
          [
           "Dunsmuir & Beatty"
          ],
          [
           "Dunsmuir & Richards"
          ],
          [
           "East Blvd & 37th"
          ],
          [
           "Expo & Carrall"
          ],
          [
           "Expo & Smithe"
          ],
          [
           "Franklin & Nanaimo"
          ],
          [
           "Georgia & Homer"
          ],
          [
           "Georgia & Main"
          ],
          [
           "Georgia & Thurlow"
          ],
          [
           "Glen & 6th"
          ],
          [
           "Glen & Broadway"
          ],
          [
           "Glen & Union"
          ],
          [
           "Grandview & Commercial"
          ],
          [
           "Grant & Commercial"
          ],
          [
           "Granville & Georgia"
          ],
          [
           "Granville Island"
          ],
          [
           "Haro & Denman"
          ],
          [
           "Harwood & Bute"
          ],
          [
           "Hastings & Broughton"
          ],
          [
           "Hawks & Union"
          ],
          [
           "Heather & 14th"
          ],
          [
           "Heather & 16th"
          ],
          [
           "Heather & 29th"
          ],
          [
           "Helmcken & Burrard"
          ],
          [
           "Homer & Robson (Vancouver Public Library)"
          ],
          [
           "Hornby & Drake"
          ],
          [
           "Hornby & Nelson"
          ],
          [
           "Hornby & Pender"
          ],
          [
           "Jericho Beach"
          ],
          [
           "Jervis & Robson"
          ],
          [
           "Keefer & Abbott"
          ],
          [
           "Keefer & Columbia"
          ],
          [
           "Keefer & Hawks"
          ],
          [
           "Keefer & Princess"
          ],
          [
           "Keith & 6th"
          ],
          [
           "King Edward & Cambie"
          ],
          [
           "Kitsilano Beach Park"
          ],
          [
           "Lakewood & Oxford"
          ],
          [
           "Lakewood & Triumph"
          ],
          [
           "Marinaside & Cooperage"
          ],
          [
           "Marinaside & Davie"
          ],
          [
           "McLean & Pender"
          ],
          [
           "Melville & Bute"
          ],
          [
           "Morton & Denman"
          ],
          [
           "Napier & Commercial"
          ],
          [
           "Nelson & Denman"
          ],
          [
           "Nelson & Mainland"
          ],
          [
           "Nelson & Richards"
          ],
          [
           "Nicola & Robson"
          ],
          [
           "Olympic Village Station"
          ],
          [
           "Ontario & 16th"
          ],
          [
           "Ontario & 23rd"
          ],
          [
           "Ontario & 5th"
          ],
          [
           "Ontario & Seawall"
          ],
          [
           "Pacific & Richards"
          ],
          [
           "Pender & Burrard"
          ],
          [
           "Pender & Commercial"
          ],
          [
           "Pender & Gore"
          ],
          [
           "Pender & Victoria"
          ],
          [
           "Pine & 10th"
          ],
          [
           "Pine & 14th"
          ],
          [
           "Point Grey & Bayswater"
          ],
          [
           "Point Grey & Blenheim"
          ],
          [
           "Prince Edward & 14th"
          ],
          [
           "Prince Edward & 16th"
          ],
          [
           "Princess & Union"
          ],
          [
           "Quebec & 1st"
          ],
          [
           "Richards & Cordova"
          ],
          [
           "Richards & Davie"
          ],
          [
           "Richards & Helmcken"
          ],
          [
           "Richards & Robson"
          ],
          [
           "Richards & Smithe"
          ],
          [
           "Robson & Granville"
          ],
          [
           "Robson & Hornby"
          ],
          [
           "Rolston & Granville"
          ],
          [
           "Science World"
          ],
          [
           "Seymour & Cordova"
          ],
          [
           "Shaw Tower"
          ],
          [
           "Smithe & Burrard"
          ],
          [
           "South False Creek Seawall"
          ],
          [
           "Spyglass & Seawall"
          ],
          [
           "St Catherines & 10th"
          ],
          [
           "St Catherines & 7th"
          ],
          [
           "St George & Broadway"
          ],
          [
           "Stamps Landing"
          ],
          [
           "Stanley Park - Information Booth"
          ],
          [
           "Stanley Park - Prospect Point"
          ],
          [
           "Stanley Park - Second Beach North"
          ],
          [
           "Stanley Park - Second Beach South"
          ],
          [
           "Stanley Park - Third Beach Parking Lot"
          ],
          [
           "Stanley Park - Totem Poles"
          ],
          [
           "Stanley Park - Vancouver Aquarium"
          ],
          [
           "Station & Terminal"
          ],
          [
           "Thornton & National"
          ],
          [
           "Thurlow & Pendrell"
          ],
          [
           "Trafalgar & Broadway"
          ],
          [
           "Trafalgar & Cornwall"
          ],
          [
           "Triumph & Victoria"
          ],
          [
           "Union & Dunlevy"
          ],
          [
           "Vanier Park"
          ],
          [
           "Victoria & 10th"
          ],
          [
           "Victoria & 4th"
          ],
          [
           "Vine & 4th"
          ],
          [
           "Wall & Eton"
          ],
          [
           "Wallace & 4th"
          ],
          [
           "Windsor & 14th"
          ],
          [
           "Woodland & 10th"
          ],
          [
           "Woodland & 4th"
          ],
          [
           "Woodland & Graveley"
          ],
          [
           "Wylie & 2nd"
          ],
          [
           "Yaletown-Roundhouse Station"
          ],
          [
           "Yew & Broadway"
          ],
          [
           "York & Yew"
          ],
          [
           "Yukon & 6th"
          ],
          [
           "šxʷƛ̓ənəq Xwtl'e7énḵ Square - Vancouver Art Gallery"
          ]
         ],
         "hovertemplate": "Landmarks, Parks & Sports=%{x}<br>Bikes=%{y}<br>Station_name=%{customdata[0]}<extra></extra>",
         "legendgroup": "",
         "marker": {
          "color": "#636efa",
          "symbol": "circle"
         },
         "mode": "markers",
         "name": "",
         "orientation": "v",
         "showlegend": false,
         "type": "scatter",
         "x": [
          76,
          14,
          8,
          3,
          26,
          29,
          36,
          14,
          32,
          24,
          26,
          8,
          7,
          0,
          7,
          9,
          3,
          12,
          1,
          12,
          1,
          7,
          6,
          9,
          11,
          16,
          17,
          20,
          5,
          6,
          1,
          2,
          4,
          37,
          8,
          1,
          8,
          31,
          4,
          28,
          8,
          31,
          26,
          72,
          25,
          14,
          70,
          13,
          4,
          7,
          33,
          23,
          47,
          27,
          47,
          6,
          28,
          3,
          11,
          5,
          9,
          7,
          13,
          15,
          23,
          3,
          6,
          8,
          4,
          42,
          5,
          16,
          6,
          11,
          5,
          36,
          28,
          51,
          34,
          8,
          4,
          14,
          14,
          1,
          18,
          32,
          16,
          67,
          17,
          17,
          14,
          15,
          38,
          12,
          57,
          16,
          46,
          4,
          59,
          10,
          15,
          13,
          8,
          7,
          15,
          7,
          6,
          21,
          8,
          3,
          12,
          3,
          6,
          16,
          51,
          68,
          9,
          42,
          3,
          2,
          13,
          5,
          9,
          12,
          9,
          4,
          34,
          47,
          4,
          18,
          22,
          3,
          30,
          25,
          44,
          2,
          2,
          2,
          6,
          9,
          77,
          50,
          42,
          16,
          20,
          5,
          12,
          7,
          2,
          41,
          59,
          64,
          76,
          74,
          3,
          21,
          39,
          33,
          13,
          9,
          7,
          5,
          7,
          4,
          3,
          24,
          44,
          4,
          48,
          12,
          15,
          30,
          55,
          63,
          27,
          25,
          6,
          6,
          8,
          22,
          44,
          37,
          2,
          13,
          0,
          12,
          10,
          5,
          3,
          10,
          9,
          3,
          22,
          40,
          82,
          44,
          28,
          29,
          81,
          87,
          32,
          15,
          64,
          28,
          23,
          10,
          16,
          1,
          2,
          3,
          10,
          7,
          6,
          12,
          15,
          5,
          10,
          7,
          9,
          3,
          19,
          6,
          10,
          4,
          12,
          9,
          4,
          6,
          6,
          5,
          6,
          0,
          4,
          4,
          6,
          13,
          71,
          34,
          5,
          63,
          40
         ],
         "xaxis": "x",
         "y": [
          35,
          14,
          26,
          14,
          14,
          20,
          18,
          30,
          20,
          16,
          16,
          14,
          16,
          14,
          14,
          16,
          14,
          14,
          14,
          16,
          14,
          18,
          24,
          16,
          16,
          26,
          32,
          20,
          16,
          14,
          20,
          20,
          22,
          22,
          20,
          14,
          16,
          20,
          16,
          16,
          16,
          16,
          14,
          18,
          14,
          12,
          16,
          38,
          16,
          22,
          16,
          18,
          12,
          22,
          22,
          22,
          20,
          14,
          14,
          20,
          20,
          24,
          28,
          35,
          18,
          40,
          30,
          18,
          20,
          16,
          16,
          18,
          20,
          22,
          22,
          18,
          18,
          14,
          20,
          26,
          23,
          14,
          22,
          18,
          16,
          16,
          24,
          28,
          14,
          22,
          20,
          26,
          32,
          14,
          26,
          18,
          26,
          16,
          18,
          18,
          22,
          14,
          16,
          18,
          14,
          16,
          14,
          24,
          18,
          20,
          16,
          16,
          12,
          18,
          14,
          22,
          18,
          14,
          12,
          12,
          18,
          22,
          18,
          30,
          16,
          26,
          26,
          22,
          20,
          16,
          14,
          20,
          18,
          20,
          12,
          20,
          18,
          14,
          16,
          14,
          20,
          20,
          20,
          20,
          24,
          16,
          18,
          12,
          22,
          15,
          20,
          24,
          18,
          22,
          34,
          20,
          28,
          14,
          16,
          14,
          28,
          18,
          39,
          18,
          16,
          26,
          22,
          16,
          14,
          26,
          14,
          18,
          20,
          18,
          18,
          26,
          14,
          12,
          20,
          20,
          14,
          26,
          16,
          14,
          16,
          20,
          12,
          16,
          14,
          14,
          14,
          12,
          20,
          24,
          14,
          18,
          22,
          18,
          30,
          30,
          16,
          16,
          19,
          18,
          20,
          14,
          14,
          12,
          20,
          14,
          14,
          20,
          22,
          16,
          18,
          38,
          20,
          16,
          18,
          14,
          16,
          16,
          20,
          16,
          16,
          28,
          12,
          16,
          18,
          18,
          18,
          14,
          14,
          14,
          12,
          18,
          16,
          18,
          20,
          18,
          28
         ],
         "yaxis": "y"
        }
       ],
       "layout": {
        "legend": {
         "tracegroupgap": 0
        },
        "margin": {
         "t": 60
        },
        "template": {
         "data": {
          "bar": [
           {
            "error_x": {
             "color": "#2a3f5f"
            },
            "error_y": {
             "color": "#2a3f5f"
            },
            "marker": {
             "line": {
              "color": "#E5ECF6",
              "width": 0.5
             },
             "pattern": {
              "fillmode": "overlay",
              "size": 10,
              "solidity": 0.2
             }
            },
            "type": "bar"
           }
          ],
          "barpolar": [
           {
            "marker": {
             "line": {
              "color": "#E5ECF6",
              "width": 0.5
             },
             "pattern": {
              "fillmode": "overlay",
              "size": 10,
              "solidity": 0.2
             }
            },
            "type": "barpolar"
           }
          ],
          "carpet": [
           {
            "aaxis": {
             "endlinecolor": "#2a3f5f",
             "gridcolor": "white",
             "linecolor": "white",
             "minorgridcolor": "white",
             "startlinecolor": "#2a3f5f"
            },
            "baxis": {
             "endlinecolor": "#2a3f5f",
             "gridcolor": "white",
             "linecolor": "white",
             "minorgridcolor": "white",
             "startlinecolor": "#2a3f5f"
            },
            "type": "carpet"
           }
          ],
          "choropleth": [
           {
            "colorbar": {
             "outlinewidth": 0,
             "ticks": ""
            },
            "type": "choropleth"
           }
          ],
          "contour": [
           {
            "colorbar": {
             "outlinewidth": 0,
             "ticks": ""
            },
            "colorscale": [
             [
              0,
              "#0d0887"
             ],
             [
              0.1111111111111111,
              "#46039f"
             ],
             [
              0.2222222222222222,
              "#7201a8"
             ],
             [
              0.3333333333333333,
              "#9c179e"
             ],
             [
              0.4444444444444444,
              "#bd3786"
             ],
             [
              0.5555555555555556,
              "#d8576b"
             ],
             [
              0.6666666666666666,
              "#ed7953"
             ],
             [
              0.7777777777777778,
              "#fb9f3a"
             ],
             [
              0.8888888888888888,
              "#fdca26"
             ],
             [
              1,
              "#f0f921"
             ]
            ],
            "type": "contour"
           }
          ],
          "contourcarpet": [
           {
            "colorbar": {
             "outlinewidth": 0,
             "ticks": ""
            },
            "type": "contourcarpet"
           }
          ],
          "heatmap": [
           {
            "colorbar": {
             "outlinewidth": 0,
             "ticks": ""
            },
            "colorscale": [
             [
              0,
              "#0d0887"
             ],
             [
              0.1111111111111111,
              "#46039f"
             ],
             [
              0.2222222222222222,
              "#7201a8"
             ],
             [
              0.3333333333333333,
              "#9c179e"
             ],
             [
              0.4444444444444444,
              "#bd3786"
             ],
             [
              0.5555555555555556,
              "#d8576b"
             ],
             [
              0.6666666666666666,
              "#ed7953"
             ],
             [
              0.7777777777777778,
              "#fb9f3a"
             ],
             [
              0.8888888888888888,
              "#fdca26"
             ],
             [
              1,
              "#f0f921"
             ]
            ],
            "type": "heatmap"
           }
          ],
          "heatmapgl": [
           {
            "colorbar": {
             "outlinewidth": 0,
             "ticks": ""
            },
            "colorscale": [
             [
              0,
              "#0d0887"
             ],
             [
              0.1111111111111111,
              "#46039f"
             ],
             [
              0.2222222222222222,
              "#7201a8"
             ],
             [
              0.3333333333333333,
              "#9c179e"
             ],
             [
              0.4444444444444444,
              "#bd3786"
             ],
             [
              0.5555555555555556,
              "#d8576b"
             ],
             [
              0.6666666666666666,
              "#ed7953"
             ],
             [
              0.7777777777777778,
              "#fb9f3a"
             ],
             [
              0.8888888888888888,
              "#fdca26"
             ],
             [
              1,
              "#f0f921"
             ]
            ],
            "type": "heatmapgl"
           }
          ],
          "histogram": [
           {
            "marker": {
             "pattern": {
              "fillmode": "overlay",
              "size": 10,
              "solidity": 0.2
             }
            },
            "type": "histogram"
           }
          ],
          "histogram2d": [
           {
            "colorbar": {
             "outlinewidth": 0,
             "ticks": ""
            },
            "colorscale": [
             [
              0,
              "#0d0887"
             ],
             [
              0.1111111111111111,
              "#46039f"
             ],
             [
              0.2222222222222222,
              "#7201a8"
             ],
             [
              0.3333333333333333,
              "#9c179e"
             ],
             [
              0.4444444444444444,
              "#bd3786"
             ],
             [
              0.5555555555555556,
              "#d8576b"
             ],
             [
              0.6666666666666666,
              "#ed7953"
             ],
             [
              0.7777777777777778,
              "#fb9f3a"
             ],
             [
              0.8888888888888888,
              "#fdca26"
             ],
             [
              1,
              "#f0f921"
             ]
            ],
            "type": "histogram2d"
           }
          ],
          "histogram2dcontour": [
           {
            "colorbar": {
             "outlinewidth": 0,
             "ticks": ""
            },
            "colorscale": [
             [
              0,
              "#0d0887"
             ],
             [
              0.1111111111111111,
              "#46039f"
             ],
             [
              0.2222222222222222,
              "#7201a8"
             ],
             [
              0.3333333333333333,
              "#9c179e"
             ],
             [
              0.4444444444444444,
              "#bd3786"
             ],
             [
              0.5555555555555556,
              "#d8576b"
             ],
             [
              0.6666666666666666,
              "#ed7953"
             ],
             [
              0.7777777777777778,
              "#fb9f3a"
             ],
             [
              0.8888888888888888,
              "#fdca26"
             ],
             [
              1,
              "#f0f921"
             ]
            ],
            "type": "histogram2dcontour"
           }
          ],
          "mesh3d": [
           {
            "colorbar": {
             "outlinewidth": 0,
             "ticks": ""
            },
            "type": "mesh3d"
           }
          ],
          "parcoords": [
           {
            "line": {
             "colorbar": {
              "outlinewidth": 0,
              "ticks": ""
             }
            },
            "type": "parcoords"
           }
          ],
          "pie": [
           {
            "automargin": true,
            "type": "pie"
           }
          ],
          "scatter": [
           {
            "fillpattern": {
             "fillmode": "overlay",
             "size": 10,
             "solidity": 0.2
            },
            "type": "scatter"
           }
          ],
          "scatter3d": [
           {
            "line": {
             "colorbar": {
              "outlinewidth": 0,
              "ticks": ""
             }
            },
            "marker": {
             "colorbar": {
              "outlinewidth": 0,
              "ticks": ""
             }
            },
            "type": "scatter3d"
           }
          ],
          "scattercarpet": [
           {
            "marker": {
             "colorbar": {
              "outlinewidth": 0,
              "ticks": ""
             }
            },
            "type": "scattercarpet"
           }
          ],
          "scattergeo": [
           {
            "marker": {
             "colorbar": {
              "outlinewidth": 0,
              "ticks": ""
             }
            },
            "type": "scattergeo"
           }
          ],
          "scattergl": [
           {
            "marker": {
             "colorbar": {
              "outlinewidth": 0,
              "ticks": ""
             }
            },
            "type": "scattergl"
           }
          ],
          "scattermapbox": [
           {
            "marker": {
             "colorbar": {
              "outlinewidth": 0,
              "ticks": ""
             }
            },
            "type": "scattermapbox"
           }
          ],
          "scatterpolar": [
           {
            "marker": {
             "colorbar": {
              "outlinewidth": 0,
              "ticks": ""
             }
            },
            "type": "scatterpolar"
           }
          ],
          "scatterpolargl": [
           {
            "marker": {
             "colorbar": {
              "outlinewidth": 0,
              "ticks": ""
             }
            },
            "type": "scatterpolargl"
           }
          ],
          "scatterternary": [
           {
            "marker": {
             "colorbar": {
              "outlinewidth": 0,
              "ticks": ""
             }
            },
            "type": "scatterternary"
           }
          ],
          "surface": [
           {
            "colorbar": {
             "outlinewidth": 0,
             "ticks": ""
            },
            "colorscale": [
             [
              0,
              "#0d0887"
             ],
             [
              0.1111111111111111,
              "#46039f"
             ],
             [
              0.2222222222222222,
              "#7201a8"
             ],
             [
              0.3333333333333333,
              "#9c179e"
             ],
             [
              0.4444444444444444,
              "#bd3786"
             ],
             [
              0.5555555555555556,
              "#d8576b"
             ],
             [
              0.6666666666666666,
              "#ed7953"
             ],
             [
              0.7777777777777778,
              "#fb9f3a"
             ],
             [
              0.8888888888888888,
              "#fdca26"
             ],
             [
              1,
              "#f0f921"
             ]
            ],
            "type": "surface"
           }
          ],
          "table": [
           {
            "cells": {
             "fill": {
              "color": "#EBF0F8"
             },
             "line": {
              "color": "white"
             }
            },
            "header": {
             "fill": {
              "color": "#C8D4E3"
             },
             "line": {
              "color": "white"
             }
            },
            "type": "table"
           }
          ]
         },
         "layout": {
          "annotationdefaults": {
           "arrowcolor": "#2a3f5f",
           "arrowhead": 0,
           "arrowwidth": 1
          },
          "autotypenumbers": "strict",
          "coloraxis": {
           "colorbar": {
            "outlinewidth": 0,
            "ticks": ""
           }
          },
          "colorscale": {
           "diverging": [
            [
             0,
             "#8e0152"
            ],
            [
             0.1,
             "#c51b7d"
            ],
            [
             0.2,
             "#de77ae"
            ],
            [
             0.3,
             "#f1b6da"
            ],
            [
             0.4,
             "#fde0ef"
            ],
            [
             0.5,
             "#f7f7f7"
            ],
            [
             0.6,
             "#e6f5d0"
            ],
            [
             0.7,
             "#b8e186"
            ],
            [
             0.8,
             "#7fbc41"
            ],
            [
             0.9,
             "#4d9221"
            ],
            [
             1,
             "#276419"
            ]
           ],
           "sequential": [
            [
             0,
             "#0d0887"
            ],
            [
             0.1111111111111111,
             "#46039f"
            ],
            [
             0.2222222222222222,
             "#7201a8"
            ],
            [
             0.3333333333333333,
             "#9c179e"
            ],
            [
             0.4444444444444444,
             "#bd3786"
            ],
            [
             0.5555555555555556,
             "#d8576b"
            ],
            [
             0.6666666666666666,
             "#ed7953"
            ],
            [
             0.7777777777777778,
             "#fb9f3a"
            ],
            [
             0.8888888888888888,
             "#fdca26"
            ],
            [
             1,
             "#f0f921"
            ]
           ],
           "sequentialminus": [
            [
             0,
             "#0d0887"
            ],
            [
             0.1111111111111111,
             "#46039f"
            ],
            [
             0.2222222222222222,
             "#7201a8"
            ],
            [
             0.3333333333333333,
             "#9c179e"
            ],
            [
             0.4444444444444444,
             "#bd3786"
            ],
            [
             0.5555555555555556,
             "#d8576b"
            ],
            [
             0.6666666666666666,
             "#ed7953"
            ],
            [
             0.7777777777777778,
             "#fb9f3a"
            ],
            [
             0.8888888888888888,
             "#fdca26"
            ],
            [
             1,
             "#f0f921"
            ]
           ]
          },
          "colorway": [
           "#636efa",
           "#EF553B",
           "#00cc96",
           "#ab63fa",
           "#FFA15A",
           "#19d3f3",
           "#FF6692",
           "#B6E880",
           "#FF97FF",
           "#FECB52"
          ],
          "font": {
           "color": "#2a3f5f"
          },
          "geo": {
           "bgcolor": "white",
           "lakecolor": "white",
           "landcolor": "#E5ECF6",
           "showlakes": true,
           "showland": true,
           "subunitcolor": "white"
          },
          "hoverlabel": {
           "align": "left"
          },
          "hovermode": "closest",
          "mapbox": {
           "style": "light"
          },
          "paper_bgcolor": "white",
          "plot_bgcolor": "#E5ECF6",
          "polar": {
           "angularaxis": {
            "gridcolor": "white",
            "linecolor": "white",
            "ticks": ""
           },
           "bgcolor": "#E5ECF6",
           "radialaxis": {
            "gridcolor": "white",
            "linecolor": "white",
            "ticks": ""
           }
          },
          "scene": {
           "xaxis": {
            "backgroundcolor": "#E5ECF6",
            "gridcolor": "white",
            "gridwidth": 2,
            "linecolor": "white",
            "showbackground": true,
            "ticks": "",
            "zerolinecolor": "white"
           },
           "yaxis": {
            "backgroundcolor": "#E5ECF6",
            "gridcolor": "white",
            "gridwidth": 2,
            "linecolor": "white",
            "showbackground": true,
            "ticks": "",
            "zerolinecolor": "white"
           },
           "zaxis": {
            "backgroundcolor": "#E5ECF6",
            "gridcolor": "white",
            "gridwidth": 2,
            "linecolor": "white",
            "showbackground": true,
            "ticks": "",
            "zerolinecolor": "white"
           }
          },
          "shapedefaults": {
           "line": {
            "color": "#2a3f5f"
           }
          },
          "ternary": {
           "aaxis": {
            "gridcolor": "white",
            "linecolor": "white",
            "ticks": ""
           },
           "baxis": {
            "gridcolor": "white",
            "linecolor": "white",
            "ticks": ""
           },
           "bgcolor": "#E5ECF6",
           "caxis": {
            "gridcolor": "white",
            "linecolor": "white",
            "ticks": ""
           }
          },
          "title": {
           "x": 0.05
          },
          "xaxis": {
           "automargin": true,
           "gridcolor": "white",
           "linecolor": "white",
           "ticks": "",
           "title": {
            "standoff": 15
           },
           "zerolinecolor": "white",
           "zerolinewidth": 2
          },
          "yaxis": {
           "automargin": true,
           "gridcolor": "white",
           "linecolor": "white",
           "ticks": "",
           "title": {
            "standoff": 15
           },
           "zerolinecolor": "white",
           "zerolinewidth": 2
          }
         }
        },
        "title": {
         "text": "Landmarks, Parks & Sports",
         "x": 0.5
        },
        "xaxis": {
         "anchor": "y",
         "domain": [
          0,
          1
         ],
         "title": {
          "text": "Landmarks, Parks & Sports"
         }
        },
        "yaxis": {
         "anchor": "x",
         "domain": [
          0,
          1
         ],
         "title": {
          "text": "Bikes"
         }
        }
       }
      }
     },
     "metadata": {},
     "output_type": "display_data"
    },
    {
     "data": {
      "application/vnd.plotly.v1+json": {
       "config": {
        "plotlyServerURL": "https://plot.ly"
       },
       "data": [
        {
         "customdata": [
          [
           "10th & Cambie"
          ],
          [
           "10th & Columbia"
          ],
          [
           "10th & Commercial"
          ],
          [
           "10th & Fraser"
          ],
          [
           "10th & Granville"
          ],
          [
           "10th & Kingsway"
          ],
          [
           "10th & Main"
          ],
          [
           "10th & Oak"
          ],
          [
           "10th & Ontario"
          ],
          [
           "11th & Kingsway"
          ],
          [
           "12th & Yukon (City Hall)"
          ],
          [
           "13th & Cambie"
          ],
          [
           "13th & St George"
          ],
          [
           "14th & Alder"
          ],
          [
           "14th & Cambie"
          ],
          [
           "14th & Fraser"
          ],
          [
           "14th & Granville"
          ],
          [
           "14th & Main"
          ],
          [
           "14th & Oak"
          ],
          [
           "14th & Ontario"
          ],
          [
           "15th & Knight"
          ],
          [
           "15th & Victoria (Trout Lake)"
          ],
          [
           "18th & Cambie"
          ],
          [
           "18th & Heather"
          ],
          [
           "18th & Main"
          ],
          [
           "1st & Chestnut"
          ],
          [
           "1st & Manitoba"
          ],
          [
           "1st & Scotia"
          ],
          [
           "20th & Main"
          ],
          [
           "22nd & Cambie"
          ],
          [
           "28th & Willow"
          ],
          [
           "29th & Cambie"
          ],
          [
           "2nd & Commercial"
          ],
          [
           "30th & Ontario"
          ],
          [
           "3rd & Quebec"
          ],
          [
           "4th & Commercial"
          ],
          [
           "5th & Arbutus"
          ],
          [
           "5th & Main"
          ],
          [
           "6th & Carolina"
          ],
          [
           "6th & Prince Edward"
          ],
          [
           "7th &  Alder"
          ],
          [
           "7th & Arbutus"
          ],
          [
           "7th & Granville"
          ],
          [
           "7th & Heather"
          ],
          [
           "7th & Laurel"
          ],
          [
           "7th & Woodland"
          ],
          [
           "8th & Ash"
          ],
          [
           "8th & Commercial"
          ],
          [
           "8th & Fraser"
          ],
          [
           "8th & Macdonald"
          ],
          [
           "8th & Ontario"
          ],
          [
           "8th & Prince Edward"
          ],
          [
           "8th & Scotia"
          ],
          [
           "8th & Yukon"
          ],
          [
           "Abbott & Cordova"
          ],
          [
           "Adanac & McLean"
          ],
          [
           "Alberni & Jervis"
          ],
          [
           "Alder & 11th"
          ],
          [
           "Alexander & Dunlevy"
          ],
          [
           "Alexander & Main"
          ],
          [
           "Alexander & Railway"
          ],
          [
           "Alma & Point Grey"
          ],
          [
           "Anderson & 2nd"
          ],
          [
           "Aquatic Centre"
          ],
          [
           "Arbutus & 10th"
          ],
          [
           "Arbutus & 16th"
          ],
          [
           "Arbutus & McNicoll"
          ],
          [
           "Arbutus & Nanton"
          ],
          [
           "Arbutus Greenway & 14th"
          ],
          [
           "Arbutus Greenway & Fir"
          ],
          [
           "Balaclava & 6th"
          ],
          [
           "Balaclava & Broadway"
          ],
          [
           "Balsam & Cornwall"
          ],
          [
           "Beach & Broughton"
          ],
          [
           "Beach & Cardero"
          ],
          [
           "Beach & Hornby"
          ],
          [
           "Beach & Seymour"
          ],
          [
           "Beatty & Nelson"
          ],
          [
           "Beatty & Robson"
          ],
          [
           "Bidwell & Burnaby"
          ],
          [
           "Blenheim & 4th"
          ],
          [
           "Britannia Parking Lot"
          ],
          [
           "Broughton & Davie"
          ],
          [
           "Burrard & 14th"
          ],
          [
           "Burrard & 4th"
          ],
          [
           "Burrard & 7th"
          ],
          [
           "Burrard & Drake"
          ],
          [
           "Burrard Station (Melville & Dunsmuir)"
          ],
          [
           "Bute & Barclay"
          ],
          [
           "Bute & Comox"
          ],
          [
           "Bute & Davie"
          ],
          [
           "Bute & Robson"
          ],
          [
           "Cambie & Water"
          ],
          [
           "Campbell & Hastings"
          ],
          [
           "Canada Place"
          ],
          [
           "Cardero & Davie"
          ],
          [
           "Cardero & Robson"
          ],
          [
           "Carolina & Great Northern Way"
          ],
          [
           "Carrall & Hastings"
          ],
          [
           "Carrall & Seawall"
          ],
          [
           "Charles & Commercial"
          ],
          [
           "Charles & Woodland"
          ],
          [
           "Chestnut & McNicoll"
          ],
          [
           "Chilco & Barclay"
          ],
          [
           "Chilco & Beach"
          ],
          [
           "Chilco & Robson"
          ],
          [
           "Columbia & 14th"
          ],
          [
           "Columbia & 1st"
          ],
          [
           "Columbia & 5th"
          ],
          [
           "Commercial & 20th"
          ],
          [
           "Commercial & Adanac"
          ],
          [
           "Commercial & Pandora"
          ],
          [
           "Comox & Broughton"
          ],
          [
           "Comox & Denman"
          ],
          [
           "Cordova & Bute"
          ],
          [
           "Cordova & Granville"
          ],
          [
           "Creekside Park North"
          ],
          [
           "Cypress & 10th"
          ],
          [
           "Cypress & 14th"
          ],
          [
           "Cypress & 16th"
          ],
          [
           "Cypress & 4th"
          ],
          [
           "Cypress & Cornwall"
          ],
          [
           "David Lam Park - West"
          ],
          [
           "Davie & Beach"
          ],
          [
           "Dunbar & 6th"
          ],
          [
           "Dunbar & Broadway"
          ],
          [
           "Dunsmuir & Beatty"
          ],
          [
           "Dunsmuir & Richards"
          ],
          [
           "East Blvd & 37th"
          ],
          [
           "Expo & Carrall"
          ],
          [
           "Expo & Smithe"
          ],
          [
           "Franklin & Nanaimo"
          ],
          [
           "Georgia & Homer"
          ],
          [
           "Georgia & Main"
          ],
          [
           "Georgia & Thurlow"
          ],
          [
           "Glen & 6th"
          ],
          [
           "Glen & Broadway"
          ],
          [
           "Glen & Union"
          ],
          [
           "Grandview & Commercial"
          ],
          [
           "Grant & Commercial"
          ],
          [
           "Granville & Georgia"
          ],
          [
           "Granville Island"
          ],
          [
           "Haro & Denman"
          ],
          [
           "Harwood & Bute"
          ],
          [
           "Hastings & Broughton"
          ],
          [
           "Hawks & Union"
          ],
          [
           "Heather & 14th"
          ],
          [
           "Heather & 16th"
          ],
          [
           "Heather & 29th"
          ],
          [
           "Helmcken & Burrard"
          ],
          [
           "Homer & Robson (Vancouver Public Library)"
          ],
          [
           "Hornby & Drake"
          ],
          [
           "Hornby & Nelson"
          ],
          [
           "Hornby & Pender"
          ],
          [
           "Jericho Beach"
          ],
          [
           "Jervis & Robson"
          ],
          [
           "Keefer & Abbott"
          ],
          [
           "Keefer & Columbia"
          ],
          [
           "Keefer & Hawks"
          ],
          [
           "Keefer & Princess"
          ],
          [
           "Keith & 6th"
          ],
          [
           "King Edward & Cambie"
          ],
          [
           "Kitsilano Beach Park"
          ],
          [
           "Lakewood & Oxford"
          ],
          [
           "Lakewood & Triumph"
          ],
          [
           "Marinaside & Cooperage"
          ],
          [
           "Marinaside & Davie"
          ],
          [
           "McLean & Pender"
          ],
          [
           "Melville & Bute"
          ],
          [
           "Morton & Denman"
          ],
          [
           "Napier & Commercial"
          ],
          [
           "Nelson & Denman"
          ],
          [
           "Nelson & Mainland"
          ],
          [
           "Nelson & Richards"
          ],
          [
           "Nicola & Robson"
          ],
          [
           "Olympic Village Station"
          ],
          [
           "Ontario & 16th"
          ],
          [
           "Ontario & 23rd"
          ],
          [
           "Ontario & 5th"
          ],
          [
           "Ontario & Seawall"
          ],
          [
           "Pacific & Richards"
          ],
          [
           "Pender & Burrard"
          ],
          [
           "Pender & Commercial"
          ],
          [
           "Pender & Gore"
          ],
          [
           "Pender & Victoria"
          ],
          [
           "Pine & 10th"
          ],
          [
           "Pine & 14th"
          ],
          [
           "Point Grey & Bayswater"
          ],
          [
           "Point Grey & Blenheim"
          ],
          [
           "Prince Edward & 14th"
          ],
          [
           "Prince Edward & 16th"
          ],
          [
           "Princess & Union"
          ],
          [
           "Quebec & 1st"
          ],
          [
           "Richards & Cordova"
          ],
          [
           "Richards & Davie"
          ],
          [
           "Richards & Helmcken"
          ],
          [
           "Richards & Robson"
          ],
          [
           "Richards & Smithe"
          ],
          [
           "Robson & Granville"
          ],
          [
           "Robson & Hornby"
          ],
          [
           "Rolston & Granville"
          ],
          [
           "Science World"
          ],
          [
           "Seymour & Cordova"
          ],
          [
           "Shaw Tower"
          ],
          [
           "Smithe & Burrard"
          ],
          [
           "South False Creek Seawall"
          ],
          [
           "Spyglass & Seawall"
          ],
          [
           "St Catherines & 10th"
          ],
          [
           "St Catherines & 7th"
          ],
          [
           "St George & Broadway"
          ],
          [
           "Stamps Landing"
          ],
          [
           "Stanley Park - Information Booth"
          ],
          [
           "Stanley Park - Prospect Point"
          ],
          [
           "Stanley Park - Second Beach North"
          ],
          [
           "Stanley Park - Second Beach South"
          ],
          [
           "Stanley Park - Third Beach Parking Lot"
          ],
          [
           "Stanley Park - Totem Poles"
          ],
          [
           "Stanley Park - Vancouver Aquarium"
          ],
          [
           "Station & Terminal"
          ],
          [
           "Thornton & National"
          ],
          [
           "Thurlow & Pendrell"
          ],
          [
           "Trafalgar & Broadway"
          ],
          [
           "Trafalgar & Cornwall"
          ],
          [
           "Triumph & Victoria"
          ],
          [
           "Union & Dunlevy"
          ],
          [
           "Vanier Park"
          ],
          [
           "Victoria & 10th"
          ],
          [
           "Victoria & 4th"
          ],
          [
           "Vine & 4th"
          ],
          [
           "Wall & Eton"
          ],
          [
           "Wallace & 4th"
          ],
          [
           "Windsor & 14th"
          ],
          [
           "Woodland & 10th"
          ],
          [
           "Woodland & 4th"
          ],
          [
           "Woodland & Graveley"
          ],
          [
           "Wylie & 2nd"
          ],
          [
           "Yaletown-Roundhouse Station"
          ],
          [
           "Yew & Broadway"
          ],
          [
           "York & Yew"
          ],
          [
           "Yukon & 6th"
          ],
          [
           "šxʷƛ̓ənəq Xwtl'e7énḵ Square - Vancouver Art Gallery"
          ]
         ],
         "hovertemplate": "Municipal=%{x}<br>Bikes=%{y}<br>Station_name=%{customdata[0]}<extra></extra>",
         "legendgroup": "",
         "marker": {
          "color": "#636efa",
          "symbol": "circle"
         },
         "mode": "markers",
         "name": "",
         "orientation": "v",
         "showlegend": false,
         "type": "scatter",
         "x": [
          4,
          0,
          2,
          0,
          2,
          3,
          3,
          14,
          1,
          3,
          2,
          2,
          4,
          0,
          2,
          0,
          0,
          1,
          7,
          2,
          0,
          0,
          0,
          0,
          1,
          1,
          1,
          2,
          0,
          0,
          12,
          0,
          1,
          2,
          0,
          1,
          0,
          2,
          0,
          3,
          1,
          0,
          3,
          7,
          6,
          1,
          9,
          2,
          0,
          1,
          1,
          2,
          4,
          0,
          2,
          0,
          2,
          1,
          0,
          0,
          0,
          0,
          0,
          0,
          1,
          0,
          0,
          1,
          0,
          2,
          0,
          0,
          0,
          0,
          0,
          1,
          0,
          0,
          2,
          1,
          0,
          1,
          1,
          1,
          0,
          1,
          9,
          2,
          1,
          5,
          6,
          2,
          0,
          1,
          1,
          1,
          2,
          0,
          5,
          0,
          1,
          1,
          0,
          0,
          0,
          0,
          0,
          0,
          0,
          2,
          1,
          0,
          1,
          3,
          1,
          1,
          1,
          2,
          0,
          0,
          1,
          1,
          0,
          1,
          1,
          0,
          0,
          4,
          0,
          0,
          1,
          0,
          3,
          4,
          3,
          0,
          0,
          0,
          2,
          0,
          5,
          1,
          3,
          1,
          0,
          0,
          10,
          0,
          3,
          21,
          3,
          7,
          17,
          2,
          0,
          2,
          2,
          4,
          2,
          4,
          2,
          0,
          0,
          0,
          0,
          0,
          2,
          2,
          4,
          1,
          1,
          4,
          1,
          2,
          1,
          2,
          2,
          2,
          0,
          2,
          0,
          0,
          0,
          2,
          0,
          2,
          0,
          0,
          0,
          5,
          5,
          3,
          1,
          0,
          3,
          1,
          2,
          3,
          4,
          6,
          0,
          2,
          3,
          0,
          2,
          0,
          0,
          0,
          0,
          1,
          1,
          0,
          0,
          0,
          0,
          0,
          0,
          0,
          2,
          0,
          18,
          1,
          0,
          0,
          1,
          0,
          0,
          0,
          0,
          0,
          0,
          0,
          1,
          1,
          0,
          1,
          2,
          1,
          0,
          1,
          1
         ],
         "xaxis": "x",
         "y": [
          35,
          14,
          26,
          14,
          14,
          20,
          18,
          30,
          20,
          16,
          16,
          14,
          16,
          14,
          14,
          16,
          14,
          14,
          14,
          16,
          14,
          18,
          24,
          16,
          16,
          26,
          32,
          20,
          16,
          14,
          20,
          20,
          22,
          22,
          20,
          14,
          16,
          20,
          16,
          16,
          16,
          16,
          14,
          18,
          14,
          12,
          16,
          38,
          16,
          22,
          16,
          18,
          12,
          22,
          22,
          22,
          20,
          14,
          14,
          20,
          20,
          24,
          28,
          35,
          18,
          40,
          30,
          18,
          20,
          16,
          16,
          18,
          20,
          22,
          22,
          18,
          18,
          14,
          20,
          26,
          23,
          14,
          22,
          18,
          16,
          16,
          24,
          28,
          14,
          22,
          20,
          26,
          32,
          14,
          26,
          18,
          26,
          16,
          18,
          18,
          22,
          14,
          16,
          18,
          14,
          16,
          14,
          24,
          18,
          20,
          16,
          16,
          12,
          18,
          14,
          22,
          18,
          14,
          12,
          12,
          18,
          22,
          18,
          30,
          16,
          26,
          26,
          22,
          20,
          16,
          14,
          20,
          18,
          20,
          12,
          20,
          18,
          14,
          16,
          14,
          20,
          20,
          20,
          20,
          24,
          16,
          18,
          12,
          22,
          15,
          20,
          24,
          18,
          22,
          34,
          20,
          28,
          14,
          16,
          14,
          28,
          18,
          39,
          18,
          16,
          26,
          22,
          16,
          14,
          26,
          14,
          18,
          20,
          18,
          18,
          26,
          14,
          12,
          20,
          20,
          14,
          26,
          16,
          14,
          16,
          20,
          12,
          16,
          14,
          14,
          14,
          12,
          20,
          24,
          14,
          18,
          22,
          18,
          30,
          30,
          16,
          16,
          19,
          18,
          20,
          14,
          14,
          12,
          20,
          14,
          14,
          20,
          22,
          16,
          18,
          38,
          20,
          16,
          18,
          14,
          16,
          16,
          20,
          16,
          16,
          28,
          12,
          16,
          18,
          18,
          18,
          14,
          14,
          14,
          12,
          18,
          16,
          18,
          20,
          18,
          28
         ],
         "yaxis": "y"
        }
       ],
       "layout": {
        "legend": {
         "tracegroupgap": 0
        },
        "margin": {
         "t": 60
        },
        "template": {
         "data": {
          "bar": [
           {
            "error_x": {
             "color": "#2a3f5f"
            },
            "error_y": {
             "color": "#2a3f5f"
            },
            "marker": {
             "line": {
              "color": "#E5ECF6",
              "width": 0.5
             },
             "pattern": {
              "fillmode": "overlay",
              "size": 10,
              "solidity": 0.2
             }
            },
            "type": "bar"
           }
          ],
          "barpolar": [
           {
            "marker": {
             "line": {
              "color": "#E5ECF6",
              "width": 0.5
             },
             "pattern": {
              "fillmode": "overlay",
              "size": 10,
              "solidity": 0.2
             }
            },
            "type": "barpolar"
           }
          ],
          "carpet": [
           {
            "aaxis": {
             "endlinecolor": "#2a3f5f",
             "gridcolor": "white",
             "linecolor": "white",
             "minorgridcolor": "white",
             "startlinecolor": "#2a3f5f"
            },
            "baxis": {
             "endlinecolor": "#2a3f5f",
             "gridcolor": "white",
             "linecolor": "white",
             "minorgridcolor": "white",
             "startlinecolor": "#2a3f5f"
            },
            "type": "carpet"
           }
          ],
          "choropleth": [
           {
            "colorbar": {
             "outlinewidth": 0,
             "ticks": ""
            },
            "type": "choropleth"
           }
          ],
          "contour": [
           {
            "colorbar": {
             "outlinewidth": 0,
             "ticks": ""
            },
            "colorscale": [
             [
              0,
              "#0d0887"
             ],
             [
              0.1111111111111111,
              "#46039f"
             ],
             [
              0.2222222222222222,
              "#7201a8"
             ],
             [
              0.3333333333333333,
              "#9c179e"
             ],
             [
              0.4444444444444444,
              "#bd3786"
             ],
             [
              0.5555555555555556,
              "#d8576b"
             ],
             [
              0.6666666666666666,
              "#ed7953"
             ],
             [
              0.7777777777777778,
              "#fb9f3a"
             ],
             [
              0.8888888888888888,
              "#fdca26"
             ],
             [
              1,
              "#f0f921"
             ]
            ],
            "type": "contour"
           }
          ],
          "contourcarpet": [
           {
            "colorbar": {
             "outlinewidth": 0,
             "ticks": ""
            },
            "type": "contourcarpet"
           }
          ],
          "heatmap": [
           {
            "colorbar": {
             "outlinewidth": 0,
             "ticks": ""
            },
            "colorscale": [
             [
              0,
              "#0d0887"
             ],
             [
              0.1111111111111111,
              "#46039f"
             ],
             [
              0.2222222222222222,
              "#7201a8"
             ],
             [
              0.3333333333333333,
              "#9c179e"
             ],
             [
              0.4444444444444444,
              "#bd3786"
             ],
             [
              0.5555555555555556,
              "#d8576b"
             ],
             [
              0.6666666666666666,
              "#ed7953"
             ],
             [
              0.7777777777777778,
              "#fb9f3a"
             ],
             [
              0.8888888888888888,
              "#fdca26"
             ],
             [
              1,
              "#f0f921"
             ]
            ],
            "type": "heatmap"
           }
          ],
          "heatmapgl": [
           {
            "colorbar": {
             "outlinewidth": 0,
             "ticks": ""
            },
            "colorscale": [
             [
              0,
              "#0d0887"
             ],
             [
              0.1111111111111111,
              "#46039f"
             ],
             [
              0.2222222222222222,
              "#7201a8"
             ],
             [
              0.3333333333333333,
              "#9c179e"
             ],
             [
              0.4444444444444444,
              "#bd3786"
             ],
             [
              0.5555555555555556,
              "#d8576b"
             ],
             [
              0.6666666666666666,
              "#ed7953"
             ],
             [
              0.7777777777777778,
              "#fb9f3a"
             ],
             [
              0.8888888888888888,
              "#fdca26"
             ],
             [
              1,
              "#f0f921"
             ]
            ],
            "type": "heatmapgl"
           }
          ],
          "histogram": [
           {
            "marker": {
             "pattern": {
              "fillmode": "overlay",
              "size": 10,
              "solidity": 0.2
             }
            },
            "type": "histogram"
           }
          ],
          "histogram2d": [
           {
            "colorbar": {
             "outlinewidth": 0,
             "ticks": ""
            },
            "colorscale": [
             [
              0,
              "#0d0887"
             ],
             [
              0.1111111111111111,
              "#46039f"
             ],
             [
              0.2222222222222222,
              "#7201a8"
             ],
             [
              0.3333333333333333,
              "#9c179e"
             ],
             [
              0.4444444444444444,
              "#bd3786"
             ],
             [
              0.5555555555555556,
              "#d8576b"
             ],
             [
              0.6666666666666666,
              "#ed7953"
             ],
             [
              0.7777777777777778,
              "#fb9f3a"
             ],
             [
              0.8888888888888888,
              "#fdca26"
             ],
             [
              1,
              "#f0f921"
             ]
            ],
            "type": "histogram2d"
           }
          ],
          "histogram2dcontour": [
           {
            "colorbar": {
             "outlinewidth": 0,
             "ticks": ""
            },
            "colorscale": [
             [
              0,
              "#0d0887"
             ],
             [
              0.1111111111111111,
              "#46039f"
             ],
             [
              0.2222222222222222,
              "#7201a8"
             ],
             [
              0.3333333333333333,
              "#9c179e"
             ],
             [
              0.4444444444444444,
              "#bd3786"
             ],
             [
              0.5555555555555556,
              "#d8576b"
             ],
             [
              0.6666666666666666,
              "#ed7953"
             ],
             [
              0.7777777777777778,
              "#fb9f3a"
             ],
             [
              0.8888888888888888,
              "#fdca26"
             ],
             [
              1,
              "#f0f921"
             ]
            ],
            "type": "histogram2dcontour"
           }
          ],
          "mesh3d": [
           {
            "colorbar": {
             "outlinewidth": 0,
             "ticks": ""
            },
            "type": "mesh3d"
           }
          ],
          "parcoords": [
           {
            "line": {
             "colorbar": {
              "outlinewidth": 0,
              "ticks": ""
             }
            },
            "type": "parcoords"
           }
          ],
          "pie": [
           {
            "automargin": true,
            "type": "pie"
           }
          ],
          "scatter": [
           {
            "fillpattern": {
             "fillmode": "overlay",
             "size": 10,
             "solidity": 0.2
            },
            "type": "scatter"
           }
          ],
          "scatter3d": [
           {
            "line": {
             "colorbar": {
              "outlinewidth": 0,
              "ticks": ""
             }
            },
            "marker": {
             "colorbar": {
              "outlinewidth": 0,
              "ticks": ""
             }
            },
            "type": "scatter3d"
           }
          ],
          "scattercarpet": [
           {
            "marker": {
             "colorbar": {
              "outlinewidth": 0,
              "ticks": ""
             }
            },
            "type": "scattercarpet"
           }
          ],
          "scattergeo": [
           {
            "marker": {
             "colorbar": {
              "outlinewidth": 0,
              "ticks": ""
             }
            },
            "type": "scattergeo"
           }
          ],
          "scattergl": [
           {
            "marker": {
             "colorbar": {
              "outlinewidth": 0,
              "ticks": ""
             }
            },
            "type": "scattergl"
           }
          ],
          "scattermapbox": [
           {
            "marker": {
             "colorbar": {
              "outlinewidth": 0,
              "ticks": ""
             }
            },
            "type": "scattermapbox"
           }
          ],
          "scatterpolar": [
           {
            "marker": {
             "colorbar": {
              "outlinewidth": 0,
              "ticks": ""
             }
            },
            "type": "scatterpolar"
           }
          ],
          "scatterpolargl": [
           {
            "marker": {
             "colorbar": {
              "outlinewidth": 0,
              "ticks": ""
             }
            },
            "type": "scatterpolargl"
           }
          ],
          "scatterternary": [
           {
            "marker": {
             "colorbar": {
              "outlinewidth": 0,
              "ticks": ""
             }
            },
            "type": "scatterternary"
           }
          ],
          "surface": [
           {
            "colorbar": {
             "outlinewidth": 0,
             "ticks": ""
            },
            "colorscale": [
             [
              0,
              "#0d0887"
             ],
             [
              0.1111111111111111,
              "#46039f"
             ],
             [
              0.2222222222222222,
              "#7201a8"
             ],
             [
              0.3333333333333333,
              "#9c179e"
             ],
             [
              0.4444444444444444,
              "#bd3786"
             ],
             [
              0.5555555555555556,
              "#d8576b"
             ],
             [
              0.6666666666666666,
              "#ed7953"
             ],
             [
              0.7777777777777778,
              "#fb9f3a"
             ],
             [
              0.8888888888888888,
              "#fdca26"
             ],
             [
              1,
              "#f0f921"
             ]
            ],
            "type": "surface"
           }
          ],
          "table": [
           {
            "cells": {
             "fill": {
              "color": "#EBF0F8"
             },
             "line": {
              "color": "white"
             }
            },
            "header": {
             "fill": {
              "color": "#C8D4E3"
             },
             "line": {
              "color": "white"
             }
            },
            "type": "table"
           }
          ]
         },
         "layout": {
          "annotationdefaults": {
           "arrowcolor": "#2a3f5f",
           "arrowhead": 0,
           "arrowwidth": 1
          },
          "autotypenumbers": "strict",
          "coloraxis": {
           "colorbar": {
            "outlinewidth": 0,
            "ticks": ""
           }
          },
          "colorscale": {
           "diverging": [
            [
             0,
             "#8e0152"
            ],
            [
             0.1,
             "#c51b7d"
            ],
            [
             0.2,
             "#de77ae"
            ],
            [
             0.3,
             "#f1b6da"
            ],
            [
             0.4,
             "#fde0ef"
            ],
            [
             0.5,
             "#f7f7f7"
            ],
            [
             0.6,
             "#e6f5d0"
            ],
            [
             0.7,
             "#b8e186"
            ],
            [
             0.8,
             "#7fbc41"
            ],
            [
             0.9,
             "#4d9221"
            ],
            [
             1,
             "#276419"
            ]
           ],
           "sequential": [
            [
             0,
             "#0d0887"
            ],
            [
             0.1111111111111111,
             "#46039f"
            ],
            [
             0.2222222222222222,
             "#7201a8"
            ],
            [
             0.3333333333333333,
             "#9c179e"
            ],
            [
             0.4444444444444444,
             "#bd3786"
            ],
            [
             0.5555555555555556,
             "#d8576b"
            ],
            [
             0.6666666666666666,
             "#ed7953"
            ],
            [
             0.7777777777777778,
             "#fb9f3a"
            ],
            [
             0.8888888888888888,
             "#fdca26"
            ],
            [
             1,
             "#f0f921"
            ]
           ],
           "sequentialminus": [
            [
             0,
             "#0d0887"
            ],
            [
             0.1111111111111111,
             "#46039f"
            ],
            [
             0.2222222222222222,
             "#7201a8"
            ],
            [
             0.3333333333333333,
             "#9c179e"
            ],
            [
             0.4444444444444444,
             "#bd3786"
            ],
            [
             0.5555555555555556,
             "#d8576b"
            ],
            [
             0.6666666666666666,
             "#ed7953"
            ],
            [
             0.7777777777777778,
             "#fb9f3a"
            ],
            [
             0.8888888888888888,
             "#fdca26"
            ],
            [
             1,
             "#f0f921"
            ]
           ]
          },
          "colorway": [
           "#636efa",
           "#EF553B",
           "#00cc96",
           "#ab63fa",
           "#FFA15A",
           "#19d3f3",
           "#FF6692",
           "#B6E880",
           "#FF97FF",
           "#FECB52"
          ],
          "font": {
           "color": "#2a3f5f"
          },
          "geo": {
           "bgcolor": "white",
           "lakecolor": "white",
           "landcolor": "#E5ECF6",
           "showlakes": true,
           "showland": true,
           "subunitcolor": "white"
          },
          "hoverlabel": {
           "align": "left"
          },
          "hovermode": "closest",
          "mapbox": {
           "style": "light"
          },
          "paper_bgcolor": "white",
          "plot_bgcolor": "#E5ECF6",
          "polar": {
           "angularaxis": {
            "gridcolor": "white",
            "linecolor": "white",
            "ticks": ""
           },
           "bgcolor": "#E5ECF6",
           "radialaxis": {
            "gridcolor": "white",
            "linecolor": "white",
            "ticks": ""
           }
          },
          "scene": {
           "xaxis": {
            "backgroundcolor": "#E5ECF6",
            "gridcolor": "white",
            "gridwidth": 2,
            "linecolor": "white",
            "showbackground": true,
            "ticks": "",
            "zerolinecolor": "white"
           },
           "yaxis": {
            "backgroundcolor": "#E5ECF6",
            "gridcolor": "white",
            "gridwidth": 2,
            "linecolor": "white",
            "showbackground": true,
            "ticks": "",
            "zerolinecolor": "white"
           },
           "zaxis": {
            "backgroundcolor": "#E5ECF6",
            "gridcolor": "white",
            "gridwidth": 2,
            "linecolor": "white",
            "showbackground": true,
            "ticks": "",
            "zerolinecolor": "white"
           }
          },
          "shapedefaults": {
           "line": {
            "color": "#2a3f5f"
           }
          },
          "ternary": {
           "aaxis": {
            "gridcolor": "white",
            "linecolor": "white",
            "ticks": ""
           },
           "baxis": {
            "gridcolor": "white",
            "linecolor": "white",
            "ticks": ""
           },
           "bgcolor": "#E5ECF6",
           "caxis": {
            "gridcolor": "white",
            "linecolor": "white",
            "ticks": ""
           }
          },
          "title": {
           "x": 0.05
          },
          "xaxis": {
           "automargin": true,
           "gridcolor": "white",
           "linecolor": "white",
           "ticks": "",
           "title": {
            "standoff": 15
           },
           "zerolinecolor": "white",
           "zerolinewidth": 2
          },
          "yaxis": {
           "automargin": true,
           "gridcolor": "white",
           "linecolor": "white",
           "ticks": "",
           "title": {
            "standoff": 15
           },
           "zerolinecolor": "white",
           "zerolinewidth": 2
          }
         }
        },
        "title": {
         "text": "Municipal",
         "x": 0.5
        },
        "xaxis": {
         "anchor": "y",
         "domain": [
          0,
          1
         ],
         "title": {
          "text": "Municipal"
         }
        },
        "yaxis": {
         "anchor": "x",
         "domain": [
          0,
          1
         ],
         "title": {
          "text": "Bikes"
         }
        }
       }
      }
     },
     "metadata": {},
     "output_type": "display_data"
    },
    {
     "data": {
      "application/vnd.plotly.v1+json": {
       "config": {
        "plotlyServerURL": "https://plot.ly"
       },
       "data": [
        {
         "customdata": [
          [
           "10th & Cambie"
          ],
          [
           "10th & Columbia"
          ],
          [
           "10th & Commercial"
          ],
          [
           "10th & Fraser"
          ],
          [
           "10th & Granville"
          ],
          [
           "10th & Kingsway"
          ],
          [
           "10th & Main"
          ],
          [
           "10th & Oak"
          ],
          [
           "10th & Ontario"
          ],
          [
           "11th & Kingsway"
          ],
          [
           "12th & Yukon (City Hall)"
          ],
          [
           "13th & Cambie"
          ],
          [
           "13th & St George"
          ],
          [
           "14th & Alder"
          ],
          [
           "14th & Cambie"
          ],
          [
           "14th & Fraser"
          ],
          [
           "14th & Granville"
          ],
          [
           "14th & Main"
          ],
          [
           "14th & Oak"
          ],
          [
           "14th & Ontario"
          ],
          [
           "15th & Knight"
          ],
          [
           "15th & Victoria (Trout Lake)"
          ],
          [
           "18th & Cambie"
          ],
          [
           "18th & Heather"
          ],
          [
           "18th & Main"
          ],
          [
           "1st & Chestnut"
          ],
          [
           "1st & Manitoba"
          ],
          [
           "1st & Scotia"
          ],
          [
           "20th & Main"
          ],
          [
           "22nd & Cambie"
          ],
          [
           "28th & Willow"
          ],
          [
           "29th & Cambie"
          ],
          [
           "2nd & Commercial"
          ],
          [
           "30th & Ontario"
          ],
          [
           "3rd & Quebec"
          ],
          [
           "4th & Commercial"
          ],
          [
           "5th & Arbutus"
          ],
          [
           "5th & Main"
          ],
          [
           "6th & Carolina"
          ],
          [
           "6th & Prince Edward"
          ],
          [
           "7th &  Alder"
          ],
          [
           "7th & Arbutus"
          ],
          [
           "7th & Granville"
          ],
          [
           "7th & Heather"
          ],
          [
           "7th & Laurel"
          ],
          [
           "7th & Woodland"
          ],
          [
           "8th & Ash"
          ],
          [
           "8th & Commercial"
          ],
          [
           "8th & Fraser"
          ],
          [
           "8th & Macdonald"
          ],
          [
           "8th & Ontario"
          ],
          [
           "8th & Prince Edward"
          ],
          [
           "8th & Scotia"
          ],
          [
           "8th & Yukon"
          ],
          [
           "Abbott & Cordova"
          ],
          [
           "Adanac & McLean"
          ],
          [
           "Alberni & Jervis"
          ],
          [
           "Alder & 11th"
          ],
          [
           "Alexander & Dunlevy"
          ],
          [
           "Alexander & Main"
          ],
          [
           "Alexander & Railway"
          ],
          [
           "Alma & Point Grey"
          ],
          [
           "Anderson & 2nd"
          ],
          [
           "Aquatic Centre"
          ],
          [
           "Arbutus & 10th"
          ],
          [
           "Arbutus & 16th"
          ],
          [
           "Arbutus & McNicoll"
          ],
          [
           "Arbutus & Nanton"
          ],
          [
           "Arbutus Greenway & 14th"
          ],
          [
           "Arbutus Greenway & Fir"
          ],
          [
           "Balaclava & 6th"
          ],
          [
           "Balaclava & Broadway"
          ],
          [
           "Balsam & Cornwall"
          ],
          [
           "Beach & Broughton"
          ],
          [
           "Beach & Cardero"
          ],
          [
           "Beach & Hornby"
          ],
          [
           "Beach & Seymour"
          ],
          [
           "Beatty & Nelson"
          ],
          [
           "Beatty & Robson"
          ],
          [
           "Bidwell & Burnaby"
          ],
          [
           "Blenheim & 4th"
          ],
          [
           "Britannia Parking Lot"
          ],
          [
           "Broughton & Davie"
          ],
          [
           "Burrard & 14th"
          ],
          [
           "Burrard & 4th"
          ],
          [
           "Burrard & 7th"
          ],
          [
           "Burrard & Drake"
          ],
          [
           "Burrard Station (Melville & Dunsmuir)"
          ],
          [
           "Bute & Barclay"
          ],
          [
           "Bute & Comox"
          ],
          [
           "Bute & Davie"
          ],
          [
           "Bute & Robson"
          ],
          [
           "Cambie & Water"
          ],
          [
           "Campbell & Hastings"
          ],
          [
           "Canada Place"
          ],
          [
           "Cardero & Davie"
          ],
          [
           "Cardero & Robson"
          ],
          [
           "Carolina & Great Northern Way"
          ],
          [
           "Carrall & Hastings"
          ],
          [
           "Carrall & Seawall"
          ],
          [
           "Charles & Commercial"
          ],
          [
           "Charles & Woodland"
          ],
          [
           "Chestnut & McNicoll"
          ],
          [
           "Chilco & Barclay"
          ],
          [
           "Chilco & Beach"
          ],
          [
           "Chilco & Robson"
          ],
          [
           "Columbia & 14th"
          ],
          [
           "Columbia & 1st"
          ],
          [
           "Columbia & 5th"
          ],
          [
           "Commercial & 20th"
          ],
          [
           "Commercial & Adanac"
          ],
          [
           "Commercial & Pandora"
          ],
          [
           "Comox & Broughton"
          ],
          [
           "Comox & Denman"
          ],
          [
           "Cordova & Bute"
          ],
          [
           "Cordova & Granville"
          ],
          [
           "Creekside Park North"
          ],
          [
           "Cypress & 10th"
          ],
          [
           "Cypress & 14th"
          ],
          [
           "Cypress & 16th"
          ],
          [
           "Cypress & 4th"
          ],
          [
           "Cypress & Cornwall"
          ],
          [
           "David Lam Park - West"
          ],
          [
           "Davie & Beach"
          ],
          [
           "Dunbar & 6th"
          ],
          [
           "Dunbar & Broadway"
          ],
          [
           "Dunsmuir & Beatty"
          ],
          [
           "Dunsmuir & Richards"
          ],
          [
           "East Blvd & 37th"
          ],
          [
           "Expo & Carrall"
          ],
          [
           "Expo & Smithe"
          ],
          [
           "Franklin & Nanaimo"
          ],
          [
           "Georgia & Homer"
          ],
          [
           "Georgia & Main"
          ],
          [
           "Georgia & Thurlow"
          ],
          [
           "Glen & 6th"
          ],
          [
           "Glen & Broadway"
          ],
          [
           "Glen & Union"
          ],
          [
           "Grandview & Commercial"
          ],
          [
           "Grant & Commercial"
          ],
          [
           "Granville & Georgia"
          ],
          [
           "Granville Island"
          ],
          [
           "Haro & Denman"
          ],
          [
           "Harwood & Bute"
          ],
          [
           "Hastings & Broughton"
          ],
          [
           "Hawks & Union"
          ],
          [
           "Heather & 14th"
          ],
          [
           "Heather & 16th"
          ],
          [
           "Heather & 29th"
          ],
          [
           "Helmcken & Burrard"
          ],
          [
           "Homer & Robson (Vancouver Public Library)"
          ],
          [
           "Hornby & Drake"
          ],
          [
           "Hornby & Nelson"
          ],
          [
           "Hornby & Pender"
          ],
          [
           "Jericho Beach"
          ],
          [
           "Jervis & Robson"
          ],
          [
           "Keefer & Abbott"
          ],
          [
           "Keefer & Columbia"
          ],
          [
           "Keefer & Hawks"
          ],
          [
           "Keefer & Princess"
          ],
          [
           "Keith & 6th"
          ],
          [
           "King Edward & Cambie"
          ],
          [
           "Kitsilano Beach Park"
          ],
          [
           "Lakewood & Oxford"
          ],
          [
           "Lakewood & Triumph"
          ],
          [
           "Marinaside & Cooperage"
          ],
          [
           "Marinaside & Davie"
          ],
          [
           "McLean & Pender"
          ],
          [
           "Melville & Bute"
          ],
          [
           "Morton & Denman"
          ],
          [
           "Napier & Commercial"
          ],
          [
           "Nelson & Denman"
          ],
          [
           "Nelson & Mainland"
          ],
          [
           "Nelson & Richards"
          ],
          [
           "Nicola & Robson"
          ],
          [
           "Olympic Village Station"
          ],
          [
           "Ontario & 16th"
          ],
          [
           "Ontario & 23rd"
          ],
          [
           "Ontario & 5th"
          ],
          [
           "Ontario & Seawall"
          ],
          [
           "Pacific & Richards"
          ],
          [
           "Pender & Burrard"
          ],
          [
           "Pender & Commercial"
          ],
          [
           "Pender & Gore"
          ],
          [
           "Pender & Victoria"
          ],
          [
           "Pine & 10th"
          ],
          [
           "Pine & 14th"
          ],
          [
           "Point Grey & Bayswater"
          ],
          [
           "Point Grey & Blenheim"
          ],
          [
           "Prince Edward & 14th"
          ],
          [
           "Prince Edward & 16th"
          ],
          [
           "Princess & Union"
          ],
          [
           "Quebec & 1st"
          ],
          [
           "Richards & Cordova"
          ],
          [
           "Richards & Davie"
          ],
          [
           "Richards & Helmcken"
          ],
          [
           "Richards & Robson"
          ],
          [
           "Richards & Smithe"
          ],
          [
           "Robson & Granville"
          ],
          [
           "Robson & Hornby"
          ],
          [
           "Rolston & Granville"
          ],
          [
           "Science World"
          ],
          [
           "Seymour & Cordova"
          ],
          [
           "Shaw Tower"
          ],
          [
           "Smithe & Burrard"
          ],
          [
           "South False Creek Seawall"
          ],
          [
           "Spyglass & Seawall"
          ],
          [
           "St Catherines & 10th"
          ],
          [
           "St Catherines & 7th"
          ],
          [
           "St George & Broadway"
          ],
          [
           "Stamps Landing"
          ],
          [
           "Stanley Park - Information Booth"
          ],
          [
           "Stanley Park - Prospect Point"
          ],
          [
           "Stanley Park - Second Beach North"
          ],
          [
           "Stanley Park - Second Beach South"
          ],
          [
           "Stanley Park - Third Beach Parking Lot"
          ],
          [
           "Stanley Park - Totem Poles"
          ],
          [
           "Stanley Park - Vancouver Aquarium"
          ],
          [
           "Station & Terminal"
          ],
          [
           "Thornton & National"
          ],
          [
           "Thurlow & Pendrell"
          ],
          [
           "Trafalgar & Broadway"
          ],
          [
           "Trafalgar & Cornwall"
          ],
          [
           "Triumph & Victoria"
          ],
          [
           "Union & Dunlevy"
          ],
          [
           "Vanier Park"
          ],
          [
           "Victoria & 10th"
          ],
          [
           "Victoria & 4th"
          ],
          [
           "Vine & 4th"
          ],
          [
           "Wall & Eton"
          ],
          [
           "Wallace & 4th"
          ],
          [
           "Windsor & 14th"
          ],
          [
           "Woodland & 10th"
          ],
          [
           "Woodland & 4th"
          ],
          [
           "Woodland & Graveley"
          ],
          [
           "Wylie & 2nd"
          ],
          [
           "Yaletown-Roundhouse Station"
          ],
          [
           "Yew & Broadway"
          ],
          [
           "York & Yew"
          ],
          [
           "Yukon & 6th"
          ],
          [
           "šxʷƛ̓ənəq Xwtl'e7énḵ Square - Vancouver Art Gallery"
          ]
         ],
         "hovertemplate": "Retail=%{x}<br>Bikes=%{y}<br>Station_name=%{customdata[0]}<extra></extra>",
         "legendgroup": "",
         "marker": {
          "color": "#636efa",
          "symbol": "circle"
         },
         "mode": "markers",
         "name": "",
         "orientation": "v",
         "showlegend": false,
         "type": "scatter",
         "x": [
          99,
          19,
          27,
          9,
          77,
          50,
          58,
          24,
          55,
          52,
          40,
          16,
          5,
          3,
          20,
          7,
          24,
          45,
          7,
          34,
          0,
          2,
          10,
          1,
          44,
          43,
          17,
          27,
          37,
          4,
          1,
          0,
          32,
          21,
          23,
          20,
          39,
          52,
          6,
          24,
          18,
          73,
          35,
          56,
          36,
          10,
          78,
          37,
          8,
          29,
          86,
          38,
          72,
          40,
          93,
          16,
          86,
          11,
          26,
          13,
          21,
          0,
          20,
          1,
          16,
          1,
          0,
          6,
          2,
          42,
          7,
          46,
          3,
          1,
          0,
          17,
          21,
          62,
          18,
          14,
          3,
          16,
          28,
          0,
          18,
          58,
          31,
          121,
          75,
          32,
          47,
          51,
          86,
          31,
          85,
          24,
          45,
          4,
          140,
          2,
          51,
          50,
          0,
          2,
          6,
          0,
          1,
          12,
          27,
          4,
          22,
          16,
          1,
          23,
          27,
          162,
          8,
          40,
          0,
          0,
          33,
          15,
          0,
          20,
          21,
          9,
          34,
          196,
          7,
          20,
          14,
          29,
          71,
          115,
          145,
          11,
          1,
          14,
          25,
          35,
          212,
          95,
          58,
          33,
          11,
          6,
          9,
          1,
          1,
          73,
          97,
          64,
          143,
          166,
          0,
          73,
          42,
          112,
          30,
          22,
          14,
          4,
          3,
          10,
          7,
          8,
          28,
          25,
          79,
          20,
          39,
          40,
          87,
          118,
          40,
          24,
          6,
          34,
          36,
          19,
          33,
          43,
          9,
          102,
          8,
          23,
          1,
          3,
          2,
          5,
          8,
          6,
          38,
          102,
          95,
          71,
          96,
          77,
          219,
          192,
          35,
          16,
          195,
          20,
          60,
          2,
          2,
          9,
          9,
          19,
          2,
          0,
          0,
          0,
          0,
          0,
          1,
          0,
          11,
          5,
          59,
          24,
          2,
          19,
          60,
          0,
          10,
          27,
          38,
          6,
          1,
          2,
          6,
          4,
          19,
          17,
          88,
          22,
          5,
          74,
          107
         ],
         "xaxis": "x",
         "y": [
          35,
          14,
          26,
          14,
          14,
          20,
          18,
          30,
          20,
          16,
          16,
          14,
          16,
          14,
          14,
          16,
          14,
          14,
          14,
          16,
          14,
          18,
          24,
          16,
          16,
          26,
          32,
          20,
          16,
          14,
          20,
          20,
          22,
          22,
          20,
          14,
          16,
          20,
          16,
          16,
          16,
          16,
          14,
          18,
          14,
          12,
          16,
          38,
          16,
          22,
          16,
          18,
          12,
          22,
          22,
          22,
          20,
          14,
          14,
          20,
          20,
          24,
          28,
          35,
          18,
          40,
          30,
          18,
          20,
          16,
          16,
          18,
          20,
          22,
          22,
          18,
          18,
          14,
          20,
          26,
          23,
          14,
          22,
          18,
          16,
          16,
          24,
          28,
          14,
          22,
          20,
          26,
          32,
          14,
          26,
          18,
          26,
          16,
          18,
          18,
          22,
          14,
          16,
          18,
          14,
          16,
          14,
          24,
          18,
          20,
          16,
          16,
          12,
          18,
          14,
          22,
          18,
          14,
          12,
          12,
          18,
          22,
          18,
          30,
          16,
          26,
          26,
          22,
          20,
          16,
          14,
          20,
          18,
          20,
          12,
          20,
          18,
          14,
          16,
          14,
          20,
          20,
          20,
          20,
          24,
          16,
          18,
          12,
          22,
          15,
          20,
          24,
          18,
          22,
          34,
          20,
          28,
          14,
          16,
          14,
          28,
          18,
          39,
          18,
          16,
          26,
          22,
          16,
          14,
          26,
          14,
          18,
          20,
          18,
          18,
          26,
          14,
          12,
          20,
          20,
          14,
          26,
          16,
          14,
          16,
          20,
          12,
          16,
          14,
          14,
          14,
          12,
          20,
          24,
          14,
          18,
          22,
          18,
          30,
          30,
          16,
          16,
          19,
          18,
          20,
          14,
          14,
          12,
          20,
          14,
          14,
          20,
          22,
          16,
          18,
          38,
          20,
          16,
          18,
          14,
          16,
          16,
          20,
          16,
          16,
          28,
          12,
          16,
          18,
          18,
          18,
          14,
          14,
          14,
          12,
          18,
          16,
          18,
          20,
          18,
          28
         ],
         "yaxis": "y"
        }
       ],
       "layout": {
        "legend": {
         "tracegroupgap": 0
        },
        "margin": {
         "t": 60
        },
        "template": {
         "data": {
          "bar": [
           {
            "error_x": {
             "color": "#2a3f5f"
            },
            "error_y": {
             "color": "#2a3f5f"
            },
            "marker": {
             "line": {
              "color": "#E5ECF6",
              "width": 0.5
             },
             "pattern": {
              "fillmode": "overlay",
              "size": 10,
              "solidity": 0.2
             }
            },
            "type": "bar"
           }
          ],
          "barpolar": [
           {
            "marker": {
             "line": {
              "color": "#E5ECF6",
              "width": 0.5
             },
             "pattern": {
              "fillmode": "overlay",
              "size": 10,
              "solidity": 0.2
             }
            },
            "type": "barpolar"
           }
          ],
          "carpet": [
           {
            "aaxis": {
             "endlinecolor": "#2a3f5f",
             "gridcolor": "white",
             "linecolor": "white",
             "minorgridcolor": "white",
             "startlinecolor": "#2a3f5f"
            },
            "baxis": {
             "endlinecolor": "#2a3f5f",
             "gridcolor": "white",
             "linecolor": "white",
             "minorgridcolor": "white",
             "startlinecolor": "#2a3f5f"
            },
            "type": "carpet"
           }
          ],
          "choropleth": [
           {
            "colorbar": {
             "outlinewidth": 0,
             "ticks": ""
            },
            "type": "choropleth"
           }
          ],
          "contour": [
           {
            "colorbar": {
             "outlinewidth": 0,
             "ticks": ""
            },
            "colorscale": [
             [
              0,
              "#0d0887"
             ],
             [
              0.1111111111111111,
              "#46039f"
             ],
             [
              0.2222222222222222,
              "#7201a8"
             ],
             [
              0.3333333333333333,
              "#9c179e"
             ],
             [
              0.4444444444444444,
              "#bd3786"
             ],
             [
              0.5555555555555556,
              "#d8576b"
             ],
             [
              0.6666666666666666,
              "#ed7953"
             ],
             [
              0.7777777777777778,
              "#fb9f3a"
             ],
             [
              0.8888888888888888,
              "#fdca26"
             ],
             [
              1,
              "#f0f921"
             ]
            ],
            "type": "contour"
           }
          ],
          "contourcarpet": [
           {
            "colorbar": {
             "outlinewidth": 0,
             "ticks": ""
            },
            "type": "contourcarpet"
           }
          ],
          "heatmap": [
           {
            "colorbar": {
             "outlinewidth": 0,
             "ticks": ""
            },
            "colorscale": [
             [
              0,
              "#0d0887"
             ],
             [
              0.1111111111111111,
              "#46039f"
             ],
             [
              0.2222222222222222,
              "#7201a8"
             ],
             [
              0.3333333333333333,
              "#9c179e"
             ],
             [
              0.4444444444444444,
              "#bd3786"
             ],
             [
              0.5555555555555556,
              "#d8576b"
             ],
             [
              0.6666666666666666,
              "#ed7953"
             ],
             [
              0.7777777777777778,
              "#fb9f3a"
             ],
             [
              0.8888888888888888,
              "#fdca26"
             ],
             [
              1,
              "#f0f921"
             ]
            ],
            "type": "heatmap"
           }
          ],
          "heatmapgl": [
           {
            "colorbar": {
             "outlinewidth": 0,
             "ticks": ""
            },
            "colorscale": [
             [
              0,
              "#0d0887"
             ],
             [
              0.1111111111111111,
              "#46039f"
             ],
             [
              0.2222222222222222,
              "#7201a8"
             ],
             [
              0.3333333333333333,
              "#9c179e"
             ],
             [
              0.4444444444444444,
              "#bd3786"
             ],
             [
              0.5555555555555556,
              "#d8576b"
             ],
             [
              0.6666666666666666,
              "#ed7953"
             ],
             [
              0.7777777777777778,
              "#fb9f3a"
             ],
             [
              0.8888888888888888,
              "#fdca26"
             ],
             [
              1,
              "#f0f921"
             ]
            ],
            "type": "heatmapgl"
           }
          ],
          "histogram": [
           {
            "marker": {
             "pattern": {
              "fillmode": "overlay",
              "size": 10,
              "solidity": 0.2
             }
            },
            "type": "histogram"
           }
          ],
          "histogram2d": [
           {
            "colorbar": {
             "outlinewidth": 0,
             "ticks": ""
            },
            "colorscale": [
             [
              0,
              "#0d0887"
             ],
             [
              0.1111111111111111,
              "#46039f"
             ],
             [
              0.2222222222222222,
              "#7201a8"
             ],
             [
              0.3333333333333333,
              "#9c179e"
             ],
             [
              0.4444444444444444,
              "#bd3786"
             ],
             [
              0.5555555555555556,
              "#d8576b"
             ],
             [
              0.6666666666666666,
              "#ed7953"
             ],
             [
              0.7777777777777778,
              "#fb9f3a"
             ],
             [
              0.8888888888888888,
              "#fdca26"
             ],
             [
              1,
              "#f0f921"
             ]
            ],
            "type": "histogram2d"
           }
          ],
          "histogram2dcontour": [
           {
            "colorbar": {
             "outlinewidth": 0,
             "ticks": ""
            },
            "colorscale": [
             [
              0,
              "#0d0887"
             ],
             [
              0.1111111111111111,
              "#46039f"
             ],
             [
              0.2222222222222222,
              "#7201a8"
             ],
             [
              0.3333333333333333,
              "#9c179e"
             ],
             [
              0.4444444444444444,
              "#bd3786"
             ],
             [
              0.5555555555555556,
              "#d8576b"
             ],
             [
              0.6666666666666666,
              "#ed7953"
             ],
             [
              0.7777777777777778,
              "#fb9f3a"
             ],
             [
              0.8888888888888888,
              "#fdca26"
             ],
             [
              1,
              "#f0f921"
             ]
            ],
            "type": "histogram2dcontour"
           }
          ],
          "mesh3d": [
           {
            "colorbar": {
             "outlinewidth": 0,
             "ticks": ""
            },
            "type": "mesh3d"
           }
          ],
          "parcoords": [
           {
            "line": {
             "colorbar": {
              "outlinewidth": 0,
              "ticks": ""
             }
            },
            "type": "parcoords"
           }
          ],
          "pie": [
           {
            "automargin": true,
            "type": "pie"
           }
          ],
          "scatter": [
           {
            "fillpattern": {
             "fillmode": "overlay",
             "size": 10,
             "solidity": 0.2
            },
            "type": "scatter"
           }
          ],
          "scatter3d": [
           {
            "line": {
             "colorbar": {
              "outlinewidth": 0,
              "ticks": ""
             }
            },
            "marker": {
             "colorbar": {
              "outlinewidth": 0,
              "ticks": ""
             }
            },
            "type": "scatter3d"
           }
          ],
          "scattercarpet": [
           {
            "marker": {
             "colorbar": {
              "outlinewidth": 0,
              "ticks": ""
             }
            },
            "type": "scattercarpet"
           }
          ],
          "scattergeo": [
           {
            "marker": {
             "colorbar": {
              "outlinewidth": 0,
              "ticks": ""
             }
            },
            "type": "scattergeo"
           }
          ],
          "scattergl": [
           {
            "marker": {
             "colorbar": {
              "outlinewidth": 0,
              "ticks": ""
             }
            },
            "type": "scattergl"
           }
          ],
          "scattermapbox": [
           {
            "marker": {
             "colorbar": {
              "outlinewidth": 0,
              "ticks": ""
             }
            },
            "type": "scattermapbox"
           }
          ],
          "scatterpolar": [
           {
            "marker": {
             "colorbar": {
              "outlinewidth": 0,
              "ticks": ""
             }
            },
            "type": "scatterpolar"
           }
          ],
          "scatterpolargl": [
           {
            "marker": {
             "colorbar": {
              "outlinewidth": 0,
              "ticks": ""
             }
            },
            "type": "scatterpolargl"
           }
          ],
          "scatterternary": [
           {
            "marker": {
             "colorbar": {
              "outlinewidth": 0,
              "ticks": ""
             }
            },
            "type": "scatterternary"
           }
          ],
          "surface": [
           {
            "colorbar": {
             "outlinewidth": 0,
             "ticks": ""
            },
            "colorscale": [
             [
              0,
              "#0d0887"
             ],
             [
              0.1111111111111111,
              "#46039f"
             ],
             [
              0.2222222222222222,
              "#7201a8"
             ],
             [
              0.3333333333333333,
              "#9c179e"
             ],
             [
              0.4444444444444444,
              "#bd3786"
             ],
             [
              0.5555555555555556,
              "#d8576b"
             ],
             [
              0.6666666666666666,
              "#ed7953"
             ],
             [
              0.7777777777777778,
              "#fb9f3a"
             ],
             [
              0.8888888888888888,
              "#fdca26"
             ],
             [
              1,
              "#f0f921"
             ]
            ],
            "type": "surface"
           }
          ],
          "table": [
           {
            "cells": {
             "fill": {
              "color": "#EBF0F8"
             },
             "line": {
              "color": "white"
             }
            },
            "header": {
             "fill": {
              "color": "#C8D4E3"
             },
             "line": {
              "color": "white"
             }
            },
            "type": "table"
           }
          ]
         },
         "layout": {
          "annotationdefaults": {
           "arrowcolor": "#2a3f5f",
           "arrowhead": 0,
           "arrowwidth": 1
          },
          "autotypenumbers": "strict",
          "coloraxis": {
           "colorbar": {
            "outlinewidth": 0,
            "ticks": ""
           }
          },
          "colorscale": {
           "diverging": [
            [
             0,
             "#8e0152"
            ],
            [
             0.1,
             "#c51b7d"
            ],
            [
             0.2,
             "#de77ae"
            ],
            [
             0.3,
             "#f1b6da"
            ],
            [
             0.4,
             "#fde0ef"
            ],
            [
             0.5,
             "#f7f7f7"
            ],
            [
             0.6,
             "#e6f5d0"
            ],
            [
             0.7,
             "#b8e186"
            ],
            [
             0.8,
             "#7fbc41"
            ],
            [
             0.9,
             "#4d9221"
            ],
            [
             1,
             "#276419"
            ]
           ],
           "sequential": [
            [
             0,
             "#0d0887"
            ],
            [
             0.1111111111111111,
             "#46039f"
            ],
            [
             0.2222222222222222,
             "#7201a8"
            ],
            [
             0.3333333333333333,
             "#9c179e"
            ],
            [
             0.4444444444444444,
             "#bd3786"
            ],
            [
             0.5555555555555556,
             "#d8576b"
            ],
            [
             0.6666666666666666,
             "#ed7953"
            ],
            [
             0.7777777777777778,
             "#fb9f3a"
            ],
            [
             0.8888888888888888,
             "#fdca26"
            ],
            [
             1,
             "#f0f921"
            ]
           ],
           "sequentialminus": [
            [
             0,
             "#0d0887"
            ],
            [
             0.1111111111111111,
             "#46039f"
            ],
            [
             0.2222222222222222,
             "#7201a8"
            ],
            [
             0.3333333333333333,
             "#9c179e"
            ],
            [
             0.4444444444444444,
             "#bd3786"
            ],
            [
             0.5555555555555556,
             "#d8576b"
            ],
            [
             0.6666666666666666,
             "#ed7953"
            ],
            [
             0.7777777777777778,
             "#fb9f3a"
            ],
            [
             0.8888888888888888,
             "#fdca26"
            ],
            [
             1,
             "#f0f921"
            ]
           ]
          },
          "colorway": [
           "#636efa",
           "#EF553B",
           "#00cc96",
           "#ab63fa",
           "#FFA15A",
           "#19d3f3",
           "#FF6692",
           "#B6E880",
           "#FF97FF",
           "#FECB52"
          ],
          "font": {
           "color": "#2a3f5f"
          },
          "geo": {
           "bgcolor": "white",
           "lakecolor": "white",
           "landcolor": "#E5ECF6",
           "showlakes": true,
           "showland": true,
           "subunitcolor": "white"
          },
          "hoverlabel": {
           "align": "left"
          },
          "hovermode": "closest",
          "mapbox": {
           "style": "light"
          },
          "paper_bgcolor": "white",
          "plot_bgcolor": "#E5ECF6",
          "polar": {
           "angularaxis": {
            "gridcolor": "white",
            "linecolor": "white",
            "ticks": ""
           },
           "bgcolor": "#E5ECF6",
           "radialaxis": {
            "gridcolor": "white",
            "linecolor": "white",
            "ticks": ""
           }
          },
          "scene": {
           "xaxis": {
            "backgroundcolor": "#E5ECF6",
            "gridcolor": "white",
            "gridwidth": 2,
            "linecolor": "white",
            "showbackground": true,
            "ticks": "",
            "zerolinecolor": "white"
           },
           "yaxis": {
            "backgroundcolor": "#E5ECF6",
            "gridcolor": "white",
            "gridwidth": 2,
            "linecolor": "white",
            "showbackground": true,
            "ticks": "",
            "zerolinecolor": "white"
           },
           "zaxis": {
            "backgroundcolor": "#E5ECF6",
            "gridcolor": "white",
            "gridwidth": 2,
            "linecolor": "white",
            "showbackground": true,
            "ticks": "",
            "zerolinecolor": "white"
           }
          },
          "shapedefaults": {
           "line": {
            "color": "#2a3f5f"
           }
          },
          "ternary": {
           "aaxis": {
            "gridcolor": "white",
            "linecolor": "white",
            "ticks": ""
           },
           "baxis": {
            "gridcolor": "white",
            "linecolor": "white",
            "ticks": ""
           },
           "bgcolor": "#E5ECF6",
           "caxis": {
            "gridcolor": "white",
            "linecolor": "white",
            "ticks": ""
           }
          },
          "title": {
           "x": 0.05
          },
          "xaxis": {
           "automargin": true,
           "gridcolor": "white",
           "linecolor": "white",
           "ticks": "",
           "title": {
            "standoff": 15
           },
           "zerolinecolor": "white",
           "zerolinewidth": 2
          },
          "yaxis": {
           "automargin": true,
           "gridcolor": "white",
           "linecolor": "white",
           "ticks": "",
           "title": {
            "standoff": 15
           },
           "zerolinecolor": "white",
           "zerolinewidth": 2
          }
         }
        },
        "title": {
         "text": "Retail",
         "x": 0.5
        },
        "xaxis": {
         "anchor": "y",
         "domain": [
          0,
          1
         ],
         "title": {
          "text": "Retail"
         }
        },
        "yaxis": {
         "anchor": "x",
         "domain": [
          0,
          1
         ],
         "title": {
          "text": "Bikes"
         }
        }
       }
      }
     },
     "metadata": {},
     "output_type": "display_data"
    },
    {
     "data": {
      "application/vnd.plotly.v1+json": {
       "config": {
        "plotlyServerURL": "https://plot.ly"
       },
       "data": [
        {
         "customdata": [
          [
           "10th & Cambie"
          ],
          [
           "10th & Columbia"
          ],
          [
           "10th & Commercial"
          ],
          [
           "10th & Fraser"
          ],
          [
           "10th & Granville"
          ],
          [
           "10th & Kingsway"
          ],
          [
           "10th & Main"
          ],
          [
           "10th & Oak"
          ],
          [
           "10th & Ontario"
          ],
          [
           "11th & Kingsway"
          ],
          [
           "12th & Yukon (City Hall)"
          ],
          [
           "13th & Cambie"
          ],
          [
           "13th & St George"
          ],
          [
           "14th & Alder"
          ],
          [
           "14th & Cambie"
          ],
          [
           "14th & Fraser"
          ],
          [
           "14th & Granville"
          ],
          [
           "14th & Main"
          ],
          [
           "14th & Oak"
          ],
          [
           "14th & Ontario"
          ],
          [
           "15th & Knight"
          ],
          [
           "15th & Victoria (Trout Lake)"
          ],
          [
           "18th & Cambie"
          ],
          [
           "18th & Heather"
          ],
          [
           "18th & Main"
          ],
          [
           "1st & Chestnut"
          ],
          [
           "1st & Manitoba"
          ],
          [
           "1st & Scotia"
          ],
          [
           "20th & Main"
          ],
          [
           "22nd & Cambie"
          ],
          [
           "28th & Willow"
          ],
          [
           "29th & Cambie"
          ],
          [
           "2nd & Commercial"
          ],
          [
           "30th & Ontario"
          ],
          [
           "3rd & Quebec"
          ],
          [
           "4th & Commercial"
          ],
          [
           "5th & Arbutus"
          ],
          [
           "5th & Main"
          ],
          [
           "6th & Carolina"
          ],
          [
           "6th & Prince Edward"
          ],
          [
           "7th &  Alder"
          ],
          [
           "7th & Arbutus"
          ],
          [
           "7th & Granville"
          ],
          [
           "7th & Heather"
          ],
          [
           "7th & Laurel"
          ],
          [
           "7th & Woodland"
          ],
          [
           "8th & Ash"
          ],
          [
           "8th & Commercial"
          ],
          [
           "8th & Fraser"
          ],
          [
           "8th & Macdonald"
          ],
          [
           "8th & Ontario"
          ],
          [
           "8th & Prince Edward"
          ],
          [
           "8th & Scotia"
          ],
          [
           "8th & Yukon"
          ],
          [
           "Abbott & Cordova"
          ],
          [
           "Adanac & McLean"
          ],
          [
           "Alberni & Jervis"
          ],
          [
           "Alder & 11th"
          ],
          [
           "Alexander & Dunlevy"
          ],
          [
           "Alexander & Main"
          ],
          [
           "Alexander & Railway"
          ],
          [
           "Alma & Point Grey"
          ],
          [
           "Anderson & 2nd"
          ],
          [
           "Aquatic Centre"
          ],
          [
           "Arbutus & 10th"
          ],
          [
           "Arbutus & 16th"
          ],
          [
           "Arbutus & McNicoll"
          ],
          [
           "Arbutus & Nanton"
          ],
          [
           "Arbutus Greenway & 14th"
          ],
          [
           "Arbutus Greenway & Fir"
          ],
          [
           "Balaclava & 6th"
          ],
          [
           "Balaclava & Broadway"
          ],
          [
           "Balsam & Cornwall"
          ],
          [
           "Beach & Broughton"
          ],
          [
           "Beach & Cardero"
          ],
          [
           "Beach & Hornby"
          ],
          [
           "Beach & Seymour"
          ],
          [
           "Beatty & Nelson"
          ],
          [
           "Beatty & Robson"
          ],
          [
           "Bidwell & Burnaby"
          ],
          [
           "Blenheim & 4th"
          ],
          [
           "Britannia Parking Lot"
          ],
          [
           "Broughton & Davie"
          ],
          [
           "Burrard & 14th"
          ],
          [
           "Burrard & 4th"
          ],
          [
           "Burrard & 7th"
          ],
          [
           "Burrard & Drake"
          ],
          [
           "Burrard Station (Melville & Dunsmuir)"
          ],
          [
           "Bute & Barclay"
          ],
          [
           "Bute & Comox"
          ],
          [
           "Bute & Davie"
          ],
          [
           "Bute & Robson"
          ],
          [
           "Cambie & Water"
          ],
          [
           "Campbell & Hastings"
          ],
          [
           "Canada Place"
          ],
          [
           "Cardero & Davie"
          ],
          [
           "Cardero & Robson"
          ],
          [
           "Carolina & Great Northern Way"
          ],
          [
           "Carrall & Hastings"
          ],
          [
           "Carrall & Seawall"
          ],
          [
           "Charles & Commercial"
          ],
          [
           "Charles & Woodland"
          ],
          [
           "Chestnut & McNicoll"
          ],
          [
           "Chilco & Barclay"
          ],
          [
           "Chilco & Beach"
          ],
          [
           "Chilco & Robson"
          ],
          [
           "Columbia & 14th"
          ],
          [
           "Columbia & 1st"
          ],
          [
           "Columbia & 5th"
          ],
          [
           "Commercial & 20th"
          ],
          [
           "Commercial & Adanac"
          ],
          [
           "Commercial & Pandora"
          ],
          [
           "Comox & Broughton"
          ],
          [
           "Comox & Denman"
          ],
          [
           "Cordova & Bute"
          ],
          [
           "Cordova & Granville"
          ],
          [
           "Creekside Park North"
          ],
          [
           "Cypress & 10th"
          ],
          [
           "Cypress & 14th"
          ],
          [
           "Cypress & 16th"
          ],
          [
           "Cypress & 4th"
          ],
          [
           "Cypress & Cornwall"
          ],
          [
           "David Lam Park - West"
          ],
          [
           "Davie & Beach"
          ],
          [
           "Dunbar & 6th"
          ],
          [
           "Dunbar & Broadway"
          ],
          [
           "Dunsmuir & Beatty"
          ],
          [
           "Dunsmuir & Richards"
          ],
          [
           "East Blvd & 37th"
          ],
          [
           "Expo & Carrall"
          ],
          [
           "Expo & Smithe"
          ],
          [
           "Franklin & Nanaimo"
          ],
          [
           "Georgia & Homer"
          ],
          [
           "Georgia & Main"
          ],
          [
           "Georgia & Thurlow"
          ],
          [
           "Glen & 6th"
          ],
          [
           "Glen & Broadway"
          ],
          [
           "Glen & Union"
          ],
          [
           "Grandview & Commercial"
          ],
          [
           "Grant & Commercial"
          ],
          [
           "Granville & Georgia"
          ],
          [
           "Granville Island"
          ],
          [
           "Haro & Denman"
          ],
          [
           "Harwood & Bute"
          ],
          [
           "Hastings & Broughton"
          ],
          [
           "Hawks & Union"
          ],
          [
           "Heather & 14th"
          ],
          [
           "Heather & 16th"
          ],
          [
           "Heather & 29th"
          ],
          [
           "Helmcken & Burrard"
          ],
          [
           "Homer & Robson (Vancouver Public Library)"
          ],
          [
           "Hornby & Drake"
          ],
          [
           "Hornby & Nelson"
          ],
          [
           "Hornby & Pender"
          ],
          [
           "Jericho Beach"
          ],
          [
           "Jervis & Robson"
          ],
          [
           "Keefer & Abbott"
          ],
          [
           "Keefer & Columbia"
          ],
          [
           "Keefer & Hawks"
          ],
          [
           "Keefer & Princess"
          ],
          [
           "Keith & 6th"
          ],
          [
           "King Edward & Cambie"
          ],
          [
           "Kitsilano Beach Park"
          ],
          [
           "Lakewood & Oxford"
          ],
          [
           "Lakewood & Triumph"
          ],
          [
           "Marinaside & Cooperage"
          ],
          [
           "Marinaside & Davie"
          ],
          [
           "McLean & Pender"
          ],
          [
           "Melville & Bute"
          ],
          [
           "Morton & Denman"
          ],
          [
           "Napier & Commercial"
          ],
          [
           "Nelson & Denman"
          ],
          [
           "Nelson & Mainland"
          ],
          [
           "Nelson & Richards"
          ],
          [
           "Nicola & Robson"
          ],
          [
           "Olympic Village Station"
          ],
          [
           "Ontario & 16th"
          ],
          [
           "Ontario & 23rd"
          ],
          [
           "Ontario & 5th"
          ],
          [
           "Ontario & Seawall"
          ],
          [
           "Pacific & Richards"
          ],
          [
           "Pender & Burrard"
          ],
          [
           "Pender & Commercial"
          ],
          [
           "Pender & Gore"
          ],
          [
           "Pender & Victoria"
          ],
          [
           "Pine & 10th"
          ],
          [
           "Pine & 14th"
          ],
          [
           "Point Grey & Bayswater"
          ],
          [
           "Point Grey & Blenheim"
          ],
          [
           "Prince Edward & 14th"
          ],
          [
           "Prince Edward & 16th"
          ],
          [
           "Princess & Union"
          ],
          [
           "Quebec & 1st"
          ],
          [
           "Richards & Cordova"
          ],
          [
           "Richards & Davie"
          ],
          [
           "Richards & Helmcken"
          ],
          [
           "Richards & Robson"
          ],
          [
           "Richards & Smithe"
          ],
          [
           "Robson & Granville"
          ],
          [
           "Robson & Hornby"
          ],
          [
           "Rolston & Granville"
          ],
          [
           "Science World"
          ],
          [
           "Seymour & Cordova"
          ],
          [
           "Shaw Tower"
          ],
          [
           "Smithe & Burrard"
          ],
          [
           "South False Creek Seawall"
          ],
          [
           "Spyglass & Seawall"
          ],
          [
           "St Catherines & 10th"
          ],
          [
           "St Catherines & 7th"
          ],
          [
           "St George & Broadway"
          ],
          [
           "Stamps Landing"
          ],
          [
           "Stanley Park - Information Booth"
          ],
          [
           "Stanley Park - Prospect Point"
          ],
          [
           "Stanley Park - Second Beach North"
          ],
          [
           "Stanley Park - Second Beach South"
          ],
          [
           "Stanley Park - Third Beach Parking Lot"
          ],
          [
           "Stanley Park - Totem Poles"
          ],
          [
           "Stanley Park - Vancouver Aquarium"
          ],
          [
           "Station & Terminal"
          ],
          [
           "Thornton & National"
          ],
          [
           "Thurlow & Pendrell"
          ],
          [
           "Trafalgar & Broadway"
          ],
          [
           "Trafalgar & Cornwall"
          ],
          [
           "Triumph & Victoria"
          ],
          [
           "Union & Dunlevy"
          ],
          [
           "Vanier Park"
          ],
          [
           "Victoria & 10th"
          ],
          [
           "Victoria & 4th"
          ],
          [
           "Vine & 4th"
          ],
          [
           "Wall & Eton"
          ],
          [
           "Wallace & 4th"
          ],
          [
           "Windsor & 14th"
          ],
          [
           "Woodland & 10th"
          ],
          [
           "Woodland & 4th"
          ],
          [
           "Woodland & Graveley"
          ],
          [
           "Wylie & 2nd"
          ],
          [
           "Yaletown-Roundhouse Station"
          ],
          [
           "Yew & Broadway"
          ],
          [
           "York & Yew"
          ],
          [
           "Yukon & 6th"
          ],
          [
           "šxʷƛ̓ənəq Xwtl'e7énḵ Square - Vancouver Art Gallery"
          ]
         ],
         "hovertemplate": "Schools=%{x}<br>Bikes=%{y}<br>Station_name=%{customdata[0]}<extra></extra>",
         "legendgroup": "",
         "marker": {
          "color": "#636efa",
          "symbol": "circle"
         },
         "mode": "markers",
         "name": "",
         "orientation": "v",
         "showlegend": false,
         "type": "scatter",
         "x": [
          4,
          0,
          1,
          0,
          1,
          1,
          5,
          0,
          5,
          1,
          3,
          0,
          0,
          0,
          0,
          0,
          0,
          2,
          0,
          3,
          0,
          0,
          0,
          1,
          0,
          2,
          0,
          3,
          1,
          1,
          0,
          0,
          0,
          1,
          0,
          1,
          0,
          3,
          1,
          4,
          0,
          0,
          0,
          2,
          3,
          2,
          3,
          2,
          0,
          0,
          4,
          1,
          3,
          0,
          2,
          1,
          2,
          0,
          0,
          0,
          0,
          0,
          0,
          0,
          0,
          0,
          0,
          0,
          0,
          1,
          0,
          1,
          0,
          0,
          0,
          1,
          0,
          7,
          0,
          0,
          0,
          1,
          0,
          0,
          0,
          6,
          0,
          13,
          2,
          1,
          1,
          0,
          3,
          1,
          11,
          1,
          3,
          1,
          1,
          0,
          2,
          2,
          0,
          0,
          0,
          0,
          2,
          0,
          0,
          0,
          2,
          0,
          0,
          2,
          7,
          36,
          0,
          8,
          0,
          0,
          0,
          1,
          1,
          0,
          0,
          0,
          0,
          39,
          1,
          0,
          0,
          0,
          3,
          2,
          11,
          0,
          0,
          0,
          1,
          0,
          26,
          1,
          3,
          0,
          0,
          0,
          2,
          1,
          1,
          7,
          8,
          3,
          9,
          27,
          0,
          1,
          0,
          2,
          1,
          1,
          2,
          0,
          0,
          0,
          0,
          0,
          1,
          0,
          8,
          0,
          3,
          3,
          4,
          2,
          0,
          0,
          0,
          1,
          0,
          0,
          0,
          5,
          0,
          2,
          0,
          1,
          0,
          0,
          0,
          2,
          1,
          0,
          0,
          7,
          3,
          0,
          0,
          1,
          10,
          13,
          0,
          0,
          42,
          1,
          1,
          1,
          1,
          1,
          0,
          0,
          0,
          0,
          0,
          0,
          0,
          0,
          0,
          0,
          11,
          3,
          3,
          1,
          0,
          1,
          2,
          0,
          0,
          1,
          0,
          0,
          0,
          0,
          0,
          0,
          0,
          3,
          2,
          2,
          0,
          2,
          1
         ],
         "xaxis": "x",
         "y": [
          35,
          14,
          26,
          14,
          14,
          20,
          18,
          30,
          20,
          16,
          16,
          14,
          16,
          14,
          14,
          16,
          14,
          14,
          14,
          16,
          14,
          18,
          24,
          16,
          16,
          26,
          32,
          20,
          16,
          14,
          20,
          20,
          22,
          22,
          20,
          14,
          16,
          20,
          16,
          16,
          16,
          16,
          14,
          18,
          14,
          12,
          16,
          38,
          16,
          22,
          16,
          18,
          12,
          22,
          22,
          22,
          20,
          14,
          14,
          20,
          20,
          24,
          28,
          35,
          18,
          40,
          30,
          18,
          20,
          16,
          16,
          18,
          20,
          22,
          22,
          18,
          18,
          14,
          20,
          26,
          23,
          14,
          22,
          18,
          16,
          16,
          24,
          28,
          14,
          22,
          20,
          26,
          32,
          14,
          26,
          18,
          26,
          16,
          18,
          18,
          22,
          14,
          16,
          18,
          14,
          16,
          14,
          24,
          18,
          20,
          16,
          16,
          12,
          18,
          14,
          22,
          18,
          14,
          12,
          12,
          18,
          22,
          18,
          30,
          16,
          26,
          26,
          22,
          20,
          16,
          14,
          20,
          18,
          20,
          12,
          20,
          18,
          14,
          16,
          14,
          20,
          20,
          20,
          20,
          24,
          16,
          18,
          12,
          22,
          15,
          20,
          24,
          18,
          22,
          34,
          20,
          28,
          14,
          16,
          14,
          28,
          18,
          39,
          18,
          16,
          26,
          22,
          16,
          14,
          26,
          14,
          18,
          20,
          18,
          18,
          26,
          14,
          12,
          20,
          20,
          14,
          26,
          16,
          14,
          16,
          20,
          12,
          16,
          14,
          14,
          14,
          12,
          20,
          24,
          14,
          18,
          22,
          18,
          30,
          30,
          16,
          16,
          19,
          18,
          20,
          14,
          14,
          12,
          20,
          14,
          14,
          20,
          22,
          16,
          18,
          38,
          20,
          16,
          18,
          14,
          16,
          16,
          20,
          16,
          16,
          28,
          12,
          16,
          18,
          18,
          18,
          14,
          14,
          14,
          12,
          18,
          16,
          18,
          20,
          18,
          28
         ],
         "yaxis": "y"
        }
       ],
       "layout": {
        "legend": {
         "tracegroupgap": 0
        },
        "margin": {
         "t": 60
        },
        "template": {
         "data": {
          "bar": [
           {
            "error_x": {
             "color": "#2a3f5f"
            },
            "error_y": {
             "color": "#2a3f5f"
            },
            "marker": {
             "line": {
              "color": "#E5ECF6",
              "width": 0.5
             },
             "pattern": {
              "fillmode": "overlay",
              "size": 10,
              "solidity": 0.2
             }
            },
            "type": "bar"
           }
          ],
          "barpolar": [
           {
            "marker": {
             "line": {
              "color": "#E5ECF6",
              "width": 0.5
             },
             "pattern": {
              "fillmode": "overlay",
              "size": 10,
              "solidity": 0.2
             }
            },
            "type": "barpolar"
           }
          ],
          "carpet": [
           {
            "aaxis": {
             "endlinecolor": "#2a3f5f",
             "gridcolor": "white",
             "linecolor": "white",
             "minorgridcolor": "white",
             "startlinecolor": "#2a3f5f"
            },
            "baxis": {
             "endlinecolor": "#2a3f5f",
             "gridcolor": "white",
             "linecolor": "white",
             "minorgridcolor": "white",
             "startlinecolor": "#2a3f5f"
            },
            "type": "carpet"
           }
          ],
          "choropleth": [
           {
            "colorbar": {
             "outlinewidth": 0,
             "ticks": ""
            },
            "type": "choropleth"
           }
          ],
          "contour": [
           {
            "colorbar": {
             "outlinewidth": 0,
             "ticks": ""
            },
            "colorscale": [
             [
              0,
              "#0d0887"
             ],
             [
              0.1111111111111111,
              "#46039f"
             ],
             [
              0.2222222222222222,
              "#7201a8"
             ],
             [
              0.3333333333333333,
              "#9c179e"
             ],
             [
              0.4444444444444444,
              "#bd3786"
             ],
             [
              0.5555555555555556,
              "#d8576b"
             ],
             [
              0.6666666666666666,
              "#ed7953"
             ],
             [
              0.7777777777777778,
              "#fb9f3a"
             ],
             [
              0.8888888888888888,
              "#fdca26"
             ],
             [
              1,
              "#f0f921"
             ]
            ],
            "type": "contour"
           }
          ],
          "contourcarpet": [
           {
            "colorbar": {
             "outlinewidth": 0,
             "ticks": ""
            },
            "type": "contourcarpet"
           }
          ],
          "heatmap": [
           {
            "colorbar": {
             "outlinewidth": 0,
             "ticks": ""
            },
            "colorscale": [
             [
              0,
              "#0d0887"
             ],
             [
              0.1111111111111111,
              "#46039f"
             ],
             [
              0.2222222222222222,
              "#7201a8"
             ],
             [
              0.3333333333333333,
              "#9c179e"
             ],
             [
              0.4444444444444444,
              "#bd3786"
             ],
             [
              0.5555555555555556,
              "#d8576b"
             ],
             [
              0.6666666666666666,
              "#ed7953"
             ],
             [
              0.7777777777777778,
              "#fb9f3a"
             ],
             [
              0.8888888888888888,
              "#fdca26"
             ],
             [
              1,
              "#f0f921"
             ]
            ],
            "type": "heatmap"
           }
          ],
          "heatmapgl": [
           {
            "colorbar": {
             "outlinewidth": 0,
             "ticks": ""
            },
            "colorscale": [
             [
              0,
              "#0d0887"
             ],
             [
              0.1111111111111111,
              "#46039f"
             ],
             [
              0.2222222222222222,
              "#7201a8"
             ],
             [
              0.3333333333333333,
              "#9c179e"
             ],
             [
              0.4444444444444444,
              "#bd3786"
             ],
             [
              0.5555555555555556,
              "#d8576b"
             ],
             [
              0.6666666666666666,
              "#ed7953"
             ],
             [
              0.7777777777777778,
              "#fb9f3a"
             ],
             [
              0.8888888888888888,
              "#fdca26"
             ],
             [
              1,
              "#f0f921"
             ]
            ],
            "type": "heatmapgl"
           }
          ],
          "histogram": [
           {
            "marker": {
             "pattern": {
              "fillmode": "overlay",
              "size": 10,
              "solidity": 0.2
             }
            },
            "type": "histogram"
           }
          ],
          "histogram2d": [
           {
            "colorbar": {
             "outlinewidth": 0,
             "ticks": ""
            },
            "colorscale": [
             [
              0,
              "#0d0887"
             ],
             [
              0.1111111111111111,
              "#46039f"
             ],
             [
              0.2222222222222222,
              "#7201a8"
             ],
             [
              0.3333333333333333,
              "#9c179e"
             ],
             [
              0.4444444444444444,
              "#bd3786"
             ],
             [
              0.5555555555555556,
              "#d8576b"
             ],
             [
              0.6666666666666666,
              "#ed7953"
             ],
             [
              0.7777777777777778,
              "#fb9f3a"
             ],
             [
              0.8888888888888888,
              "#fdca26"
             ],
             [
              1,
              "#f0f921"
             ]
            ],
            "type": "histogram2d"
           }
          ],
          "histogram2dcontour": [
           {
            "colorbar": {
             "outlinewidth": 0,
             "ticks": ""
            },
            "colorscale": [
             [
              0,
              "#0d0887"
             ],
             [
              0.1111111111111111,
              "#46039f"
             ],
             [
              0.2222222222222222,
              "#7201a8"
             ],
             [
              0.3333333333333333,
              "#9c179e"
             ],
             [
              0.4444444444444444,
              "#bd3786"
             ],
             [
              0.5555555555555556,
              "#d8576b"
             ],
             [
              0.6666666666666666,
              "#ed7953"
             ],
             [
              0.7777777777777778,
              "#fb9f3a"
             ],
             [
              0.8888888888888888,
              "#fdca26"
             ],
             [
              1,
              "#f0f921"
             ]
            ],
            "type": "histogram2dcontour"
           }
          ],
          "mesh3d": [
           {
            "colorbar": {
             "outlinewidth": 0,
             "ticks": ""
            },
            "type": "mesh3d"
           }
          ],
          "parcoords": [
           {
            "line": {
             "colorbar": {
              "outlinewidth": 0,
              "ticks": ""
             }
            },
            "type": "parcoords"
           }
          ],
          "pie": [
           {
            "automargin": true,
            "type": "pie"
           }
          ],
          "scatter": [
           {
            "fillpattern": {
             "fillmode": "overlay",
             "size": 10,
             "solidity": 0.2
            },
            "type": "scatter"
           }
          ],
          "scatter3d": [
           {
            "line": {
             "colorbar": {
              "outlinewidth": 0,
              "ticks": ""
             }
            },
            "marker": {
             "colorbar": {
              "outlinewidth": 0,
              "ticks": ""
             }
            },
            "type": "scatter3d"
           }
          ],
          "scattercarpet": [
           {
            "marker": {
             "colorbar": {
              "outlinewidth": 0,
              "ticks": ""
             }
            },
            "type": "scattercarpet"
           }
          ],
          "scattergeo": [
           {
            "marker": {
             "colorbar": {
              "outlinewidth": 0,
              "ticks": ""
             }
            },
            "type": "scattergeo"
           }
          ],
          "scattergl": [
           {
            "marker": {
             "colorbar": {
              "outlinewidth": 0,
              "ticks": ""
             }
            },
            "type": "scattergl"
           }
          ],
          "scattermapbox": [
           {
            "marker": {
             "colorbar": {
              "outlinewidth": 0,
              "ticks": ""
             }
            },
            "type": "scattermapbox"
           }
          ],
          "scatterpolar": [
           {
            "marker": {
             "colorbar": {
              "outlinewidth": 0,
              "ticks": ""
             }
            },
            "type": "scatterpolar"
           }
          ],
          "scatterpolargl": [
           {
            "marker": {
             "colorbar": {
              "outlinewidth": 0,
              "ticks": ""
             }
            },
            "type": "scatterpolargl"
           }
          ],
          "scatterternary": [
           {
            "marker": {
             "colorbar": {
              "outlinewidth": 0,
              "ticks": ""
             }
            },
            "type": "scatterternary"
           }
          ],
          "surface": [
           {
            "colorbar": {
             "outlinewidth": 0,
             "ticks": ""
            },
            "colorscale": [
             [
              0,
              "#0d0887"
             ],
             [
              0.1111111111111111,
              "#46039f"
             ],
             [
              0.2222222222222222,
              "#7201a8"
             ],
             [
              0.3333333333333333,
              "#9c179e"
             ],
             [
              0.4444444444444444,
              "#bd3786"
             ],
             [
              0.5555555555555556,
              "#d8576b"
             ],
             [
              0.6666666666666666,
              "#ed7953"
             ],
             [
              0.7777777777777778,
              "#fb9f3a"
             ],
             [
              0.8888888888888888,
              "#fdca26"
             ],
             [
              1,
              "#f0f921"
             ]
            ],
            "type": "surface"
           }
          ],
          "table": [
           {
            "cells": {
             "fill": {
              "color": "#EBF0F8"
             },
             "line": {
              "color": "white"
             }
            },
            "header": {
             "fill": {
              "color": "#C8D4E3"
             },
             "line": {
              "color": "white"
             }
            },
            "type": "table"
           }
          ]
         },
         "layout": {
          "annotationdefaults": {
           "arrowcolor": "#2a3f5f",
           "arrowhead": 0,
           "arrowwidth": 1
          },
          "autotypenumbers": "strict",
          "coloraxis": {
           "colorbar": {
            "outlinewidth": 0,
            "ticks": ""
           }
          },
          "colorscale": {
           "diverging": [
            [
             0,
             "#8e0152"
            ],
            [
             0.1,
             "#c51b7d"
            ],
            [
             0.2,
             "#de77ae"
            ],
            [
             0.3,
             "#f1b6da"
            ],
            [
             0.4,
             "#fde0ef"
            ],
            [
             0.5,
             "#f7f7f7"
            ],
            [
             0.6,
             "#e6f5d0"
            ],
            [
             0.7,
             "#b8e186"
            ],
            [
             0.8,
             "#7fbc41"
            ],
            [
             0.9,
             "#4d9221"
            ],
            [
             1,
             "#276419"
            ]
           ],
           "sequential": [
            [
             0,
             "#0d0887"
            ],
            [
             0.1111111111111111,
             "#46039f"
            ],
            [
             0.2222222222222222,
             "#7201a8"
            ],
            [
             0.3333333333333333,
             "#9c179e"
            ],
            [
             0.4444444444444444,
             "#bd3786"
            ],
            [
             0.5555555555555556,
             "#d8576b"
            ],
            [
             0.6666666666666666,
             "#ed7953"
            ],
            [
             0.7777777777777778,
             "#fb9f3a"
            ],
            [
             0.8888888888888888,
             "#fdca26"
            ],
            [
             1,
             "#f0f921"
            ]
           ],
           "sequentialminus": [
            [
             0,
             "#0d0887"
            ],
            [
             0.1111111111111111,
             "#46039f"
            ],
            [
             0.2222222222222222,
             "#7201a8"
            ],
            [
             0.3333333333333333,
             "#9c179e"
            ],
            [
             0.4444444444444444,
             "#bd3786"
            ],
            [
             0.5555555555555556,
             "#d8576b"
            ],
            [
             0.6666666666666666,
             "#ed7953"
            ],
            [
             0.7777777777777778,
             "#fb9f3a"
            ],
            [
             0.8888888888888888,
             "#fdca26"
            ],
            [
             1,
             "#f0f921"
            ]
           ]
          },
          "colorway": [
           "#636efa",
           "#EF553B",
           "#00cc96",
           "#ab63fa",
           "#FFA15A",
           "#19d3f3",
           "#FF6692",
           "#B6E880",
           "#FF97FF",
           "#FECB52"
          ],
          "font": {
           "color": "#2a3f5f"
          },
          "geo": {
           "bgcolor": "white",
           "lakecolor": "white",
           "landcolor": "#E5ECF6",
           "showlakes": true,
           "showland": true,
           "subunitcolor": "white"
          },
          "hoverlabel": {
           "align": "left"
          },
          "hovermode": "closest",
          "mapbox": {
           "style": "light"
          },
          "paper_bgcolor": "white",
          "plot_bgcolor": "#E5ECF6",
          "polar": {
           "angularaxis": {
            "gridcolor": "white",
            "linecolor": "white",
            "ticks": ""
           },
           "bgcolor": "#E5ECF6",
           "radialaxis": {
            "gridcolor": "white",
            "linecolor": "white",
            "ticks": ""
           }
          },
          "scene": {
           "xaxis": {
            "backgroundcolor": "#E5ECF6",
            "gridcolor": "white",
            "gridwidth": 2,
            "linecolor": "white",
            "showbackground": true,
            "ticks": "",
            "zerolinecolor": "white"
           },
           "yaxis": {
            "backgroundcolor": "#E5ECF6",
            "gridcolor": "white",
            "gridwidth": 2,
            "linecolor": "white",
            "showbackground": true,
            "ticks": "",
            "zerolinecolor": "white"
           },
           "zaxis": {
            "backgroundcolor": "#E5ECF6",
            "gridcolor": "white",
            "gridwidth": 2,
            "linecolor": "white",
            "showbackground": true,
            "ticks": "",
            "zerolinecolor": "white"
           }
          },
          "shapedefaults": {
           "line": {
            "color": "#2a3f5f"
           }
          },
          "ternary": {
           "aaxis": {
            "gridcolor": "white",
            "linecolor": "white",
            "ticks": ""
           },
           "baxis": {
            "gridcolor": "white",
            "linecolor": "white",
            "ticks": ""
           },
           "bgcolor": "#E5ECF6",
           "caxis": {
            "gridcolor": "white",
            "linecolor": "white",
            "ticks": ""
           }
          },
          "title": {
           "x": 0.05
          },
          "xaxis": {
           "automargin": true,
           "gridcolor": "white",
           "linecolor": "white",
           "ticks": "",
           "title": {
            "standoff": 15
           },
           "zerolinecolor": "white",
           "zerolinewidth": 2
          },
          "yaxis": {
           "automargin": true,
           "gridcolor": "white",
           "linecolor": "white",
           "ticks": "",
           "title": {
            "standoff": 15
           },
           "zerolinecolor": "white",
           "zerolinewidth": 2
          }
         }
        },
        "title": {
         "text": "Schools",
         "x": 0.5
        },
        "xaxis": {
         "anchor": "y",
         "domain": [
          0,
          1
         ],
         "title": {
          "text": "Schools"
         }
        },
        "yaxis": {
         "anchor": "x",
         "domain": [
          0,
          1
         ],
         "title": {
          "text": "Bikes"
         }
        }
       }
      }
     },
     "metadata": {},
     "output_type": "display_data"
    },
    {
     "data": {
      "application/vnd.plotly.v1+json": {
       "config": {
        "plotlyServerURL": "https://plot.ly"
       },
       "data": [
        {
         "customdata": [
          [
           "10th & Cambie"
          ],
          [
           "10th & Columbia"
          ],
          [
           "10th & Commercial"
          ],
          [
           "10th & Fraser"
          ],
          [
           "10th & Granville"
          ],
          [
           "10th & Kingsway"
          ],
          [
           "10th & Main"
          ],
          [
           "10th & Oak"
          ],
          [
           "10th & Ontario"
          ],
          [
           "11th & Kingsway"
          ],
          [
           "12th & Yukon (City Hall)"
          ],
          [
           "13th & Cambie"
          ],
          [
           "13th & St George"
          ],
          [
           "14th & Alder"
          ],
          [
           "14th & Cambie"
          ],
          [
           "14th & Fraser"
          ],
          [
           "14th & Granville"
          ],
          [
           "14th & Main"
          ],
          [
           "14th & Oak"
          ],
          [
           "14th & Ontario"
          ],
          [
           "15th & Knight"
          ],
          [
           "15th & Victoria (Trout Lake)"
          ],
          [
           "18th & Cambie"
          ],
          [
           "18th & Heather"
          ],
          [
           "18th & Main"
          ],
          [
           "1st & Chestnut"
          ],
          [
           "1st & Manitoba"
          ],
          [
           "1st & Scotia"
          ],
          [
           "20th & Main"
          ],
          [
           "22nd & Cambie"
          ],
          [
           "28th & Willow"
          ],
          [
           "29th & Cambie"
          ],
          [
           "2nd & Commercial"
          ],
          [
           "30th & Ontario"
          ],
          [
           "3rd & Quebec"
          ],
          [
           "4th & Commercial"
          ],
          [
           "5th & Arbutus"
          ],
          [
           "5th & Main"
          ],
          [
           "6th & Carolina"
          ],
          [
           "6th & Prince Edward"
          ],
          [
           "7th &  Alder"
          ],
          [
           "7th & Arbutus"
          ],
          [
           "7th & Granville"
          ],
          [
           "7th & Heather"
          ],
          [
           "7th & Laurel"
          ],
          [
           "7th & Woodland"
          ],
          [
           "8th & Ash"
          ],
          [
           "8th & Commercial"
          ],
          [
           "8th & Fraser"
          ],
          [
           "8th & Macdonald"
          ],
          [
           "8th & Ontario"
          ],
          [
           "8th & Prince Edward"
          ],
          [
           "8th & Scotia"
          ],
          [
           "8th & Yukon"
          ],
          [
           "Abbott & Cordova"
          ],
          [
           "Adanac & McLean"
          ],
          [
           "Alberni & Jervis"
          ],
          [
           "Alder & 11th"
          ],
          [
           "Alexander & Dunlevy"
          ],
          [
           "Alexander & Main"
          ],
          [
           "Alexander & Railway"
          ],
          [
           "Alma & Point Grey"
          ],
          [
           "Anderson & 2nd"
          ],
          [
           "Aquatic Centre"
          ],
          [
           "Arbutus & 10th"
          ],
          [
           "Arbutus & 16th"
          ],
          [
           "Arbutus & McNicoll"
          ],
          [
           "Arbutus & Nanton"
          ],
          [
           "Arbutus Greenway & 14th"
          ],
          [
           "Arbutus Greenway & Fir"
          ],
          [
           "Balaclava & 6th"
          ],
          [
           "Balaclava & Broadway"
          ],
          [
           "Balsam & Cornwall"
          ],
          [
           "Beach & Broughton"
          ],
          [
           "Beach & Cardero"
          ],
          [
           "Beach & Hornby"
          ],
          [
           "Beach & Seymour"
          ],
          [
           "Beatty & Nelson"
          ],
          [
           "Beatty & Robson"
          ],
          [
           "Bidwell & Burnaby"
          ],
          [
           "Blenheim & 4th"
          ],
          [
           "Britannia Parking Lot"
          ],
          [
           "Broughton & Davie"
          ],
          [
           "Burrard & 14th"
          ],
          [
           "Burrard & 4th"
          ],
          [
           "Burrard & 7th"
          ],
          [
           "Burrard & Drake"
          ],
          [
           "Burrard Station (Melville & Dunsmuir)"
          ],
          [
           "Bute & Barclay"
          ],
          [
           "Bute & Comox"
          ],
          [
           "Bute & Davie"
          ],
          [
           "Bute & Robson"
          ],
          [
           "Cambie & Water"
          ],
          [
           "Campbell & Hastings"
          ],
          [
           "Canada Place"
          ],
          [
           "Cardero & Davie"
          ],
          [
           "Cardero & Robson"
          ],
          [
           "Carolina & Great Northern Way"
          ],
          [
           "Carrall & Hastings"
          ],
          [
           "Carrall & Seawall"
          ],
          [
           "Charles & Commercial"
          ],
          [
           "Charles & Woodland"
          ],
          [
           "Chestnut & McNicoll"
          ],
          [
           "Chilco & Barclay"
          ],
          [
           "Chilco & Beach"
          ],
          [
           "Chilco & Robson"
          ],
          [
           "Columbia & 14th"
          ],
          [
           "Columbia & 1st"
          ],
          [
           "Columbia & 5th"
          ],
          [
           "Commercial & 20th"
          ],
          [
           "Commercial & Adanac"
          ],
          [
           "Commercial & Pandora"
          ],
          [
           "Comox & Broughton"
          ],
          [
           "Comox & Denman"
          ],
          [
           "Cordova & Bute"
          ],
          [
           "Cordova & Granville"
          ],
          [
           "Creekside Park North"
          ],
          [
           "Cypress & 10th"
          ],
          [
           "Cypress & 14th"
          ],
          [
           "Cypress & 16th"
          ],
          [
           "Cypress & 4th"
          ],
          [
           "Cypress & Cornwall"
          ],
          [
           "David Lam Park - West"
          ],
          [
           "Davie & Beach"
          ],
          [
           "Dunbar & 6th"
          ],
          [
           "Dunbar & Broadway"
          ],
          [
           "Dunsmuir & Beatty"
          ],
          [
           "Dunsmuir & Richards"
          ],
          [
           "East Blvd & 37th"
          ],
          [
           "Expo & Carrall"
          ],
          [
           "Expo & Smithe"
          ],
          [
           "Franklin & Nanaimo"
          ],
          [
           "Georgia & Homer"
          ],
          [
           "Georgia & Main"
          ],
          [
           "Georgia & Thurlow"
          ],
          [
           "Glen & 6th"
          ],
          [
           "Glen & Broadway"
          ],
          [
           "Glen & Union"
          ],
          [
           "Grandview & Commercial"
          ],
          [
           "Grant & Commercial"
          ],
          [
           "Granville & Georgia"
          ],
          [
           "Granville Island"
          ],
          [
           "Haro & Denman"
          ],
          [
           "Harwood & Bute"
          ],
          [
           "Hastings & Broughton"
          ],
          [
           "Hawks & Union"
          ],
          [
           "Heather & 14th"
          ],
          [
           "Heather & 16th"
          ],
          [
           "Heather & 29th"
          ],
          [
           "Helmcken & Burrard"
          ],
          [
           "Homer & Robson (Vancouver Public Library)"
          ],
          [
           "Hornby & Drake"
          ],
          [
           "Hornby & Nelson"
          ],
          [
           "Hornby & Pender"
          ],
          [
           "Jericho Beach"
          ],
          [
           "Jervis & Robson"
          ],
          [
           "Keefer & Abbott"
          ],
          [
           "Keefer & Columbia"
          ],
          [
           "Keefer & Hawks"
          ],
          [
           "Keefer & Princess"
          ],
          [
           "Keith & 6th"
          ],
          [
           "King Edward & Cambie"
          ],
          [
           "Kitsilano Beach Park"
          ],
          [
           "Lakewood & Oxford"
          ],
          [
           "Lakewood & Triumph"
          ],
          [
           "Marinaside & Cooperage"
          ],
          [
           "Marinaside & Davie"
          ],
          [
           "McLean & Pender"
          ],
          [
           "Melville & Bute"
          ],
          [
           "Morton & Denman"
          ],
          [
           "Napier & Commercial"
          ],
          [
           "Nelson & Denman"
          ],
          [
           "Nelson & Mainland"
          ],
          [
           "Nelson & Richards"
          ],
          [
           "Nicola & Robson"
          ],
          [
           "Olympic Village Station"
          ],
          [
           "Ontario & 16th"
          ],
          [
           "Ontario & 23rd"
          ],
          [
           "Ontario & 5th"
          ],
          [
           "Ontario & Seawall"
          ],
          [
           "Pacific & Richards"
          ],
          [
           "Pender & Burrard"
          ],
          [
           "Pender & Commercial"
          ],
          [
           "Pender & Gore"
          ],
          [
           "Pender & Victoria"
          ],
          [
           "Pine & 10th"
          ],
          [
           "Pine & 14th"
          ],
          [
           "Point Grey & Bayswater"
          ],
          [
           "Point Grey & Blenheim"
          ],
          [
           "Prince Edward & 14th"
          ],
          [
           "Prince Edward & 16th"
          ],
          [
           "Princess & Union"
          ],
          [
           "Quebec & 1st"
          ],
          [
           "Richards & Cordova"
          ],
          [
           "Richards & Davie"
          ],
          [
           "Richards & Helmcken"
          ],
          [
           "Richards & Robson"
          ],
          [
           "Richards & Smithe"
          ],
          [
           "Robson & Granville"
          ],
          [
           "Robson & Hornby"
          ],
          [
           "Rolston & Granville"
          ],
          [
           "Science World"
          ],
          [
           "Seymour & Cordova"
          ],
          [
           "Shaw Tower"
          ],
          [
           "Smithe & Burrard"
          ],
          [
           "South False Creek Seawall"
          ],
          [
           "Spyglass & Seawall"
          ],
          [
           "St Catherines & 10th"
          ],
          [
           "St Catherines & 7th"
          ],
          [
           "St George & Broadway"
          ],
          [
           "Stamps Landing"
          ],
          [
           "Stanley Park - Information Booth"
          ],
          [
           "Stanley Park - Prospect Point"
          ],
          [
           "Stanley Park - Second Beach North"
          ],
          [
           "Stanley Park - Second Beach South"
          ],
          [
           "Stanley Park - Third Beach Parking Lot"
          ],
          [
           "Stanley Park - Totem Poles"
          ],
          [
           "Stanley Park - Vancouver Aquarium"
          ],
          [
           "Station & Terminal"
          ],
          [
           "Thornton & National"
          ],
          [
           "Thurlow & Pendrell"
          ],
          [
           "Trafalgar & Broadway"
          ],
          [
           "Trafalgar & Cornwall"
          ],
          [
           "Triumph & Victoria"
          ],
          [
           "Union & Dunlevy"
          ],
          [
           "Vanier Park"
          ],
          [
           "Victoria & 10th"
          ],
          [
           "Victoria & 4th"
          ],
          [
           "Vine & 4th"
          ],
          [
           "Wall & Eton"
          ],
          [
           "Wallace & 4th"
          ],
          [
           "Windsor & 14th"
          ],
          [
           "Woodland & 10th"
          ],
          [
           "Woodland & 4th"
          ],
          [
           "Woodland & Graveley"
          ],
          [
           "Wylie & 2nd"
          ],
          [
           "Yaletown-Roundhouse Station"
          ],
          [
           "Yew & Broadway"
          ],
          [
           "York & Yew"
          ],
          [
           "Yukon & 6th"
          ],
          [
           "šxʷƛ̓ənəq Xwtl'e7énḵ Square - Vancouver Art Gallery"
          ]
         ],
         "hovertemplate": "Total POIs=%{x}<br>Bikes=%{y}<br>Station_name=%{customdata[0]}<extra></extra>",
         "legendgroup": "",
         "marker": {
          "color": "#636efa",
          "symbol": "circle"
         },
         "mode": "markers",
         "name": "",
         "orientation": "v",
         "showlegend": false,
         "type": "scatter",
         "x": [
          302,
          64,
          87,
          35,
          188,
          167,
          207,
          92,
          168,
          158,
          151,
          55,
          28,
          4,
          61,
          36,
          53,
          129,
          30,
          103,
          1,
          11,
          57,
          21,
          91,
          130,
          78,
          107,
          73,
          17,
          23,
          2,
          91,
          93,
          69,
          71,
          83,
          172,
          20,
          91,
          48,
          151,
          123,
          231,
          128,
          54,
          268,
          104,
          34,
          78,
          202,
          103,
          231,
          136,
          295,
          44,
          235,
          30,
          88,
          64,
          50,
          12,
          84,
          20,
          61,
          5,
          7,
          18,
          8,
          164,
          25,
          144,
          11,
          13,
          8,
          123,
          74,
          233,
          141,
          75,
          11,
          76,
          100,
          3,
          90,
          162,
          106,
          333,
          196,
          132,
          167,
          140,
          267,
          85,
          284,
          113,
          202,
          13,
          416,
          34,
          156,
          149,
          13,
          24,
          68,
          27,
          14,
          83,
          66,
          22,
          85,
          40,
          15,
          117,
          166,
          434,
          46,
          126,
          3,
          2,
          106,
          49,
          10,
          96,
          55,
          37,
          170,
          478,
          19,
          89,
          95,
          91,
          214,
          299,
          328,
          18,
          6,
          26,
          78,
          101,
          536,
          303,
          213,
          138,
          63,
          14,
          60,
          19,
          9,
          282,
          332,
          250,
          450,
          436,
          4,
          204,
          190,
          304,
          82,
          66,
          33,
          15,
          30,
          26,
          24,
          54,
          141,
          91,
          235,
          98,
          142,
          179,
          297,
          395,
          160,
          76,
          21,
          74,
          81,
          94,
          134,
          182,
          25,
          257,
          22,
          72,
          13,
          11,
          5,
          36,
          27,
          18,
          108,
          279,
          370,
          268,
          250,
          250,
          536,
          485,
          112,
          71,
          501,
          124,
          159,
          16,
          25,
          21,
          22,
          45,
          19,
          14,
          10,
          13,
          19,
          8,
          12,
          15,
          71,
          17,
          203,
          49,
          12,
          59,
          161,
          16,
          24,
          86,
          70,
          21,
          8,
          3,
          26,
          24,
          46,
          62,
          329,
          95,
          29,
          242,
          259
         ],
         "xaxis": "x",
         "y": [
          35,
          14,
          26,
          14,
          14,
          20,
          18,
          30,
          20,
          16,
          16,
          14,
          16,
          14,
          14,
          16,
          14,
          14,
          14,
          16,
          14,
          18,
          24,
          16,
          16,
          26,
          32,
          20,
          16,
          14,
          20,
          20,
          22,
          22,
          20,
          14,
          16,
          20,
          16,
          16,
          16,
          16,
          14,
          18,
          14,
          12,
          16,
          38,
          16,
          22,
          16,
          18,
          12,
          22,
          22,
          22,
          20,
          14,
          14,
          20,
          20,
          24,
          28,
          35,
          18,
          40,
          30,
          18,
          20,
          16,
          16,
          18,
          20,
          22,
          22,
          18,
          18,
          14,
          20,
          26,
          23,
          14,
          22,
          18,
          16,
          16,
          24,
          28,
          14,
          22,
          20,
          26,
          32,
          14,
          26,
          18,
          26,
          16,
          18,
          18,
          22,
          14,
          16,
          18,
          14,
          16,
          14,
          24,
          18,
          20,
          16,
          16,
          12,
          18,
          14,
          22,
          18,
          14,
          12,
          12,
          18,
          22,
          18,
          30,
          16,
          26,
          26,
          22,
          20,
          16,
          14,
          20,
          18,
          20,
          12,
          20,
          18,
          14,
          16,
          14,
          20,
          20,
          20,
          20,
          24,
          16,
          18,
          12,
          22,
          15,
          20,
          24,
          18,
          22,
          34,
          20,
          28,
          14,
          16,
          14,
          28,
          18,
          39,
          18,
          16,
          26,
          22,
          16,
          14,
          26,
          14,
          18,
          20,
          18,
          18,
          26,
          14,
          12,
          20,
          20,
          14,
          26,
          16,
          14,
          16,
          20,
          12,
          16,
          14,
          14,
          14,
          12,
          20,
          24,
          14,
          18,
          22,
          18,
          30,
          30,
          16,
          16,
          19,
          18,
          20,
          14,
          14,
          12,
          20,
          14,
          14,
          20,
          22,
          16,
          18,
          38,
          20,
          16,
          18,
          14,
          16,
          16,
          20,
          16,
          16,
          28,
          12,
          16,
          18,
          18,
          18,
          14,
          14,
          14,
          12,
          18,
          16,
          18,
          20,
          18,
          28
         ],
         "yaxis": "y"
        }
       ],
       "layout": {
        "legend": {
         "tracegroupgap": 0
        },
        "margin": {
         "t": 60
        },
        "template": {
         "data": {
          "bar": [
           {
            "error_x": {
             "color": "#2a3f5f"
            },
            "error_y": {
             "color": "#2a3f5f"
            },
            "marker": {
             "line": {
              "color": "#E5ECF6",
              "width": 0.5
             },
             "pattern": {
              "fillmode": "overlay",
              "size": 10,
              "solidity": 0.2
             }
            },
            "type": "bar"
           }
          ],
          "barpolar": [
           {
            "marker": {
             "line": {
              "color": "#E5ECF6",
              "width": 0.5
             },
             "pattern": {
              "fillmode": "overlay",
              "size": 10,
              "solidity": 0.2
             }
            },
            "type": "barpolar"
           }
          ],
          "carpet": [
           {
            "aaxis": {
             "endlinecolor": "#2a3f5f",
             "gridcolor": "white",
             "linecolor": "white",
             "minorgridcolor": "white",
             "startlinecolor": "#2a3f5f"
            },
            "baxis": {
             "endlinecolor": "#2a3f5f",
             "gridcolor": "white",
             "linecolor": "white",
             "minorgridcolor": "white",
             "startlinecolor": "#2a3f5f"
            },
            "type": "carpet"
           }
          ],
          "choropleth": [
           {
            "colorbar": {
             "outlinewidth": 0,
             "ticks": ""
            },
            "type": "choropleth"
           }
          ],
          "contour": [
           {
            "colorbar": {
             "outlinewidth": 0,
             "ticks": ""
            },
            "colorscale": [
             [
              0,
              "#0d0887"
             ],
             [
              0.1111111111111111,
              "#46039f"
             ],
             [
              0.2222222222222222,
              "#7201a8"
             ],
             [
              0.3333333333333333,
              "#9c179e"
             ],
             [
              0.4444444444444444,
              "#bd3786"
             ],
             [
              0.5555555555555556,
              "#d8576b"
             ],
             [
              0.6666666666666666,
              "#ed7953"
             ],
             [
              0.7777777777777778,
              "#fb9f3a"
             ],
             [
              0.8888888888888888,
              "#fdca26"
             ],
             [
              1,
              "#f0f921"
             ]
            ],
            "type": "contour"
           }
          ],
          "contourcarpet": [
           {
            "colorbar": {
             "outlinewidth": 0,
             "ticks": ""
            },
            "type": "contourcarpet"
           }
          ],
          "heatmap": [
           {
            "colorbar": {
             "outlinewidth": 0,
             "ticks": ""
            },
            "colorscale": [
             [
              0,
              "#0d0887"
             ],
             [
              0.1111111111111111,
              "#46039f"
             ],
             [
              0.2222222222222222,
              "#7201a8"
             ],
             [
              0.3333333333333333,
              "#9c179e"
             ],
             [
              0.4444444444444444,
              "#bd3786"
             ],
             [
              0.5555555555555556,
              "#d8576b"
             ],
             [
              0.6666666666666666,
              "#ed7953"
             ],
             [
              0.7777777777777778,
              "#fb9f3a"
             ],
             [
              0.8888888888888888,
              "#fdca26"
             ],
             [
              1,
              "#f0f921"
             ]
            ],
            "type": "heatmap"
           }
          ],
          "heatmapgl": [
           {
            "colorbar": {
             "outlinewidth": 0,
             "ticks": ""
            },
            "colorscale": [
             [
              0,
              "#0d0887"
             ],
             [
              0.1111111111111111,
              "#46039f"
             ],
             [
              0.2222222222222222,
              "#7201a8"
             ],
             [
              0.3333333333333333,
              "#9c179e"
             ],
             [
              0.4444444444444444,
              "#bd3786"
             ],
             [
              0.5555555555555556,
              "#d8576b"
             ],
             [
              0.6666666666666666,
              "#ed7953"
             ],
             [
              0.7777777777777778,
              "#fb9f3a"
             ],
             [
              0.8888888888888888,
              "#fdca26"
             ],
             [
              1,
              "#f0f921"
             ]
            ],
            "type": "heatmapgl"
           }
          ],
          "histogram": [
           {
            "marker": {
             "pattern": {
              "fillmode": "overlay",
              "size": 10,
              "solidity": 0.2
             }
            },
            "type": "histogram"
           }
          ],
          "histogram2d": [
           {
            "colorbar": {
             "outlinewidth": 0,
             "ticks": ""
            },
            "colorscale": [
             [
              0,
              "#0d0887"
             ],
             [
              0.1111111111111111,
              "#46039f"
             ],
             [
              0.2222222222222222,
              "#7201a8"
             ],
             [
              0.3333333333333333,
              "#9c179e"
             ],
             [
              0.4444444444444444,
              "#bd3786"
             ],
             [
              0.5555555555555556,
              "#d8576b"
             ],
             [
              0.6666666666666666,
              "#ed7953"
             ],
             [
              0.7777777777777778,
              "#fb9f3a"
             ],
             [
              0.8888888888888888,
              "#fdca26"
             ],
             [
              1,
              "#f0f921"
             ]
            ],
            "type": "histogram2d"
           }
          ],
          "histogram2dcontour": [
           {
            "colorbar": {
             "outlinewidth": 0,
             "ticks": ""
            },
            "colorscale": [
             [
              0,
              "#0d0887"
             ],
             [
              0.1111111111111111,
              "#46039f"
             ],
             [
              0.2222222222222222,
              "#7201a8"
             ],
             [
              0.3333333333333333,
              "#9c179e"
             ],
             [
              0.4444444444444444,
              "#bd3786"
             ],
             [
              0.5555555555555556,
              "#d8576b"
             ],
             [
              0.6666666666666666,
              "#ed7953"
             ],
             [
              0.7777777777777778,
              "#fb9f3a"
             ],
             [
              0.8888888888888888,
              "#fdca26"
             ],
             [
              1,
              "#f0f921"
             ]
            ],
            "type": "histogram2dcontour"
           }
          ],
          "mesh3d": [
           {
            "colorbar": {
             "outlinewidth": 0,
             "ticks": ""
            },
            "type": "mesh3d"
           }
          ],
          "parcoords": [
           {
            "line": {
             "colorbar": {
              "outlinewidth": 0,
              "ticks": ""
             }
            },
            "type": "parcoords"
           }
          ],
          "pie": [
           {
            "automargin": true,
            "type": "pie"
           }
          ],
          "scatter": [
           {
            "fillpattern": {
             "fillmode": "overlay",
             "size": 10,
             "solidity": 0.2
            },
            "type": "scatter"
           }
          ],
          "scatter3d": [
           {
            "line": {
             "colorbar": {
              "outlinewidth": 0,
              "ticks": ""
             }
            },
            "marker": {
             "colorbar": {
              "outlinewidth": 0,
              "ticks": ""
             }
            },
            "type": "scatter3d"
           }
          ],
          "scattercarpet": [
           {
            "marker": {
             "colorbar": {
              "outlinewidth": 0,
              "ticks": ""
             }
            },
            "type": "scattercarpet"
           }
          ],
          "scattergeo": [
           {
            "marker": {
             "colorbar": {
              "outlinewidth": 0,
              "ticks": ""
             }
            },
            "type": "scattergeo"
           }
          ],
          "scattergl": [
           {
            "marker": {
             "colorbar": {
              "outlinewidth": 0,
              "ticks": ""
             }
            },
            "type": "scattergl"
           }
          ],
          "scattermapbox": [
           {
            "marker": {
             "colorbar": {
              "outlinewidth": 0,
              "ticks": ""
             }
            },
            "type": "scattermapbox"
           }
          ],
          "scatterpolar": [
           {
            "marker": {
             "colorbar": {
              "outlinewidth": 0,
              "ticks": ""
             }
            },
            "type": "scatterpolar"
           }
          ],
          "scatterpolargl": [
           {
            "marker": {
             "colorbar": {
              "outlinewidth": 0,
              "ticks": ""
             }
            },
            "type": "scatterpolargl"
           }
          ],
          "scatterternary": [
           {
            "marker": {
             "colorbar": {
              "outlinewidth": 0,
              "ticks": ""
             }
            },
            "type": "scatterternary"
           }
          ],
          "surface": [
           {
            "colorbar": {
             "outlinewidth": 0,
             "ticks": ""
            },
            "colorscale": [
             [
              0,
              "#0d0887"
             ],
             [
              0.1111111111111111,
              "#46039f"
             ],
             [
              0.2222222222222222,
              "#7201a8"
             ],
             [
              0.3333333333333333,
              "#9c179e"
             ],
             [
              0.4444444444444444,
              "#bd3786"
             ],
             [
              0.5555555555555556,
              "#d8576b"
             ],
             [
              0.6666666666666666,
              "#ed7953"
             ],
             [
              0.7777777777777778,
              "#fb9f3a"
             ],
             [
              0.8888888888888888,
              "#fdca26"
             ],
             [
              1,
              "#f0f921"
             ]
            ],
            "type": "surface"
           }
          ],
          "table": [
           {
            "cells": {
             "fill": {
              "color": "#EBF0F8"
             },
             "line": {
              "color": "white"
             }
            },
            "header": {
             "fill": {
              "color": "#C8D4E3"
             },
             "line": {
              "color": "white"
             }
            },
            "type": "table"
           }
          ]
         },
         "layout": {
          "annotationdefaults": {
           "arrowcolor": "#2a3f5f",
           "arrowhead": 0,
           "arrowwidth": 1
          },
          "autotypenumbers": "strict",
          "coloraxis": {
           "colorbar": {
            "outlinewidth": 0,
            "ticks": ""
           }
          },
          "colorscale": {
           "diverging": [
            [
             0,
             "#8e0152"
            ],
            [
             0.1,
             "#c51b7d"
            ],
            [
             0.2,
             "#de77ae"
            ],
            [
             0.3,
             "#f1b6da"
            ],
            [
             0.4,
             "#fde0ef"
            ],
            [
             0.5,
             "#f7f7f7"
            ],
            [
             0.6,
             "#e6f5d0"
            ],
            [
             0.7,
             "#b8e186"
            ],
            [
             0.8,
             "#7fbc41"
            ],
            [
             0.9,
             "#4d9221"
            ],
            [
             1,
             "#276419"
            ]
           ],
           "sequential": [
            [
             0,
             "#0d0887"
            ],
            [
             0.1111111111111111,
             "#46039f"
            ],
            [
             0.2222222222222222,
             "#7201a8"
            ],
            [
             0.3333333333333333,
             "#9c179e"
            ],
            [
             0.4444444444444444,
             "#bd3786"
            ],
            [
             0.5555555555555556,
             "#d8576b"
            ],
            [
             0.6666666666666666,
             "#ed7953"
            ],
            [
             0.7777777777777778,
             "#fb9f3a"
            ],
            [
             0.8888888888888888,
             "#fdca26"
            ],
            [
             1,
             "#f0f921"
            ]
           ],
           "sequentialminus": [
            [
             0,
             "#0d0887"
            ],
            [
             0.1111111111111111,
             "#46039f"
            ],
            [
             0.2222222222222222,
             "#7201a8"
            ],
            [
             0.3333333333333333,
             "#9c179e"
            ],
            [
             0.4444444444444444,
             "#bd3786"
            ],
            [
             0.5555555555555556,
             "#d8576b"
            ],
            [
             0.6666666666666666,
             "#ed7953"
            ],
            [
             0.7777777777777778,
             "#fb9f3a"
            ],
            [
             0.8888888888888888,
             "#fdca26"
            ],
            [
             1,
             "#f0f921"
            ]
           ]
          },
          "colorway": [
           "#636efa",
           "#EF553B",
           "#00cc96",
           "#ab63fa",
           "#FFA15A",
           "#19d3f3",
           "#FF6692",
           "#B6E880",
           "#FF97FF",
           "#FECB52"
          ],
          "font": {
           "color": "#2a3f5f"
          },
          "geo": {
           "bgcolor": "white",
           "lakecolor": "white",
           "landcolor": "#E5ECF6",
           "showlakes": true,
           "showland": true,
           "subunitcolor": "white"
          },
          "hoverlabel": {
           "align": "left"
          },
          "hovermode": "closest",
          "mapbox": {
           "style": "light"
          },
          "paper_bgcolor": "white",
          "plot_bgcolor": "#E5ECF6",
          "polar": {
           "angularaxis": {
            "gridcolor": "white",
            "linecolor": "white",
            "ticks": ""
           },
           "bgcolor": "#E5ECF6",
           "radialaxis": {
            "gridcolor": "white",
            "linecolor": "white",
            "ticks": ""
           }
          },
          "scene": {
           "xaxis": {
            "backgroundcolor": "#E5ECF6",
            "gridcolor": "white",
            "gridwidth": 2,
            "linecolor": "white",
            "showbackground": true,
            "ticks": "",
            "zerolinecolor": "white"
           },
           "yaxis": {
            "backgroundcolor": "#E5ECF6",
            "gridcolor": "white",
            "gridwidth": 2,
            "linecolor": "white",
            "showbackground": true,
            "ticks": "",
            "zerolinecolor": "white"
           },
           "zaxis": {
            "backgroundcolor": "#E5ECF6",
            "gridcolor": "white",
            "gridwidth": 2,
            "linecolor": "white",
            "showbackground": true,
            "ticks": "",
            "zerolinecolor": "white"
           }
          },
          "shapedefaults": {
           "line": {
            "color": "#2a3f5f"
           }
          },
          "ternary": {
           "aaxis": {
            "gridcolor": "white",
            "linecolor": "white",
            "ticks": ""
           },
           "baxis": {
            "gridcolor": "white",
            "linecolor": "white",
            "ticks": ""
           },
           "bgcolor": "#E5ECF6",
           "caxis": {
            "gridcolor": "white",
            "linecolor": "white",
            "ticks": ""
           }
          },
          "title": {
           "x": 0.05
          },
          "xaxis": {
           "automargin": true,
           "gridcolor": "white",
           "linecolor": "white",
           "ticks": "",
           "title": {
            "standoff": 15
           },
           "zerolinecolor": "white",
           "zerolinewidth": 2
          },
          "yaxis": {
           "automargin": true,
           "gridcolor": "white",
           "linecolor": "white",
           "ticks": "",
           "title": {
            "standoff": 15
           },
           "zerolinecolor": "white",
           "zerolinewidth": 2
          }
         }
        },
        "title": {
         "text": "Total POIs",
         "x": 0.5
        },
        "xaxis": {
         "anchor": "y",
         "domain": [
          0,
          1
         ],
         "title": {
          "text": "Total POIs"
         }
        },
        "yaxis": {
         "anchor": "x",
         "domain": [
          0,
          1
         ],
         "title": {
          "text": "Bikes"
         }
        }
       }
      }
     },
     "metadata": {},
     "output_type": "display_data"
    }
   ],
   "source": [
    "for category in ['Arts & Entertainment', 'Bars, Restaurants & Cafes', 'Landmarks, Parks & Sports', 'Municipal', 'Retail', 'Schools', 'Total POIs']:\n",
    "    fig=px.scatter(sum_df, x=category, y='Bikes', hover_data = ['Station_name'])\n",
    "    fig.update_layout(title_text=category, title_x=0.5)\n",
    "    fig.show()"
   ]
  },
  {
   "attachments": {},
   "cell_type": "markdown",
   "metadata": {},
   "source": [
    "Based on these graphs, there does not appear to be any relationship between any of the types of POIs or the total number of POIs and the number of bikes at a station."
   ]
  },
  {
   "cell_type": "markdown",
   "metadata": {},
   "source": [
    "# Database"
   ]
  },
  {
   "cell_type": "markdown",
   "metadata": {},
   "source": [
    "Put all your results in an SQLite3 database (remember, SQLite stores its databases as files in your local machine - make sure to create your database in your project's data/ directory!)"
   ]
  },
  {
   "cell_type": "code",
   "execution_count": null,
   "metadata": {},
   "outputs": [],
   "source": []
  },
  {
   "cell_type": "markdown",
   "metadata": {},
   "source": [
    "Look at the data before and after the join to validate your data."
   ]
  },
  {
   "cell_type": "code",
   "execution_count": null,
   "metadata": {},
   "outputs": [],
   "source": []
  }
 ],
 "metadata": {
  "kernelspec": {
   "display_name": "Python 3",
   "language": "python",
   "name": "python3"
  },
  "language_info": {
   "codemirror_mode": {
    "name": "ipython",
    "version": 3
   },
   "file_extension": ".py",
   "mimetype": "text/x-python",
   "name": "python",
   "nbconvert_exporter": "python",
   "pygments_lexer": "ipython3",
   "version": "3.8.16"
  }
 },
 "nbformat": 4,
 "nbformat_minor": 4
}
